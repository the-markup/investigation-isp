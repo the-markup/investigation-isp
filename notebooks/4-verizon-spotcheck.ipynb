{
 "cells": [
  {
   "cell_type": "markdown",
   "metadata": {},
   "source": [
    "# Verizon Spotcheck\n",
    "We re-collected Boston addresses and looked at differences in cost and speed."
   ]
  },
  {
   "cell_type": "code",
   "execution_count": 1,
   "metadata": {},
   "outputs": [],
   "source": [
    "import glob\n",
    "from tqdm import tqdm\n",
    "from multiprocess import Pool\n",
    "\n",
    "import pandas as pd\n",
    "\n",
    "from parsers import verizon_workflow"
   ]
  },
  {
   "cell_type": "code",
   "execution_count": 2,
   "metadata": {},
   "outputs": [],
   "source": [
    "# inputs\n",
    "fn_verizon = '../data/output/speed_price_verizon.csv.gz'\n",
    "pattern_spotcheck = '../data/intermediary/isp_spotcheck/verizon/*/*.geojson.gz'"
   ]
  },
  {
   "cell_type": "code",
   "execution_count": 3,
   "metadata": {},
   "outputs": [
    {
     "name": "stderr",
     "output_type": "stream",
     "text": [
      "100%|██████████| 549/549 [00:01<00:00, 433.51it/s]\n"
     ]
    }
   ],
   "source": [
    "data_verizon = []\n",
    "files = glob.glob(pattern_spotcheck)\n",
    "with Pool(20) as pool:\n",
    "    for record in tqdm(pool.imap_unordered(verizon_workflow, files), \n",
    "                       total=len(files)):\n",
    "        data_verizon.extend(record)\n",
    "verizon_spot = pd.DataFrame(data_verizon)\n",
    "del data_verizon"
   ]
  },
  {
   "cell_type": "code",
   "execution_count": 4,
   "metadata": {},
   "outputs": [
    {
     "name": "stderr",
     "output_type": "stream",
     "text": [
      "/home/chino/miniconda3/lib/python3.8/site-packages/IPython/core/interactiveshell.py:3331: DtypeWarning: Columns (18) have mixed types.Specify dtype option on import or set low_memory=False.\n",
      "  exec(code_obj, self.user_global_ns, self.user_ns)\n"
     ]
    }
   ],
   "source": [
    "verizon = pd.read_csv(fn_verizon, compression='gzip')"
   ]
  },
  {
   "cell_type": "code",
   "execution_count": 5,
   "metadata": {},
   "outputs": [
    {
     "data": {
      "text/html": [
       "<div>\n",
       "<style scoped>\n",
       "    .dataframe tbody tr th:only-of-type {\n",
       "        vertical-align: middle;\n",
       "    }\n",
       "\n",
       "    .dataframe tbody tr th {\n",
       "        vertical-align: top;\n",
       "    }\n",
       "\n",
       "    .dataframe thead th {\n",
       "        text-align: right;\n",
       "    }\n",
       "</style>\n",
       "<table border=\"1\" class=\"dataframe\">\n",
       "  <thead>\n",
       "    <tr style=\"text-align: right;\">\n",
       "      <th></th>\n",
       "      <th>address_full</th>\n",
       "      <th>incorporated_place</th>\n",
       "      <th>major_city</th>\n",
       "      <th>state</th>\n",
       "      <th>lat</th>\n",
       "      <th>lon</th>\n",
       "      <th>availability_status</th>\n",
       "      <th>block_group_x</th>\n",
       "      <th>collection_datetime</th>\n",
       "      <th>in_service</th>\n",
       "      <th>...</th>\n",
       "      <th>lon_closest_fiber</th>\n",
       "      <th>block_group_y</th>\n",
       "      <th>geoid</th>\n",
       "      <th>race_perc_non_white</th>\n",
       "      <th>income_lmi</th>\n",
       "      <th>ppl_per_sq_mile</th>\n",
       "      <th>n_providers</th>\n",
       "      <th>income_dollars_below_median</th>\n",
       "      <th>internet_perc_broadband</th>\n",
       "      <th>median_household_income</th>\n",
       "    </tr>\n",
       "  </thead>\n",
       "  <tbody>\n",
       "    <tr>\n",
       "      <th>0</th>\n",
       "      <td>1305 QUINCY ST NW, WASHINGTON, DC, 20011-5525,...</td>\n",
       "      <td>Washington city</td>\n",
       "      <td>washington</td>\n",
       "      <td>DC</td>\n",
       "      <td>38.937824</td>\n",
       "      <td>-77.030087</td>\n",
       "      <td>NaN</td>\n",
       "      <td>110010025023</td>\n",
       "      <td>1650485042</td>\n",
       "      <td>True</td>\n",
       "      <td>...</td>\n",
       "      <td>-77.030087</td>\n",
       "      <td>3</td>\n",
       "      <td>110010025023</td>\n",
       "      <td>0.603035</td>\n",
       "      <td>1.522468</td>\n",
       "      <td>8304.094343</td>\n",
       "      <td>3.0</td>\n",
       "      <td>-47462.0</td>\n",
       "      <td>1.0</td>\n",
       "      <td>138304</td>\n",
       "    </tr>\n",
       "    <tr>\n",
       "      <th>1</th>\n",
       "      <td>1342 QUINCY ST NW, WASHINGTON, DC, 20011-5526,...</td>\n",
       "      <td>Washington city</td>\n",
       "      <td>washington</td>\n",
       "      <td>DC</td>\n",
       "      <td>38.937413</td>\n",
       "      <td>-77.031098</td>\n",
       "      <td>NaN</td>\n",
       "      <td>110010025023</td>\n",
       "      <td>1650485004</td>\n",
       "      <td>True</td>\n",
       "      <td>...</td>\n",
       "      <td>-77.031098</td>\n",
       "      <td>3</td>\n",
       "      <td>110010025023</td>\n",
       "      <td>0.603035</td>\n",
       "      <td>1.522468</td>\n",
       "      <td>8304.094343</td>\n",
       "      <td>3.0</td>\n",
       "      <td>-47462.0</td>\n",
       "      <td>1.0</td>\n",
       "      <td>138304</td>\n",
       "    </tr>\n",
       "  </tbody>\n",
       "</table>\n",
       "<p>2 rows × 32 columns</p>\n",
       "</div>"
      ],
      "text/plain": [
       "                                        address_full incorporated_place  \\\n",
       "0  1305 QUINCY ST NW, WASHINGTON, DC, 20011-5525,...    Washington city   \n",
       "1  1342 QUINCY ST NW, WASHINGTON, DC, 20011-5526,...    Washington city   \n",
       "\n",
       "   major_city state        lat        lon  availability_status  block_group_x  \\\n",
       "0  washington    DC  38.937824 -77.030087                  NaN   110010025023   \n",
       "1  washington    DC  38.937413 -77.031098                  NaN   110010025023   \n",
       "\n",
       "   collection_datetime  in_service  ... lon_closest_fiber  block_group_y  \\\n",
       "0           1650485042        True  ...        -77.030087              3   \n",
       "1           1650485004        True  ...        -77.031098              3   \n",
       "\n",
       "          geoid race_perc_non_white  income_lmi ppl_per_sq_mile n_providers  \\\n",
       "0  110010025023            0.603035    1.522468     8304.094343         3.0   \n",
       "1  110010025023            0.603035    1.522468     8304.094343         3.0   \n",
       "\n",
       "  income_dollars_below_median internet_perc_broadband  median_household_income  \n",
       "0                    -47462.0                     1.0                   138304  \n",
       "1                    -47462.0                     1.0                   138304  \n",
       "\n",
       "[2 rows x 32 columns]"
      ]
     },
     "execution_count": 5,
     "metadata": {},
     "output_type": "execute_result"
    }
   ],
   "source": [
    "verizon.head(2)"
   ]
  },
  {
   "cell_type": "code",
   "execution_count": 6,
   "metadata": {},
   "outputs": [],
   "source": [
    "cols = [\n",
    "    'price_new', 'price_old', 'speed_down_new', 'speed_down_old'\n",
    "]"
   ]
  },
  {
   "cell_type": "code",
   "execution_count": 7,
   "metadata": {},
   "outputs": [],
   "source": [
    "verizon_spot = verizon_spot.merge(verizon[['lat', 'lon', 'price', 'speed_down', 'race_perc_non_white', 'income_dollars_below_median']],\n",
    "                                  how='inner',\n",
    "                                  on=['lat', 'lon'], suffixes=[\"_new\", \"_old\"])"
   ]
  },
  {
   "cell_type": "code",
   "execution_count": 8,
   "metadata": {},
   "outputs": [
    {
     "data": {
      "text/html": [
       "<div>\n",
       "<style scoped>\n",
       "    .dataframe tbody tr th:only-of-type {\n",
       "        vertical-align: middle;\n",
       "    }\n",
       "\n",
       "    .dataframe tbody tr th {\n",
       "        vertical-align: top;\n",
       "    }\n",
       "\n",
       "    .dataframe thead th {\n",
       "        text-align: right;\n",
       "    }\n",
       "</style>\n",
       "<table border=\"1\" class=\"dataframe\">\n",
       "  <thead>\n",
       "    <tr style=\"text-align: right;\">\n",
       "      <th></th>\n",
       "      <th>price_new</th>\n",
       "      <th>price_old</th>\n",
       "      <th>speed_down_new</th>\n",
       "      <th>speed_down_old</th>\n",
       "    </tr>\n",
       "  </thead>\n",
       "  <tbody>\n",
       "    <tr>\n",
       "      <th>0</th>\n",
       "      <td>NaN</td>\n",
       "      <td>40.00</td>\n",
       "      <td>0.0</td>\n",
       "      <td>10.0</td>\n",
       "    </tr>\n",
       "    <tr>\n",
       "      <th>1</th>\n",
       "      <td>NaN</td>\n",
       "      <td>NaN</td>\n",
       "      <td>0.0</td>\n",
       "      <td>0.0</td>\n",
       "    </tr>\n",
       "    <tr>\n",
       "      <th>2</th>\n",
       "      <td>NaN</td>\n",
       "      <td>NaN</td>\n",
       "      <td>0.0</td>\n",
       "      <td>0.0</td>\n",
       "    </tr>\n",
       "    <tr>\n",
       "      <th>3</th>\n",
       "      <td>NaN</td>\n",
       "      <td>NaN</td>\n",
       "      <td>0.0</td>\n",
       "      <td>0.0</td>\n",
       "    </tr>\n",
       "    <tr>\n",
       "      <th>4</th>\n",
       "      <td>NaN</td>\n",
       "      <td>NaN</td>\n",
       "      <td>0.0</td>\n",
       "      <td>0.0</td>\n",
       "    </tr>\n",
       "    <tr>\n",
       "      <th>...</th>\n",
       "      <td>...</td>\n",
       "      <td>...</td>\n",
       "      <td>...</td>\n",
       "      <td>...</td>\n",
       "    </tr>\n",
       "    <tr>\n",
       "      <th>13428</th>\n",
       "      <td>NaN</td>\n",
       "      <td>39.99</td>\n",
       "      <td>0.0</td>\n",
       "      <td>300.0</td>\n",
       "    </tr>\n",
       "    <tr>\n",
       "      <th>13431</th>\n",
       "      <td>49.99</td>\n",
       "      <td>39.99</td>\n",
       "      <td>300.0</td>\n",
       "      <td>300.0</td>\n",
       "    </tr>\n",
       "    <tr>\n",
       "      <th>13434</th>\n",
       "      <td>39.99</td>\n",
       "      <td>49.99</td>\n",
       "      <td>300.0</td>\n",
       "      <td>300.0</td>\n",
       "    </tr>\n",
       "    <tr>\n",
       "      <th>13439</th>\n",
       "      <td>39.99</td>\n",
       "      <td>49.99</td>\n",
       "      <td>300.0</td>\n",
       "      <td>300.0</td>\n",
       "    </tr>\n",
       "    <tr>\n",
       "      <th>13440</th>\n",
       "      <td>49.99</td>\n",
       "      <td>39.99</td>\n",
       "      <td>300.0</td>\n",
       "      <td>300.0</td>\n",
       "    </tr>\n",
       "  </tbody>\n",
       "</table>\n",
       "<p>6207 rows × 4 columns</p>\n",
       "</div>"
      ],
      "text/plain": [
       "       price_new  price_old  speed_down_new  speed_down_old\n",
       "0            NaN      40.00             0.0            10.0\n",
       "1            NaN        NaN             0.0             0.0\n",
       "2            NaN        NaN             0.0             0.0\n",
       "3            NaN        NaN             0.0             0.0\n",
       "4            NaN        NaN             0.0             0.0\n",
       "...          ...        ...             ...             ...\n",
       "13428        NaN      39.99             0.0           300.0\n",
       "13431      49.99      39.99           300.0           300.0\n",
       "13434      39.99      49.99           300.0           300.0\n",
       "13439      39.99      49.99           300.0           300.0\n",
       "13440      49.99      39.99           300.0           300.0\n",
       "\n",
       "[6207 rows x 4 columns]"
      ]
     },
     "execution_count": 8,
     "metadata": {},
     "output_type": "execute_result"
    }
   ],
   "source": [
    "verizon_spot[verizon_spot['price_new'] != verizon_spot['price_old']][cols]"
   ]
  },
  {
   "cell_type": "code",
   "execution_count": 21,
   "metadata": {},
   "outputs": [],
   "source": [
    "verizon_spot.price_new.replace({40: 39.99}, inplace=True)\n",
    "verizon_spot.price_old.replace({40: 39.99}, inplace=True)"
   ]
  },
  {
   "cell_type": "code",
   "execution_count": 9,
   "metadata": {},
   "outputs": [
    {
     "data": {
      "text/plain": [
       "(count    9838.000000\n",
       " mean       40.507827\n",
       " std         2.514814\n",
       " min        39.990000\n",
       " 25%        39.990000\n",
       " 50%        39.990000\n",
       " 75%        39.990000\n",
       " max        84.990000\n",
       " Name: price_new, dtype: float64,\n",
       " count    9823.000000\n",
       " mean       42.345551\n",
       " std         4.389192\n",
       " min        39.990000\n",
       " 25%        39.990000\n",
       " 50%        39.990000\n",
       " 75%        40.000000\n",
       " max        64.990000\n",
       " Name: price_old, dtype: float64)"
      ]
     },
     "execution_count": 9,
     "metadata": {},
     "output_type": "execute_result"
    }
   ],
   "source": [
    "verizon_spot.price_new.describe(), verizon_spot.price_old.describe()"
   ]
  },
  {
   "cell_type": "code",
   "execution_count": 23,
   "metadata": {},
   "outputs": [],
   "source": [
    "price_changed = verizon_spot[(verizon_spot['price_new'] != verizon_spot['price_old']) &\n",
    "             (~verizon_spot.price_new.isnull()) &\n",
    "             (~verizon_spot.price_old.isnull())]"
   ]
  },
  {
   "cell_type": "code",
   "execution_count": 11,
   "metadata": {},
   "outputs": [
    {
     "data": {
      "text/html": [
       "<div>\n",
       "<style scoped>\n",
       "    .dataframe tbody tr th:only-of-type {\n",
       "        vertical-align: middle;\n",
       "    }\n",
       "\n",
       "    .dataframe tbody tr th {\n",
       "        vertical-align: top;\n",
       "    }\n",
       "\n",
       "    .dataframe thead th {\n",
       "        text-align: right;\n",
       "    }\n",
       "</style>\n",
       "<table border=\"1\" class=\"dataframe\">\n",
       "  <thead>\n",
       "    <tr style=\"text-align: right;\">\n",
       "      <th></th>\n",
       "      <th>price_new</th>\n",
       "      <th>price_old</th>\n",
       "      <th>speed_down_new</th>\n",
       "      <th>speed_down_old</th>\n",
       "    </tr>\n",
       "  </thead>\n",
       "  <tbody>\n",
       "    <tr>\n",
       "      <th>15</th>\n",
       "      <td>49.99</td>\n",
       "      <td>39.99</td>\n",
       "      <td>300.0</td>\n",
       "      <td>300.0</td>\n",
       "    </tr>\n",
       "    <tr>\n",
       "      <th>25</th>\n",
       "      <td>39.99</td>\n",
       "      <td>49.99</td>\n",
       "      <td>300.0</td>\n",
       "      <td>300.0</td>\n",
       "    </tr>\n",
       "    <tr>\n",
       "      <th>27</th>\n",
       "      <td>49.99</td>\n",
       "      <td>39.99</td>\n",
       "      <td>300.0</td>\n",
       "      <td>300.0</td>\n",
       "    </tr>\n",
       "    <tr>\n",
       "      <th>28</th>\n",
       "      <td>39.99</td>\n",
       "      <td>49.99</td>\n",
       "      <td>300.0</td>\n",
       "      <td>300.0</td>\n",
       "    </tr>\n",
       "    <tr>\n",
       "      <th>34</th>\n",
       "      <td>39.99</td>\n",
       "      <td>49.99</td>\n",
       "      <td>300.0</td>\n",
       "      <td>300.0</td>\n",
       "    </tr>\n",
       "    <tr>\n",
       "      <th>...</th>\n",
       "      <td>...</td>\n",
       "      <td>...</td>\n",
       "      <td>...</td>\n",
       "      <td>...</td>\n",
       "    </tr>\n",
       "    <tr>\n",
       "      <th>13427</th>\n",
       "      <td>39.99</td>\n",
       "      <td>49.99</td>\n",
       "      <td>300.0</td>\n",
       "      <td>300.0</td>\n",
       "    </tr>\n",
       "    <tr>\n",
       "      <th>13431</th>\n",
       "      <td>49.99</td>\n",
       "      <td>39.99</td>\n",
       "      <td>300.0</td>\n",
       "      <td>300.0</td>\n",
       "    </tr>\n",
       "    <tr>\n",
       "      <th>13434</th>\n",
       "      <td>39.99</td>\n",
       "      <td>49.99</td>\n",
       "      <td>300.0</td>\n",
       "      <td>300.0</td>\n",
       "    </tr>\n",
       "    <tr>\n",
       "      <th>13439</th>\n",
       "      <td>39.99</td>\n",
       "      <td>49.99</td>\n",
       "      <td>300.0</td>\n",
       "      <td>300.0</td>\n",
       "    </tr>\n",
       "    <tr>\n",
       "      <th>13440</th>\n",
       "      <td>49.99</td>\n",
       "      <td>39.99</td>\n",
       "      <td>300.0</td>\n",
       "      <td>300.0</td>\n",
       "    </tr>\n",
       "  </tbody>\n",
       "</table>\n",
       "<p>2365 rows × 4 columns</p>\n",
       "</div>"
      ],
      "text/plain": [
       "       price_new  price_old  speed_down_new  speed_down_old\n",
       "15         49.99      39.99           300.0           300.0\n",
       "25         39.99      49.99           300.0           300.0\n",
       "27         49.99      39.99           300.0           300.0\n",
       "28         39.99      49.99           300.0           300.0\n",
       "34         39.99      49.99           300.0           300.0\n",
       "...          ...        ...             ...             ...\n",
       "13427      39.99      49.99           300.0           300.0\n",
       "13431      49.99      39.99           300.0           300.0\n",
       "13434      39.99      49.99           300.0           300.0\n",
       "13439      39.99      49.99           300.0           300.0\n",
       "13440      49.99      39.99           300.0           300.0\n",
       "\n",
       "[2365 rows x 4 columns]"
      ]
     },
     "execution_count": 11,
     "metadata": {},
     "output_type": "execute_result"
    }
   ],
   "source": [
    "price_changed[cols]"
   ]
  },
  {
   "cell_type": "code",
   "execution_count": 24,
   "metadata": {},
   "outputs": [
    {
     "data": {
      "text/plain": [
       "0.12774957698815567"
      ]
     },
     "execution_count": 24,
     "metadata": {},
     "output_type": "execute_result"
    }
   ],
   "source": [
    "len(price_changed[\n",
    "    price_changed['price_new'] > price_changed['price_old']\n",
    "]) / len(price_changed)"
   ]
  },
  {
   "cell_type": "code",
   "execution_count": 25,
   "metadata": {},
   "outputs": [
    {
     "data": {
      "text/plain": [
       "0.8722504230118443"
      ]
     },
     "execution_count": 25,
     "metadata": {},
     "output_type": "execute_result"
    }
   ],
   "source": [
    "len(price_changed[\n",
    "    price_changed['price_new'] < price_changed['price_old']\n",
    "]) / len(price_changed)"
   ]
  },
  {
   "cell_type": "code",
   "execution_count": 26,
   "metadata": {},
   "outputs": [],
   "source": [
    "# note none of the speeds change.\n",
    "speed_changed = verizon_spot[\n",
    "    (verizon_spot['speed_down_new'] != verizon_spot['speed_down_old']) &\n",
    "    (~verizon_spot['price_new'].isnull()) &\n",
    "    (~verizon_spot['price_old'].isnull())\n",
    "]"
   ]
  },
  {
   "cell_type": "code",
   "execution_count": 46,
   "metadata": {},
   "outputs": [
    {
     "data": {
      "text/plain": [
       "4030"
      ]
     },
     "execution_count": 46,
     "metadata": {},
     "output_type": "execute_result"
    }
   ],
   "source": [
    "len(verizon_spot[verizon_spot.speed_down_old <= 25])"
   ]
  },
  {
   "cell_type": "code",
   "execution_count": 44,
   "metadata": {},
   "outputs": [
    {
     "data": {
      "text/plain": [
       "340"
      ]
     },
     "execution_count": 44,
     "metadata": {},
     "output_type": "execute_result"
    }
   ],
   "source": [
    "len(speed_changed)"
   ]
  },
  {
   "cell_type": "code",
   "execution_count": 27,
   "metadata": {},
   "outputs": [
    {
     "data": {
      "text/html": [
       "<div>\n",
       "<style scoped>\n",
       "    .dataframe tbody tr th:only-of-type {\n",
       "        vertical-align: middle;\n",
       "    }\n",
       "\n",
       "    .dataframe tbody tr th {\n",
       "        vertical-align: top;\n",
       "    }\n",
       "\n",
       "    .dataframe thead th {\n",
       "        text-align: right;\n",
       "    }\n",
       "</style>\n",
       "<table border=\"1\" class=\"dataframe\">\n",
       "  <thead>\n",
       "    <tr style=\"text-align: right;\">\n",
       "      <th></th>\n",
       "      <th>price_new</th>\n",
       "      <th>price_old</th>\n",
       "      <th>speed_down_new</th>\n",
       "      <th>speed_down_old</th>\n",
       "    </tr>\n",
       "  </thead>\n",
       "  <tbody>\n",
       "    <tr>\n",
       "      <th>5498</th>\n",
       "      <td>39.99</td>\n",
       "      <td>39.99</td>\n",
       "      <td>300.0</td>\n",
       "      <td>10.0</td>\n",
       "    </tr>\n",
       "  </tbody>\n",
       "</table>\n",
       "</div>"
      ],
      "text/plain": [
       "      price_new  price_old  speed_down_new  speed_down_old\n",
       "5498      39.99      39.99           300.0            10.0"
      ]
     },
     "execution_count": 27,
     "metadata": {},
     "output_type": "execute_result"
    }
   ],
   "source": [
    "speed_changed[speed_changed['speed_down_new'] == 300][cols]"
   ]
  },
  {
   "cell_type": "code",
   "execution_count": 28,
   "metadata": {},
   "outputs": [
    {
     "data": {
      "text/html": [
       "<div>\n",
       "<style scoped>\n",
       "    .dataframe tbody tr th:only-of-type {\n",
       "        vertical-align: middle;\n",
       "    }\n",
       "\n",
       "    .dataframe tbody tr th {\n",
       "        vertical-align: top;\n",
       "    }\n",
       "\n",
       "    .dataframe thead th {\n",
       "        text-align: right;\n",
       "    }\n",
       "</style>\n",
       "<table border=\"1\" class=\"dataframe\">\n",
       "  <thead>\n",
       "    <tr style=\"text-align: right;\">\n",
       "      <th></th>\n",
       "      <th>price_new</th>\n",
       "      <th>price_old</th>\n",
       "      <th>speed_down_new</th>\n",
       "      <th>speed_down_old</th>\n",
       "    </tr>\n",
       "  </thead>\n",
       "  <tbody>\n",
       "    <tr>\n",
       "      <th>1147</th>\n",
       "      <td>39.99</td>\n",
       "      <td>39.99</td>\n",
       "      <td>50.0</td>\n",
       "      <td>300.0</td>\n",
       "    </tr>\n",
       "  </tbody>\n",
       "</table>\n",
       "</div>"
      ],
      "text/plain": [
       "      price_new  price_old  speed_down_new  speed_down_old\n",
       "1147      39.99      39.99            50.0           300.0"
      ]
     },
     "execution_count": 28,
     "metadata": {},
     "output_type": "execute_result"
    }
   ],
   "source": [
    "speed_changed[speed_changed['speed_down_old'] == 300][cols]"
   ]
  },
  {
   "cell_type": "code",
   "execution_count": 47,
   "metadata": {},
   "outputs": [
    {
     "data": {
      "text/plain": [
       "10.0     329\n",
       "7.1        9\n",
       "300.0      1\n",
       "15.0       1\n",
       "Name: speed_down_old, dtype: int64"
      ]
     },
     "execution_count": 47,
     "metadata": {},
     "output_type": "execute_result"
    }
   ],
   "source": [
    "speed_changed['speed_down_old'].value_counts()"
   ]
  },
  {
   "cell_type": "markdown",
   "metadata": {},
   "source": [
    "all but one instance of a household being offered different speeds was for Verizon's \"High Speed Internet\""
   ]
  },
  {
   "cell_type": "code",
   "execution_count": 29,
   "metadata": {},
   "outputs": [
    {
     "data": {
      "text/plain": [
       "count       441.000000\n",
       "mean       3131.877551\n",
       "std       46188.593798\n",
       "min     -108990.000000\n",
       "25%      -32720.000000\n",
       "50%       13459.000000\n",
       "75%       47704.000000\n",
       "max       67113.000000\n",
       "Name: income_dollars_below_median, dtype: float64"
      ]
     },
     "execution_count": 29,
     "metadata": {},
     "output_type": "execute_result"
    }
   ],
   "source": [
    "verizon_spot[verizon_spot['price_new'] > 39.99].income_dollars_below_median.describe()"
   ]
  },
  {
   "cell_type": "code",
   "execution_count": 30,
   "metadata": {},
   "outputs": [
    {
     "data": {
      "text/plain": [
       "count      2151.000000\n",
       "mean      -7185.992562\n",
       "std       46976.896763\n",
       "min     -119952.000000\n",
       "25%      -49483.000000\n",
       "50%       -6410.000000\n",
       "75%       35794.500000\n",
       "max       67113.000000\n",
       "Name: income_dollars_below_median, dtype: float64"
      ]
     },
     "execution_count": 30,
     "metadata": {},
     "output_type": "execute_result"
    }
   ],
   "source": [
    "verizon_spot[verizon_spot['price_old'] > 39.99].income_dollars_below_median.describe()"
   ]
  },
  {
   "cell_type": "code",
   "execution_count": 31,
   "metadata": {},
   "outputs": [
    {
     "data": {
      "text/plain": [
       "count    456.000000\n",
       "mean       0.514393\n",
       "std        0.310580\n",
       "min        0.000000\n",
       "25%        0.237150\n",
       "50%        0.521895\n",
       "75%        0.831577\n",
       "max        1.000000\n",
       "Name: race_perc_non_white, dtype: float64"
      ]
     },
     "execution_count": 31,
     "metadata": {},
     "output_type": "execute_result"
    }
   ],
   "source": [
    "verizon_spot[verizon_spot['price_new'] > 39.99].race_perc_non_white.describe()"
   ]
  },
  {
   "cell_type": "code",
   "execution_count": 32,
   "metadata": {},
   "outputs": [
    {
     "data": {
      "text/plain": [
       "count    2264.000000\n",
       "mean        0.467853\n",
       "std         0.322709\n",
       "min         0.000000\n",
       "25%         0.175947\n",
       "50%         0.447368\n",
       "75%         0.762159\n",
       "max         1.000000\n",
       "Name: race_perc_non_white, dtype: float64"
      ]
     },
     "execution_count": 32,
     "metadata": {},
     "output_type": "execute_result"
    }
   ],
   "source": [
    "verizon_spot[verizon_spot['price_old'] > 39.99].race_perc_non_white.describe()"
   ]
  },
  {
   "cell_type": "code",
   "execution_count": 33,
   "metadata": {},
   "outputs": [
    {
     "data": {
      "text/plain": [
       "count     12534.000000\n",
       "mean      -2769.074358\n",
       "std       46325.610972\n",
       "min     -138247.000000\n",
       "25%      -39119.000000\n",
       "50%        2965.000000\n",
       "75%       39965.000000\n",
       "max       67113.000000\n",
       "Name: income_dollars_below_median, dtype: float64"
      ]
     },
     "execution_count": 33,
     "metadata": {},
     "output_type": "execute_result"
    }
   ],
   "source": [
    "# median income for everything\n",
    "verizon_spot.income_dollars_below_median.describe()"
   ]
  },
  {
   "cell_type": "code",
   "execution_count": 34,
   "metadata": {},
   "outputs": [
    {
     "data": {
      "text/plain": [
       "count    13452.000000\n",
       "mean         0.491652\n",
       "std          0.313279\n",
       "min          0.000000\n",
       "25%          0.220965\n",
       "50%          0.447368\n",
       "75%          0.822259\n",
       "max          1.000000\n",
       "Name: race_perc_non_white, dtype: float64"
      ]
     },
     "execution_count": 34,
     "metadata": {},
     "output_type": "execute_result"
    }
   ],
   "source": [
    "verizon_spot.race_perc_non_white.describe()"
   ]
  },
  {
   "cell_type": "markdown",
   "metadata": {},
   "source": [
    "The median income was lower in higher cost plans from the first sample, but not the second sample.\n",
    "\n",
    "The racial demographics were less white for more expensive plans"
   ]
  },
  {
   "cell_type": "code",
   "execution_count": 37,
   "metadata": {},
   "outputs": [
    {
     "data": {
      "text/plain": [
       "39.99    0.953649\n",
       "49.99    0.042895\n",
       "64.99    0.003354\n",
       "84.99    0.000102\n",
       "Name: price_new, dtype: float64"
      ]
     },
     "execution_count": 37,
     "metadata": {},
     "output_type": "execute_result"
    }
   ],
   "source": [
    "verizon_spot[verizon_spot.price_old != '39.99'].price_new.value_counts(normalize=True)"
   ]
  },
  {
   "cell_type": "code",
   "execution_count": 38,
   "metadata": {},
   "outputs": [
    {
     "data": {
      "text/plain": [
       "39.99    0.769521\n",
       "49.99    0.227120\n",
       "64.99    0.003359\n",
       "Name: price_old, dtype: float64"
      ]
     },
     "execution_count": 38,
     "metadata": {},
     "output_type": "execute_result"
    }
   ],
   "source": [
    "verizon_spot[verizon_spot.price_new != '39.99'].price_old.value_counts(normalize=True)"
   ]
  },
  {
   "cell_type": "markdown",
   "metadata": {},
   "source": [
    "95 percent of offers that were over 39.99 were switched back to 39.99 when we checked again. Similarly, 77 percent of offers that are now over 39.99 were originally 39.99."
   ]
  }
 ],
 "metadata": {
  "kernelspec": {
   "display_name": "Python 3",
   "language": "python",
   "name": "python3"
  },
  "language_info": {
   "codemirror_mode": {
    "name": "ipython",
    "version": 3
   },
   "file_extension": ".py",
   "mimetype": "text/x-python",
   "name": "python",
   "nbconvert_exporter": "python",
   "pygments_lexer": "ipython3",
   "version": "3.8.1"
  }
 },
 "nbformat": 4,
 "nbformat_minor": 4
}
