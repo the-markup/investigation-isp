{
 "cells": [
  {
   "cell_type": "markdown",
   "metadata": {},
   "source": [
    "# Verizon Spotcheck\n",
    "We re-collected Boston addresses and looked at differences in cost and speed."
   ]
  },
  {
   "cell_type": "code",
   "execution_count": 1,
   "metadata": {},
   "outputs": [],
   "source": [
    "import glob\n",
    "from tqdm import tqdm\n",
    "from multiprocess import Pool\n",
    "\n",
    "import pandas as pd\n",
    "\n",
    "from parsers import verizon_workflow"
   ]
  },
  {
   "cell_type": "code",
   "execution_count": 2,
   "metadata": {},
   "outputs": [],
   "source": [
    "# inputs\n",
    "fn_verizon = '../data/output/speed_price_verizon.csv.gz'\n",
    "pattern_spotcheck = '../data/intermediary/isp_spotcheck/verizon/*/*.geojson.gz'"
   ]
  },
  {
   "cell_type": "code",
   "execution_count": 3,
   "metadata": {},
   "outputs": [
    {
     "name": "stderr",
     "output_type": "stream",
     "text": [
      "\r",
      "  0%|          | 0/549 [00:00<?, ?it/s]"
     ]
    },
    {
     "name": "stderr",
     "output_type": "stream",
     "text": [
      "\r",
      "  5%|▍         | 27/549 [00:00<00:02, 257.79it/s]"
     ]
    },
    {
     "name": "stderr",
     "output_type": "stream",
     "text": [
      "\r",
      " 10%|▉         | 53/549 [00:00<00:02, 235.27it/s]"
     ]
    },
    {
     "name": "stderr",
     "output_type": "stream",
     "text": [
      "\r",
      " 14%|█▍        | 77/549 [00:00<00:02, 197.92it/s]"
     ]
    },
    {
     "name": "stderr",
     "output_type": "stream",
     "text": [
      "\r",
      " 18%|█▊        | 98/549 [00:00<00:02, 196.27it/s]"
     ]
    },
    {
     "name": "stderr",
     "output_type": "stream",
     "text": [
      "\r",
      " 21%|██▏       | 118/549 [00:00<00:02, 185.09it/s]"
     ]
    },
    {
     "name": "stderr",
     "output_type": "stream",
     "text": [
      "\r",
      " 25%|██▌       | 138/549 [00:00<00:02, 178.39it/s]"
     ]
    },
    {
     "name": "stderr",
     "output_type": "stream",
     "text": [
      "\r",
      " 30%|██▉       | 163/549 [00:00<00:01, 195.28it/s]"
     ]
    },
    {
     "name": "stderr",
     "output_type": "stream",
     "text": [
      "\r",
      " 33%|███▎      | 183/549 [00:00<00:02, 173.12it/s]"
     ]
    },
    {
     "name": "stderr",
     "output_type": "stream",
     "text": [
      "\r",
      " 37%|███▋      | 204/549 [00:01<00:01, 180.42it/s]"
     ]
    },
    {
     "name": "stderr",
     "output_type": "stream",
     "text": [
      "\r",
      " 42%|████▏     | 229/549 [00:01<00:01, 195.65it/s]"
     ]
    },
    {
     "name": "stderr",
     "output_type": "stream",
     "text": [
      "\r",
      " 45%|████▌     | 249/549 [00:01<00:01, 191.72it/s]"
     ]
    },
    {
     "name": "stderr",
     "output_type": "stream",
     "text": [
      "\r",
      " 49%|████▉     | 269/549 [00:01<00:01, 193.84it/s]"
     ]
    },
    {
     "name": "stderr",
     "output_type": "stream",
     "text": [
      "\r",
      " 53%|█████▎    | 293/549 [00:01<00:01, 201.82it/s]"
     ]
    },
    {
     "name": "stderr",
     "output_type": "stream",
     "text": [
      "\r",
      " 58%|█████▊    | 318/549 [00:01<00:01, 215.25it/s]"
     ]
    },
    {
     "name": "stderr",
     "output_type": "stream",
     "text": [
      "\r",
      " 62%|██████▏   | 340/549 [00:01<00:01, 204.79it/s]"
     ]
    },
    {
     "name": "stderr",
     "output_type": "stream",
     "text": [
      "\r",
      " 66%|██████▌   | 362/549 [00:01<00:00, 205.84it/s]"
     ]
    },
    {
     "name": "stderr",
     "output_type": "stream",
     "text": [
      "\r",
      " 70%|██████▉   | 383/549 [00:01<00:00, 179.74it/s]"
     ]
    },
    {
     "name": "stderr",
     "output_type": "stream",
     "text": [
      "\r",
      " 73%|███████▎  | 402/549 [00:02<00:00, 176.56it/s]"
     ]
    },
    {
     "name": "stderr",
     "output_type": "stream",
     "text": [
      "\r",
      " 77%|███████▋  | 421/549 [00:02<00:00, 174.69it/s]"
     ]
    },
    {
     "name": "stderr",
     "output_type": "stream",
     "text": [
      "\r",
      " 82%|████████▏ | 451/549 [00:02<00:00, 197.68it/s]"
     ]
    },
    {
     "name": "stderr",
     "output_type": "stream",
     "text": [
      "\r",
      " 86%|████████▌ | 472/549 [00:02<00:00, 192.54it/s]"
     ]
    },
    {
     "name": "stderr",
     "output_type": "stream",
     "text": [
      "\r",
      " 90%|████████▉ | 492/549 [00:02<00:00, 184.20it/s]"
     ]
    },
    {
     "name": "stderr",
     "output_type": "stream",
     "text": [
      "\r",
      " 94%|█████████▍| 517/549 [00:02<00:00, 194.36it/s]"
     ]
    },
    {
     "name": "stderr",
     "output_type": "stream",
     "text": [
      "\r",
      " 99%|█████████▉| 546/549 [00:02<00:00, 190.63it/s]"
     ]
    },
    {
     "name": "stderr",
     "output_type": "stream",
     "text": [
      "\r",
      "100%|██████████| 549/549 [00:02<00:00, 190.52it/s]"
     ]
    },
    {
     "name": "stderr",
     "output_type": "stream",
     "text": [
      "\n"
     ]
    }
   ],
   "source": [
    "data_verizon = []\n",
    "files = glob.glob(pattern_spotcheck)\n",
    "with Pool(20) as pool:\n",
    "    for record in tqdm(pool.imap_unordered(verizon_workflow, files), \n",
    "                       total=len(files)):\n",
    "        data_verizon.extend(record)\n",
    "verizon_spot = pd.DataFrame(data_verizon)\n",
    "del data_verizon"
   ]
  },
  {
   "cell_type": "code",
   "execution_count": 4,
   "metadata": {},
   "outputs": [],
   "source": [
    "verizon = pd.read_csv(fn_verizon, compression='gzip')"
   ]
  },
  {
   "cell_type": "code",
   "execution_count": 5,
   "metadata": {},
   "outputs": [
    {
     "data": {
      "text/html": [
       "<div>\n",
       "<style scoped>\n",
       "    .dataframe tbody tr th:only-of-type {\n",
       "        vertical-align: middle;\n",
       "    }\n",
       "\n",
       "    .dataframe tbody tr th {\n",
       "        vertical-align: top;\n",
       "    }\n",
       "\n",
       "    .dataframe thead th {\n",
       "        text-align: right;\n",
       "    }\n",
       "</style>\n",
       "<table border=\"1\" class=\"dataframe\">\n",
       "  <thead>\n",
       "    <tr style=\"text-align: right;\">\n",
       "      <th></th>\n",
       "      <th>address_full</th>\n",
       "      <th>incorporated_place</th>\n",
       "      <th>major_city</th>\n",
       "      <th>state</th>\n",
       "      <th>lat</th>\n",
       "      <th>lon</th>\n",
       "      <th>block_group</th>\n",
       "      <th>collection_datetime</th>\n",
       "      <th>in_service</th>\n",
       "      <th>provider</th>\n",
       "      <th>...</th>\n",
       "      <th>address_full_closest_fiber</th>\n",
       "      <th>lat_closest_fiber</th>\n",
       "      <th>lon_closest_fiber</th>\n",
       "      <th>race_perc_non_white</th>\n",
       "      <th>income_lmi</th>\n",
       "      <th>ppl_per_sq_mile</th>\n",
       "      <th>n_providers</th>\n",
       "      <th>income_dollars_below_median</th>\n",
       "      <th>internet_perc_broadband</th>\n",
       "      <th>median_household_income</th>\n",
       "    </tr>\n",
       "  </thead>\n",
       "  <tbody>\n",
       "    <tr>\n",
       "      <th>0</th>\n",
       "      <td>4879 POTOMAC AVE NW, WASHINGTON, DC, 20007-153...</td>\n",
       "      <td>Washington city</td>\n",
       "      <td>washington</td>\n",
       "      <td>DC</td>\n",
       "      <td>38.918017</td>\n",
       "      <td>-77.098932</td>\n",
       "      <td>110010008014</td>\n",
       "      <td>1650442663</td>\n",
       "      <td>True</td>\n",
       "      <td>Verizon</td>\n",
       "      <td>...</td>\n",
       "      <td>4879 POTOMAC AVE NW, WASHINGTON, DC, 20007-153...</td>\n",
       "      <td>38.918017</td>\n",
       "      <td>-77.098932</td>\n",
       "      <td>0.264579</td>\n",
       "      <td>1.621585</td>\n",
       "      <td>1569.712349</td>\n",
       "      <td>3.0</td>\n",
       "      <td>-56466.0</td>\n",
       "      <td>1.0</td>\n",
       "      <td>147308</td>\n",
       "    </tr>\n",
       "    <tr>\n",
       "      <th>1</th>\n",
       "      <td>4836 RESERVOIR RD NW, WASHINGTON, DC, 20007-15...</td>\n",
       "      <td>Washington city</td>\n",
       "      <td>washington</td>\n",
       "      <td>DC</td>\n",
       "      <td>38.915848</td>\n",
       "      <td>-77.096080</td>\n",
       "      <td>110010008014</td>\n",
       "      <td>1650442656</td>\n",
       "      <td>False</td>\n",
       "      <td>Verizon</td>\n",
       "      <td>...</td>\n",
       "      <td>4840 RESERVOIR RD NW, WASHINGTON, DC, 20007-15...</td>\n",
       "      <td>38.915914</td>\n",
       "      <td>-77.096268</td>\n",
       "      <td>0.264579</td>\n",
       "      <td>1.621585</td>\n",
       "      <td>1569.712349</td>\n",
       "      <td>3.0</td>\n",
       "      <td>-56466.0</td>\n",
       "      <td>1.0</td>\n",
       "      <td>147308</td>\n",
       "    </tr>\n",
       "  </tbody>\n",
       "</table>\n",
       "<p>2 rows × 31 columns</p>\n",
       "</div>"
      ],
      "text/plain": [
       "                                        address_full incorporated_place  \\\n",
       "0  4879 POTOMAC AVE NW, WASHINGTON, DC, 20007-153...    Washington city   \n",
       "1  4836 RESERVOIR RD NW, WASHINGTON, DC, 20007-15...    Washington city   \n",
       "\n",
       "   major_city state        lat        lon   block_group  collection_datetime  \\\n",
       "0  washington    DC  38.918017 -77.098932  110010008014           1650442663   \n",
       "1  washington    DC  38.915848 -77.096080  110010008014           1650442656   \n",
       "\n",
       "   in_service provider  ...  \\\n",
       "0        True  Verizon  ...   \n",
       "1       False  Verizon  ...   \n",
       "\n",
       "                          address_full_closest_fiber  lat_closest_fiber  \\\n",
       "0  4879 POTOMAC AVE NW, WASHINGTON, DC, 20007-153...          38.918017   \n",
       "1  4840 RESERVOIR RD NW, WASHINGTON, DC, 20007-15...          38.915914   \n",
       "\n",
       "  lon_closest_fiber  race_perc_non_white income_lmi ppl_per_sq_mile  \\\n",
       "0        -77.098932             0.264579   1.621585     1569.712349   \n",
       "1        -77.096268             0.264579   1.621585     1569.712349   \n",
       "\n",
       "   n_providers  income_dollars_below_median internet_perc_broadband  \\\n",
       "0          3.0                     -56466.0                     1.0   \n",
       "1          3.0                     -56466.0                     1.0   \n",
       "\n",
       "  median_household_income  \n",
       "0                  147308  \n",
       "1                  147308  \n",
       "\n",
       "[2 rows x 31 columns]"
      ]
     },
     "execution_count": 5,
     "metadata": {},
     "output_type": "execute_result"
    }
   ],
   "source": [
    "verizon.head(2)"
   ]
  },
  {
   "cell_type": "code",
   "execution_count": 6,
   "metadata": {},
   "outputs": [],
   "source": [
    "cols = [\n",
    "    'price_new', 'price_old', 'speed_down_new', 'speed_down_old'\n",
    "]"
   ]
  },
  {
   "cell_type": "code",
   "execution_count": 7,
   "metadata": {},
   "outputs": [],
   "source": [
    "verizon_spot = verizon_spot.merge(verizon[['lat', 'lon', 'price', 'speed_down', 'race_perc_non_white', 'income_dollars_below_median']],\n",
    "                                  how='inner',\n",
    "                                  on=['lat', 'lon'], suffixes=[\"_new\", \"_old\"])"
   ]
  },
  {
   "cell_type": "code",
   "execution_count": 8,
   "metadata": {},
   "outputs": [
    {
     "data": {
      "text/html": [
       "<div>\n",
       "<style scoped>\n",
       "    .dataframe tbody tr th:only-of-type {\n",
       "        vertical-align: middle;\n",
       "    }\n",
       "\n",
       "    .dataframe tbody tr th {\n",
       "        vertical-align: top;\n",
       "    }\n",
       "\n",
       "    .dataframe thead th {\n",
       "        text-align: right;\n",
       "    }\n",
       "</style>\n",
       "<table border=\"1\" class=\"dataframe\">\n",
       "  <thead>\n",
       "    <tr style=\"text-align: right;\">\n",
       "      <th></th>\n",
       "      <th>price_new</th>\n",
       "      <th>price_old</th>\n",
       "      <th>speed_down_new</th>\n",
       "      <th>speed_down_old</th>\n",
       "    </tr>\n",
       "  </thead>\n",
       "  <tbody>\n",
       "    <tr>\n",
       "      <th>0</th>\n",
       "      <td>NaN</td>\n",
       "      <td>40.00</td>\n",
       "      <td>0.0</td>\n",
       "      <td>10.0</td>\n",
       "    </tr>\n",
       "    <tr>\n",
       "      <th>2</th>\n",
       "      <td>NaN</td>\n",
       "      <td>NaN</td>\n",
       "      <td>0.0</td>\n",
       "      <td>0.0</td>\n",
       "    </tr>\n",
       "    <tr>\n",
       "      <th>3</th>\n",
       "      <td>NaN</td>\n",
       "      <td>NaN</td>\n",
       "      <td>0.0</td>\n",
       "      <td>0.0</td>\n",
       "    </tr>\n",
       "    <tr>\n",
       "      <th>4</th>\n",
       "      <td>NaN</td>\n",
       "      <td>NaN</td>\n",
       "      <td>0.0</td>\n",
       "      <td>0.0</td>\n",
       "    </tr>\n",
       "    <tr>\n",
       "      <th>5</th>\n",
       "      <td>NaN</td>\n",
       "      <td>NaN</td>\n",
       "      <td>0.0</td>\n",
       "      <td>0.0</td>\n",
       "    </tr>\n",
       "    <tr>\n",
       "      <th>...</th>\n",
       "      <td>...</td>\n",
       "      <td>...</td>\n",
       "      <td>...</td>\n",
       "      <td>...</td>\n",
       "    </tr>\n",
       "    <tr>\n",
       "      <th>13437</th>\n",
       "      <td>39.99</td>\n",
       "      <td>49.99</td>\n",
       "      <td>300.0</td>\n",
       "      <td>300.0</td>\n",
       "    </tr>\n",
       "    <tr>\n",
       "      <th>13444</th>\n",
       "      <td>NaN</td>\n",
       "      <td>NaN</td>\n",
       "      <td>0.0</td>\n",
       "      <td>0.0</td>\n",
       "    </tr>\n",
       "    <tr>\n",
       "      <th>13445</th>\n",
       "      <td>NaN</td>\n",
       "      <td>NaN</td>\n",
       "      <td>0.0</td>\n",
       "      <td>0.0</td>\n",
       "    </tr>\n",
       "    <tr>\n",
       "      <th>13446</th>\n",
       "      <td>39.99</td>\n",
       "      <td>49.99</td>\n",
       "      <td>300.0</td>\n",
       "      <td>300.0</td>\n",
       "    </tr>\n",
       "    <tr>\n",
       "      <th>13447</th>\n",
       "      <td>49.99</td>\n",
       "      <td>39.99</td>\n",
       "      <td>300.0</td>\n",
       "      <td>300.0</td>\n",
       "    </tr>\n",
       "  </tbody>\n",
       "</table>\n",
       "<p>6207 rows × 4 columns</p>\n",
       "</div>"
      ],
      "text/plain": [
       "       price_new  price_old  speed_down_new  speed_down_old\n",
       "0            NaN      40.00             0.0            10.0\n",
       "2            NaN        NaN             0.0             0.0\n",
       "3            NaN        NaN             0.0             0.0\n",
       "4            NaN        NaN             0.0             0.0\n",
       "5            NaN        NaN             0.0             0.0\n",
       "...          ...        ...             ...             ...\n",
       "13437      39.99      49.99           300.0           300.0\n",
       "13444        NaN        NaN             0.0             0.0\n",
       "13445        NaN        NaN             0.0             0.0\n",
       "13446      39.99      49.99           300.0           300.0\n",
       "13447      49.99      39.99           300.0           300.0\n",
       "\n",
       "[6207 rows x 4 columns]"
      ]
     },
     "execution_count": 8,
     "metadata": {},
     "output_type": "execute_result"
    }
   ],
   "source": [
    "verizon_spot[verizon_spot['price_new'] != verizon_spot['price_old']][cols]"
   ]
  },
  {
   "cell_type": "code",
   "execution_count": 9,
   "metadata": {},
   "outputs": [],
   "source": [
    "verizon_spot.price_new.replace({40: 39.99}, inplace=True)\n",
    "verizon_spot.price_old.replace({40: 39.99}, inplace=True)"
   ]
  },
  {
   "cell_type": "code",
   "execution_count": 10,
   "metadata": {},
   "outputs": [
    {
     "data": {
      "text/plain": [
       "(count    9838.000000\n",
       " mean       40.507382\n",
       " std         2.514905\n",
       " min        39.990000\n",
       " 25%        39.990000\n",
       " 50%        39.990000\n",
       " 75%        39.990000\n",
       " max        84.990000\n",
       " Name: price_new, dtype: float64,\n",
       " count    9823.000000\n",
       " mean       42.345187\n",
       " std         4.389388\n",
       " min        39.990000\n",
       " 25%        39.990000\n",
       " 50%        39.990000\n",
       " 75%        39.990000\n",
       " max        64.990000\n",
       " Name: price_old, dtype: float64)"
      ]
     },
     "execution_count": 10,
     "metadata": {},
     "output_type": "execute_result"
    }
   ],
   "source": [
    "verizon_spot.price_new.describe(), verizon_spot.price_old.describe()"
   ]
  },
  {
   "cell_type": "code",
   "execution_count": 11,
   "metadata": {},
   "outputs": [],
   "source": [
    "price_changed = verizon_spot[(verizon_spot['price_new'] != verizon_spot['price_old']) &\n",
    "             (~verizon_spot.price_new.isnull()) &\n",
    "             (~verizon_spot.price_old.isnull())]"
   ]
  },
  {
   "cell_type": "code",
   "execution_count": 12,
   "metadata": {},
   "outputs": [
    {
     "data": {
      "text/html": [
       "<div>\n",
       "<style scoped>\n",
       "    .dataframe tbody tr th:only-of-type {\n",
       "        vertical-align: middle;\n",
       "    }\n",
       "\n",
       "    .dataframe tbody tr th {\n",
       "        vertical-align: top;\n",
       "    }\n",
       "\n",
       "    .dataframe thead th {\n",
       "        text-align: right;\n",
       "    }\n",
       "</style>\n",
       "<table border=\"1\" class=\"dataframe\">\n",
       "  <thead>\n",
       "    <tr style=\"text-align: right;\">\n",
       "      <th></th>\n",
       "      <th>price_new</th>\n",
       "      <th>price_old</th>\n",
       "      <th>speed_down_new</th>\n",
       "      <th>speed_down_old</th>\n",
       "    </tr>\n",
       "  </thead>\n",
       "  <tbody>\n",
       "    <tr>\n",
       "      <th>16</th>\n",
       "      <td>49.99</td>\n",
       "      <td>39.99</td>\n",
       "      <td>300.0</td>\n",
       "      <td>300.0</td>\n",
       "    </tr>\n",
       "    <tr>\n",
       "      <th>25</th>\n",
       "      <td>39.99</td>\n",
       "      <td>49.99</td>\n",
       "      <td>300.0</td>\n",
       "      <td>300.0</td>\n",
       "    </tr>\n",
       "    <tr>\n",
       "      <th>27</th>\n",
       "      <td>39.99</td>\n",
       "      <td>49.99</td>\n",
       "      <td>300.0</td>\n",
       "      <td>300.0</td>\n",
       "    </tr>\n",
       "    <tr>\n",
       "      <th>33</th>\n",
       "      <td>49.99</td>\n",
       "      <td>39.99</td>\n",
       "      <td>300.0</td>\n",
       "      <td>300.0</td>\n",
       "    </tr>\n",
       "    <tr>\n",
       "      <th>35</th>\n",
       "      <td>39.99</td>\n",
       "      <td>49.99</td>\n",
       "      <td>300.0</td>\n",
       "      <td>300.0</td>\n",
       "    </tr>\n",
       "    <tr>\n",
       "      <th>...</th>\n",
       "      <td>...</td>\n",
       "      <td>...</td>\n",
       "      <td>...</td>\n",
       "      <td>...</td>\n",
       "    </tr>\n",
       "    <tr>\n",
       "      <th>13426</th>\n",
       "      <td>39.99</td>\n",
       "      <td>49.99</td>\n",
       "      <td>300.0</td>\n",
       "      <td>300.0</td>\n",
       "    </tr>\n",
       "    <tr>\n",
       "      <th>13431</th>\n",
       "      <td>49.99</td>\n",
       "      <td>39.99</td>\n",
       "      <td>300.0</td>\n",
       "      <td>300.0</td>\n",
       "    </tr>\n",
       "    <tr>\n",
       "      <th>13437</th>\n",
       "      <td>39.99</td>\n",
       "      <td>49.99</td>\n",
       "      <td>300.0</td>\n",
       "      <td>300.0</td>\n",
       "    </tr>\n",
       "    <tr>\n",
       "      <th>13446</th>\n",
       "      <td>39.99</td>\n",
       "      <td>49.99</td>\n",
       "      <td>300.0</td>\n",
       "      <td>300.0</td>\n",
       "    </tr>\n",
       "    <tr>\n",
       "      <th>13447</th>\n",
       "      <td>49.99</td>\n",
       "      <td>39.99</td>\n",
       "      <td>300.0</td>\n",
       "      <td>300.0</td>\n",
       "    </tr>\n",
       "  </tbody>\n",
       "</table>\n",
       "<p>2364 rows × 4 columns</p>\n",
       "</div>"
      ],
      "text/plain": [
       "       price_new  price_old  speed_down_new  speed_down_old\n",
       "16         49.99      39.99           300.0           300.0\n",
       "25         39.99      49.99           300.0           300.0\n",
       "27         39.99      49.99           300.0           300.0\n",
       "33         49.99      39.99           300.0           300.0\n",
       "35         39.99      49.99           300.0           300.0\n",
       "...          ...        ...             ...             ...\n",
       "13426      39.99      49.99           300.0           300.0\n",
       "13431      49.99      39.99           300.0           300.0\n",
       "13437      39.99      49.99           300.0           300.0\n",
       "13446      39.99      49.99           300.0           300.0\n",
       "13447      49.99      39.99           300.0           300.0\n",
       "\n",
       "[2364 rows x 4 columns]"
      ]
     },
     "execution_count": 12,
     "metadata": {},
     "output_type": "execute_result"
    }
   ],
   "source": [
    "price_changed[cols]"
   ]
  },
  {
   "cell_type": "code",
   "execution_count": 13,
   "metadata": {},
   "outputs": [
    {
     "data": {
      "text/plain": [
       "0.12774957698815567"
      ]
     },
     "execution_count": 13,
     "metadata": {},
     "output_type": "execute_result"
    }
   ],
   "source": [
    "len(price_changed[\n",
    "    price_changed['price_new'] > price_changed['price_old']\n",
    "]) / len(price_changed)"
   ]
  },
  {
   "cell_type": "code",
   "execution_count": 14,
   "metadata": {},
   "outputs": [
    {
     "data": {
      "text/plain": [
       "0.8722504230118443"
      ]
     },
     "execution_count": 14,
     "metadata": {},
     "output_type": "execute_result"
    }
   ],
   "source": [
    "len(price_changed[\n",
    "    price_changed['price_new'] < price_changed['price_old']\n",
    "]) / len(price_changed)"
   ]
  },
  {
   "cell_type": "code",
   "execution_count": 15,
   "metadata": {},
   "outputs": [],
   "source": [
    "# note none of the speeds change.\n",
    "speed_changed = verizon_spot[\n",
    "    (verizon_spot['speed_down_new'] != verizon_spot['speed_down_old']) &\n",
    "    (~verizon_spot['price_new'].isnull()) &\n",
    "    (~verizon_spot['price_old'].isnull())\n",
    "]"
   ]
  },
  {
   "cell_type": "code",
   "execution_count": 16,
   "metadata": {},
   "outputs": [
    {
     "data": {
      "text/plain": [
       "4030"
      ]
     },
     "execution_count": 16,
     "metadata": {},
     "output_type": "execute_result"
    }
   ],
   "source": [
    "len(verizon_spot[verizon_spot.speed_down_old <= 25])"
   ]
  },
  {
   "cell_type": "code",
   "execution_count": 17,
   "metadata": {},
   "outputs": [
    {
     "data": {
      "text/plain": [
       "340"
      ]
     },
     "execution_count": 17,
     "metadata": {},
     "output_type": "execute_result"
    }
   ],
   "source": [
    "len(speed_changed)"
   ]
  },
  {
   "cell_type": "code",
   "execution_count": 18,
   "metadata": {},
   "outputs": [
    {
     "data": {
      "text/html": [
       "<div>\n",
       "<style scoped>\n",
       "    .dataframe tbody tr th:only-of-type {\n",
       "        vertical-align: middle;\n",
       "    }\n",
       "\n",
       "    .dataframe tbody tr th {\n",
       "        vertical-align: top;\n",
       "    }\n",
       "\n",
       "    .dataframe thead th {\n",
       "        text-align: right;\n",
       "    }\n",
       "</style>\n",
       "<table border=\"1\" class=\"dataframe\">\n",
       "  <thead>\n",
       "    <tr style=\"text-align: right;\">\n",
       "      <th></th>\n",
       "      <th>price_new</th>\n",
       "      <th>price_old</th>\n",
       "      <th>speed_down_new</th>\n",
       "      <th>speed_down_old</th>\n",
       "    </tr>\n",
       "  </thead>\n",
       "  <tbody>\n",
       "    <tr>\n",
       "      <th>5034</th>\n",
       "      <td>39.99</td>\n",
       "      <td>39.99</td>\n",
       "      <td>300.0</td>\n",
       "      <td>10.0</td>\n",
       "    </tr>\n",
       "  </tbody>\n",
       "</table>\n",
       "</div>"
      ],
      "text/plain": [
       "      price_new  price_old  speed_down_new  speed_down_old\n",
       "5034      39.99      39.99           300.0            10.0"
      ]
     },
     "execution_count": 18,
     "metadata": {},
     "output_type": "execute_result"
    }
   ],
   "source": [
    "speed_changed[speed_changed['speed_down_new'] == 300][cols]"
   ]
  },
  {
   "cell_type": "code",
   "execution_count": 19,
   "metadata": {},
   "outputs": [
    {
     "data": {
      "text/html": [
       "<div>\n",
       "<style scoped>\n",
       "    .dataframe tbody tr th:only-of-type {\n",
       "        vertical-align: middle;\n",
       "    }\n",
       "\n",
       "    .dataframe tbody tr th {\n",
       "        vertical-align: top;\n",
       "    }\n",
       "\n",
       "    .dataframe thead th {\n",
       "        text-align: right;\n",
       "    }\n",
       "</style>\n",
       "<table border=\"1\" class=\"dataframe\">\n",
       "  <thead>\n",
       "    <tr style=\"text-align: right;\">\n",
       "      <th></th>\n",
       "      <th>price_new</th>\n",
       "      <th>price_old</th>\n",
       "      <th>speed_down_new</th>\n",
       "      <th>speed_down_old</th>\n",
       "    </tr>\n",
       "  </thead>\n",
       "  <tbody>\n",
       "    <tr>\n",
       "      <th>1028</th>\n",
       "      <td>39.99</td>\n",
       "      <td>39.99</td>\n",
       "      <td>50.0</td>\n",
       "      <td>300.0</td>\n",
       "    </tr>\n",
       "  </tbody>\n",
       "</table>\n",
       "</div>"
      ],
      "text/plain": [
       "      price_new  price_old  speed_down_new  speed_down_old\n",
       "1028      39.99      39.99            50.0           300.0"
      ]
     },
     "execution_count": 19,
     "metadata": {},
     "output_type": "execute_result"
    }
   ],
   "source": [
    "speed_changed[speed_changed['speed_down_old'] == 300][cols]"
   ]
  },
  {
   "cell_type": "code",
   "execution_count": 20,
   "metadata": {},
   "outputs": [
    {
     "data": {
      "text/plain": [
       "10.0     329\n",
       "7.1        9\n",
       "300.0      1\n",
       "15.0       1\n",
       "Name: speed_down_old, dtype: int64"
      ]
     },
     "execution_count": 20,
     "metadata": {},
     "output_type": "execute_result"
    }
   ],
   "source": [
    "speed_changed['speed_down_old'].value_counts()"
   ]
  },
  {
   "cell_type": "markdown",
   "metadata": {},
   "source": [
    "all but one instance of a household being offered different speeds was for Verizon's \"High Speed Internet\""
   ]
  },
  {
   "cell_type": "code",
   "execution_count": 21,
   "metadata": {},
   "outputs": [
    {
     "data": {
      "text/plain": [
       "count       441.000000\n",
       "mean       3131.877551\n",
       "std       46188.593798\n",
       "min     -108990.000000\n",
       "25%      -32720.000000\n",
       "50%       13459.000000\n",
       "75%       47704.000000\n",
       "max       67113.000000\n",
       "Name: income_dollars_below_median, dtype: float64"
      ]
     },
     "execution_count": 21,
     "metadata": {},
     "output_type": "execute_result"
    }
   ],
   "source": [
    "verizon_spot[verizon_spot['price_new'] > 39.99].income_dollars_below_median.describe()"
   ]
  },
  {
   "cell_type": "code",
   "execution_count": 22,
   "metadata": {},
   "outputs": [
    {
     "data": {
      "text/plain": [
       "count      2151.000000\n",
       "mean      -7185.992562\n",
       "std       46976.896763\n",
       "min     -119952.000000\n",
       "25%      -49483.000000\n",
       "50%       -6410.000000\n",
       "75%       35794.500000\n",
       "max       67113.000000\n",
       "Name: income_dollars_below_median, dtype: float64"
      ]
     },
     "execution_count": 22,
     "metadata": {},
     "output_type": "execute_result"
    }
   ],
   "source": [
    "verizon_spot[verizon_spot['price_old'] > 39.99].income_dollars_below_median.describe()"
   ]
  },
  {
   "cell_type": "code",
   "execution_count": 23,
   "metadata": {},
   "outputs": [
    {
     "data": {
      "text/plain": [
       "count    456.000000\n",
       "mean       0.514393\n",
       "std        0.310580\n",
       "min        0.000000\n",
       "25%        0.237150\n",
       "50%        0.521895\n",
       "75%        0.831577\n",
       "max        1.000000\n",
       "Name: race_perc_non_white, dtype: float64"
      ]
     },
     "execution_count": 23,
     "metadata": {},
     "output_type": "execute_result"
    }
   ],
   "source": [
    "verizon_spot[verizon_spot['price_new'] > 39.99].race_perc_non_white.describe()"
   ]
  },
  {
   "cell_type": "code",
   "execution_count": 24,
   "metadata": {},
   "outputs": [
    {
     "data": {
      "text/plain": [
       "count    2264.000000\n",
       "mean        0.467853\n",
       "std         0.322709\n",
       "min         0.000000\n",
       "25%         0.175947\n",
       "50%         0.447368\n",
       "75%         0.762159\n",
       "max         1.000000\n",
       "Name: race_perc_non_white, dtype: float64"
      ]
     },
     "execution_count": 24,
     "metadata": {},
     "output_type": "execute_result"
    }
   ],
   "source": [
    "verizon_spot[verizon_spot['price_old'] > 39.99].race_perc_non_white.describe()"
   ]
  },
  {
   "cell_type": "code",
   "execution_count": 25,
   "metadata": {},
   "outputs": [
    {
     "data": {
      "text/plain": [
       "count     12534.000000\n",
       "mean      -2769.074358\n",
       "std       46325.610972\n",
       "min     -138247.000000\n",
       "25%      -39119.000000\n",
       "50%        2965.000000\n",
       "75%       39965.000000\n",
       "max       67113.000000\n",
       "Name: income_dollars_below_median, dtype: float64"
      ]
     },
     "execution_count": 25,
     "metadata": {},
     "output_type": "execute_result"
    }
   ],
   "source": [
    "# median income for everything\n",
    "verizon_spot.income_dollars_below_median.describe()"
   ]
  },
  {
   "cell_type": "code",
   "execution_count": 26,
   "metadata": {},
   "outputs": [
    {
     "data": {
      "text/plain": [
       "count    13452.000000\n",
       "mean         0.491652\n",
       "std          0.313279\n",
       "min          0.000000\n",
       "25%          0.220965\n",
       "50%          0.447368\n",
       "75%          0.822259\n",
       "max          1.000000\n",
       "Name: race_perc_non_white, dtype: float64"
      ]
     },
     "execution_count": 26,
     "metadata": {},
     "output_type": "execute_result"
    }
   ],
   "source": [
    "verizon_spot.race_perc_non_white.describe()"
   ]
  },
  {
   "cell_type": "markdown",
   "metadata": {},
   "source": [
    "The median income was lower in higher cost plans from the first sample, but not the second sample.\n",
    "\n",
    "The racial demographics were less white for more expensive plans"
   ]
  },
  {
   "cell_type": "code",
   "execution_count": 27,
   "metadata": {},
   "outputs": [
    {
     "data": {
      "text/plain": [
       "39.99    0.953649\n",
       "49.99    0.042895\n",
       "64.99    0.003354\n",
       "84.99    0.000102\n",
       "Name: price_new, dtype: float64"
      ]
     },
     "execution_count": 27,
     "metadata": {},
     "output_type": "execute_result"
    }
   ],
   "source": [
    "verizon_spot[verizon_spot.price_old != '39.99'].price_new.value_counts(normalize=True)"
   ]
  },
  {
   "cell_type": "code",
   "execution_count": 28,
   "metadata": {},
   "outputs": [
    {
     "data": {
      "text/plain": [
       "39.99    0.769521\n",
       "49.99    0.227120\n",
       "64.99    0.003359\n",
       "Name: price_old, dtype: float64"
      ]
     },
     "execution_count": 28,
     "metadata": {},
     "output_type": "execute_result"
    }
   ],
   "source": [
    "verizon_spot[verizon_spot.price_new != '39.99'].price_old.value_counts(normalize=True)"
   ]
  },
  {
   "cell_type": "markdown",
   "metadata": {},
   "source": [
    "95 percent of offers that were over 39.99 were switched back to 39.99 when we checked again. Similarly, 77 percent of offers that are now over 39.99 were originally 39.99."
   ]
  }
 ],
 "metadata": {
  "kernelspec": {
   "display_name": "Python 3",
   "language": "python",
   "name": "python3"
  },
  "language_info": {
   "codemirror_mode": {
    "name": "ipython",
    "version": 3
   },
   "file_extension": ".py",
   "mimetype": "text/x-python",
   "name": "python",
   "nbconvert_exporter": "python",
   "pygments_lexer": "ipython3",
   "version": "3.8.1"
  }
 },
 "nbformat": 4,
 "nbformat_minor": 4
}
