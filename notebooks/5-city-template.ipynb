{
 "cells": [
  {
   "cell_type": "markdown",
   "metadata": {},
   "source": [
    "# City Data Sheets\n",
    "W.I.P.\n",
    "\n",
    "Reference this\n",
    "https://data-dive.com/jupyterlab-markdown-cells-include-variables"
   ]
  },
  {
   "cell_type": "code",
   "execution_count": 1,
   "metadata": {},
   "outputs": [],
   "source": [
    "%load_ext autoreload\n",
    "%autoreload 2"
   ]
  },
  {
   "cell_type": "code",
   "execution_count": 2,
   "metadata": {},
   "outputs": [],
   "source": [
    "from IPython.display import Markdown as md"
   ]
  },
  {
   "cell_type": "markdown",
   "metadata": {},
   "source": [
    "# ISP Data Sheet\n",
    "Leon Yin"
   ]
  },
  {
   "cell_type": "code",
   "execution_count": 3,
   "metadata": {},
   "outputs": [],
   "source": [
    "import glob\n",
    "import pandas as pd\n",
    "from analysis import race, income, redlining, bucket_and_bin, income_labels, race_bins, speed_breakdown"
   ]
  },
  {
   "cell_type": "code",
   "execution_count": 4,
   "metadata": {},
   "outputs": [],
   "source": [
    "from config import cities\n",
    "from utils import read_ndjson"
   ]
  },
  {
   "cell_type": "code",
   "execution_count": 5,
   "metadata": {},
   "outputs": [],
   "source": [
    "isp2isp = {\n",
    "    'att': 'AT&T',\n",
    "    'earthlink': 'EarthLink',\n",
    "    'centurylink': 'CenturyLink',\n",
    "    'verizon': 'Verizon'\n",
    "}"
   ]
  },
  {
   "cell_type": "code",
   "execution_count": 10,
   "metadata": {},
   "outputs": [],
   "source": [
    "record = cities[0]"
   ]
  },
  {
   "cell_type": "code",
   "execution_count": 11,
   "metadata": {},
   "outputs": [
    {
     "data": {
      "text/plain": [
       "'DETROIT'"
      ]
     },
     "execution_count": 11,
     "metadata": {},
     "output_type": "execute_result"
    }
   ],
   "source": [
    "record['city']"
   ]
  },
  {
   "cell_type": "code",
   "execution_count": 12,
   "metadata": {},
   "outputs": [
    {
     "data": {
      "text/plain": [
       "50"
      ]
     },
     "execution_count": 12,
     "metadata": {},
     "output_type": "execute_result"
    }
   ],
   "source": [
    "len(cities)"
   ]
  },
  {
   "cell_type": "code",
   "execution_count": 32,
   "metadata": {},
   "outputs": [
    {
     "data": {
      "text/markdown": [
       "## Detroit, MI."
      ],
      "text/plain": [
       "<IPython.core.display.Markdown object>"
      ]
     },
     "execution_count": 32,
     "metadata": {},
     "output_type": "execute_result"
    }
   ],
   "source": [
    "city = record.pop('city').title()\n",
    "state = record.pop('state')\n",
    "md(f\"## {city}, {state}.\")"
   ]
  },
  {
   "cell_type": "code",
   "execution_count": 13,
   "metadata": {},
   "outputs": [],
   "source": [
    "data_source = \"OpenAddresses\" if \"open_addresses\" in record['fn'] else \"NYC Open Data\""
   ]
  },
  {
   "cell_type": "code",
   "execution_count": 15,
   "metadata": {},
   "outputs": [],
   "source": [
    "n_addresses = len(read_ndjson(record['fn'])"
   ]
  },
  {
   "cell_type": "code",
   "execution_count": 33,
   "metadata": {},
   "outputs": [],
   "source": [
    "isps = [isp2isp.get(k) for k in record.keys()]"
   ]
  },
  {
   "cell_type": "code",
   "execution_count": 34,
   "metadata": {},
   "outputs": [
    {
     "data": {
      "text/plain": [
       "['AT&T', 'EarthLink']"
      ]
     },
     "execution_count": 34,
     "metadata": {},
     "output_type": "execute_result"
    }
   ],
   "source": [
    "isps"
   ]
  },
  {
   "cell_type": "code",
   "execution_count": 23,
   "metadata": {},
   "outputs": [
    {
     "name": "stderr",
     "output_type": "stream",
     "text": [
      "/home/chino/miniconda3/lib/python3.8/site-packages/IPython/core/interactiveshell.py:3331: DtypeWarning: Columns (17) have mixed types.Specify dtype option on import or set low_memory=False.\n",
      "  exec(code_obj, self.user_global_ns, self.user_ns)\n",
      "/home/chino/miniconda3/lib/python3.8/site-packages/IPython/core/interactiveshell.py:3331: DtypeWarning: Columns (18) have mixed types.Specify dtype option on import or set low_memory=False.\n",
      "  exec(code_obj, self.user_global_ns, self.user_ns)\n"
     ]
    }
   ],
   "source": [
    "dataframes = {}\n",
    "if 'AT&T' in isps:\n",
    "    _df = pd.read_csv('../data/output/speed_price_att.csv.gz', compression='gzip')\n",
    "    _df = _df[(_df.major_city == city.lower()) & (_df.state == state)]\n",
    "    dataframes['AT&T'] = _df\n",
    "elif 'Verizon' in isps:\n",
    "    _df = pd.read_csv('../data/output/speed_price_verizon.csv.gz', compression='gzip')\n",
    "    _df = _df[(_df.major_city == city.lower()) & (_df.state == state)]\n",
    "    dataframes['Verizon'] = _df\n",
    "elif 'CenturyLink' in isps:\n",
    "    _df = pd.read_csv('../data/outputs/speed_price_centurylink.csv.gz', compression='gzip')\n",
    "    _df = _df[(_df.major_city == city.lower()) & (_df.state == state)]\n",
    "    dataframes['ECenturyLink'] = _df\n",
    "    \n",
    "if 'EarthLink' in isps:\n",
    "    _df = pd.read_csv('../data/output/speed_price_earthlink.csv.gz', compression='gzip')\n",
    "    _df = _df[(_df.major_city == city.lower()) & (_df.state == state)]\n",
    "    dataframes['EarthLink'] = _df\n",
    "del _df"
   ]
  },
  {
   "cell_type": "code",
   "execution_count": 24,
   "metadata": {},
   "outputs": [
    {
     "data": {
      "text/plain": [
       "{'AT&T':                                 address_full incorporated_place major_city  \\\n",
       " 236587  3753 Montgomery St, Detroit MI 48206       Detroit city    detroit   \n",
       " 236588   3732 Vicksburg St, Detroit MI 48206       Detroit city    detroit   \n",
       " 236589     4007 Whitney St, Detroit MI 48204       Detroit city    detroit   \n",
       " 236590     7439 Dexter Ave, Detroit MI 48206       Detroit city    detroit   \n",
       " 236591   4011 Vicksburg St, Detroit MI 48204       Detroit city    detroit   \n",
       " ...                                      ...                ...        ...   \n",
       " 262999      20214 Steel St, Detroit MI 48235       Detroit city    detroit   \n",
       " 263000   20461 Appoline St, Detroit MI 48235       Detroit city    detroit   \n",
       " 263001   20476 Appoline St, Detroit MI 48235       Detroit city    detroit   \n",
       " 263002   20437 Appoline St, Detroit MI 48235       Detroit city    detroit   \n",
       " 263003   20508 Appoline St, Detroit MI 48235       Detroit city    detroit   \n",
       " \n",
       "        state        lat        lon availability_status   block_group  \\\n",
       " 236587    MI  42.361195 -83.112818    EXISTINGSERVICES  261635334002   \n",
       " 236588    MI  42.362443 -83.113243               GREEN  261635334002   \n",
       " 236589    MI  42.359180 -83.113393               GREEN  261635334002   \n",
       " 236590    MI  42.358532 -83.110211               GREEN  261635334002   \n",
       " 236591    MI  42.361324 -83.114861    EXISTINGSERVICES  261635334002   \n",
       " ...      ...        ...        ...                 ...           ...   \n",
       " 262999    MI  42.442332 -83.172988    EXISTINGSERVICES  261635392004   \n",
       " 263000    MI  42.443959 -83.172619    EXISTINGSERVICES  261635392004   \n",
       " 263001    MI  42.444183 -83.171962               GREEN  261635392004   \n",
       " 263002    MI  42.443630 -83.172607               GREEN  261635392004   \n",
       " 263003    MI  42.444622 -83.171976    EXISTINGSERVICES  261635392004   \n",
       " \n",
       "         collection_datetime provider  ...  income_lmi  ppl_per_sq_mile  \\\n",
       " 236587           1650285096     AT&T  ...         NaN      1455.933998   \n",
       " 236588           1650285114     AT&T  ...         NaN      1455.933998   \n",
       " 236589           1650285106     AT&T  ...         NaN      1455.933998   \n",
       " 236590           1650285103     AT&T  ...         NaN      1455.933998   \n",
       " 236591           1650285096     AT&T  ...         NaN      1455.933998   \n",
       " ...                     ...      ...  ...         ...              ...   \n",
       " 262999           1650293410     AT&T  ...         NaN      1431.896404   \n",
       " 263000           1650293410     AT&T  ...         NaN      1431.896404   \n",
       " 263001           1650293391     AT&T  ...         NaN      1431.896404   \n",
       " 263002           1650293395     AT&T  ...         NaN      1431.896404   \n",
       " 263003           1650293401     AT&T  ...         NaN      1431.896404   \n",
       " \n",
       "        n_providers  income_dollars_below_median internet_perc_subscribed  \\\n",
       " 236587         2.0                          NaN                 0.779592   \n",
       " 236588         2.0                          NaN                 0.779592   \n",
       " 236589         2.0                          NaN                 0.779592   \n",
       " 236590         2.0                          NaN                 0.779592   \n",
       " 236591         2.0                          NaN                 0.779592   \n",
       " ...            ...                          ...                      ...   \n",
       " 262999         2.0                          NaN                 0.844961   \n",
       " 263000         2.0                          NaN                 0.844961   \n",
       " 263001         2.0                          NaN                 0.844961   \n",
       " 263002         2.0                          NaN                 0.844961   \n",
       " 263003         2.0                          NaN                 0.844961   \n",
       " \n",
       "        internet_perc_mobile_only internet_perc_broadband  \\\n",
       " 236587                  0.604082                0.779592   \n",
       " 236588                  0.604082                0.779592   \n",
       " 236589                  0.604082                0.779592   \n",
       " 236590                  0.604082                0.779592   \n",
       " 236591                  0.604082                0.779592   \n",
       " ...                          ...                     ...   \n",
       " 262999                  0.124031                0.844961   \n",
       " 263000                  0.124031                0.844961   \n",
       " 263001                  0.124031                0.844961   \n",
       " 263002                  0.124031                0.844961   \n",
       " 263003                  0.124031                0.844961   \n",
       " \n",
       "        internet_perc_no_access  device_perc_desktop median_household_income  \n",
       " 236587                0.220408             0.228571              -666666666  \n",
       " 236588                0.220408             0.228571              -666666666  \n",
       " 236589                0.220408             0.228571              -666666666  \n",
       " 236590                0.220408             0.228571              -666666666  \n",
       " 236591                0.220408             0.228571              -666666666  \n",
       " ...                        ...                  ...                     ...  \n",
       " 262999                0.155039             0.844961              -666666666  \n",
       " 263000                0.155039             0.844961              -666666666  \n",
       " 263001                0.155039             0.844961              -666666666  \n",
       " 263002                0.155039             0.844961              -666666666  \n",
       " 263003                0.155039             0.844961              -666666666  \n",
       " \n",
       " [26417 rows x 35 columns],\n",
       " 'EarthLink':                                  address_full incorporated_place major_city  \\\n",
       " 269407     5961 Townsend St Detroit, MI 48213       Detroit city    detroit   \n",
       " 269408     5717 Sheridan St Detroit, MI 48213       Detroit city    detroit   \n",
       " 269409     5949 Townsend St Detroit, MI 48213       Detroit city    detroit   \n",
       " 269410      7712 Hendrie St Detroit, MI 48213       Detroit city    detroit   \n",
       " 269411        6170 Field St Detroit, MI 48213       Detroit city    detroit   \n",
       " ...                                       ...                ...        ...   \n",
       " 295318    11343 Westwood St Detroit, MI 48228       Detroit city    detroit   \n",
       " 295319       9629 Minock St Detroit, MI 48228       Detroit city    detroit   \n",
       " 295320  10020 Evergreen Ave Detroit, MI 48228       Detroit city    detroit   \n",
       " 295321      11303 Auburn St Detroit, MI 48228       Detroit city    detroit   \n",
       " 295322       9545 Auburn St Detroit, MI 48228       Detroit city    detroit   \n",
       " \n",
       "        state        lat        lon  availability_status  block_group_x  \\\n",
       " 269407    MI  42.382797 -83.021524                  NaN   261635159002   \n",
       " 269408    MI  42.379790 -83.020773                  NaN   261635159002   \n",
       " 269409    MI  42.382591 -83.021385                  NaN   261635159002   \n",
       " 269410    MI  42.381407 -83.018412                  NaN   261635159002   \n",
       " 269411    MI  42.383799 -83.023980                  NaN   261635159002   \n",
       " ...      ...        ...        ...                  ...            ...   \n",
       " 295318    MI  42.370194 -83.231698                  NaN   261635468004   \n",
       " 295319    MI  42.366669 -83.232795                  NaN   261635468004   \n",
       " 295320    MI  42.368916 -83.235710                  NaN   261635468004   \n",
       " 295321    MI  42.369654 -83.234105                  NaN   261635468004   \n",
       " 295322    MI  42.365488 -83.233974                  NaN   261635468004   \n",
       " \n",
       "         collection_datetime   provider  ...  lon_closest_fiber  block_group_y  \\\n",
       " 269407           1651158173  EarthLink  ...          -81.66174              2   \n",
       " 269408           1651521671  EarthLink  ...          -81.66174              2   \n",
       " 269409           1651482062  EarthLink  ...          -81.66174              2   \n",
       " 269410           1651161692  EarthLink  ...          -81.66174              2   \n",
       " 269411           1651316440  EarthLink  ...          -81.66174              2   \n",
       " ...                     ...        ...  ...                ...            ...   \n",
       " 295318           1651165383  EarthLink  ...          -81.66174              4   \n",
       " 295319           1651078841  EarthLink  ...          -81.66174              4   \n",
       " 295320           1650932798  EarthLink  ...          -81.66174              4   \n",
       " 295321           1651042911  EarthLink  ...          -81.66174              4   \n",
       " 295322           1651323660  EarthLink  ...          -81.66174              4   \n",
       " \n",
       "                geoid race_perc_non_white income_lmi ppl_per_sq_mile  \\\n",
       " 269407  261635159002            0.985075   1.653948      534.102867   \n",
       " 269408  261635159002            0.985075   1.653948      534.102867   \n",
       " 269409  261635159002            0.985075   1.653948      534.102867   \n",
       " 269410  261635159002            0.985075   1.653948      534.102867   \n",
       " 269411  261635159002            0.985075   1.653948      534.102867   \n",
       " ...              ...                 ...        ...             ...   \n",
       " 295318  261635468004            1.000000   0.998277     3195.821864   \n",
       " 295319  261635468004            1.000000   0.998277     3195.821864   \n",
       " 295320  261635468004            1.000000   0.998277     3195.821864   \n",
       " 295321  261635468004            1.000000   0.998277     3195.821864   \n",
       " 295322  261635468004            1.000000   0.998277     3195.821864   \n",
       " \n",
       "        n_providers income_dollars_below_median internet_perc_broadband  \\\n",
       " 269407         2.0                    -21252.0                0.745455   \n",
       " 269408         2.0                    -21252.0                0.745455   \n",
       " 269409         2.0                    -21252.0                0.745455   \n",
       " 269410         2.0                    -21252.0                0.745455   \n",
       " 269411         2.0                    -21252.0                0.745455   \n",
       " ...            ...                         ...                     ...   \n",
       " 295318         2.0                        56.0                0.737226   \n",
       " 295319         2.0                        56.0                0.737226   \n",
       " 295320         2.0                        56.0                0.737226   \n",
       " 295321         2.0                        56.0                0.737226   \n",
       " 295322         2.0                        56.0                0.737226   \n",
       " \n",
       "         median_household_income  \n",
       " 269407                    53750  \n",
       " 269408                    53750  \n",
       " 269409                    53750  \n",
       " 269410                    53750  \n",
       " 269411                    53750  \n",
       " ...                         ...  \n",
       " 295318                    32442  \n",
       " 295319                    32442  \n",
       " 295320                    32442  \n",
       " 295321                    32442  \n",
       " 295322                    32442  \n",
       " \n",
       " [25916 rows x 32 columns]}"
      ]
     },
     "execution_count": 24,
     "metadata": {},
     "output_type": "execute_result"
    }
   ],
   "source": [
    "dataframes"
   ]
  },
  {
   "cell_type": "code",
   "execution_count": 25,
   "metadata": {},
   "outputs": [
    {
     "data": {
      "text/plain": [
       "['AT&T (N=26,417', 'EarthLink (N=25,916']"
      ]
     },
     "execution_count": 25,
     "metadata": {},
     "output_type": "execute_result"
    }
   ],
   "source": [
    "[f\"{k} (N={len(v):,}\" for k,v in dataframes.items()]"
   ]
  },
  {
   "cell_type": "code",
   "execution_count": 28,
   "metadata": {},
   "outputs": [
    {
     "data": {
      "text/markdown": [
       "We found 382,442 addresses for Detroit using the open source dataset OpenAddresses. We collected 10 percent of available addresses for each Census block group from AT&T (N=26,417) and EarthLink (N=25,916) using their service lookup tools."
      ],
      "text/plain": [
       "<IPython.core.display.Markdown object>"
      ]
     },
     "execution_count": 28,
     "metadata": {},
     "output_type": "execute_result"
    }
   ],
   "source": [
    "md(f\"We found {n_addresses:,} addresses for {city} using the open source dataset {data_source}.\"\n",
    "   f\" We collected 10 percent of available addresses for each Census block group from {' and '.join([f'{k} (N={len(v):,})' for k,v in dataframes.items()])} using their service lookup tools.\")"
   ]
  },
  {
   "cell_type": "markdown",
   "metadata": {},
   "source": [
    "## Findings"
   ]
  },
  {
   "cell_type": "code",
   "execution_count": 29,
   "metadata": {},
   "outputs": [
    {
     "data": {
      "text/plain": [
       "[26417, 25916]"
      ]
     },
     "execution_count": 29,
     "metadata": {},
     "output_type": "execute_result"
    }
   ],
   "source": [
    "[len(_) for _ in dataframes.values()]"
   ]
  },
  {
   "cell_type": "code",
   "execution_count": 30,
   "metadata": {},
   "outputs": [
    {
     "data": {
      "text/plain": [
       "dict_keys(['AT&T', 'EarthLink'])"
      ]
     },
     "execution_count": 30,
     "metadata": {},
     "output_type": "execute_result"
    }
   ],
   "source": [
    "dataframes.keys()"
   ]
  },
  {
   "cell_type": "code",
   "execution_count": 35,
   "metadata": {},
   "outputs": [
    {
     "data": {
      "text/markdown": [
       "We found that AT&T does not service 18.8% of addresses we checked."
      ],
      "text/plain": [
       "<IPython.core.display.Markdown object>"
      ]
     },
     "execution_count": 35,
     "metadata": {},
     "output_type": "execute_result"
    }
   ],
   "source": [
    "isp = isps[0]\n",
    "_df = dataframes[isp]\n",
    "_df = bucket_and_bin(_df)\n",
    "perc_unserviceable = len(_df[_df.speed_down == 0]) / len(_df)\n",
    "\n",
    "md(f\"We found that {isp} does not service {perc_unserviceable * 100:.1f}% of addresses we checked.\")"
   ]
  },
  {
   "cell_type": "code",
   "execution_count": 36,
   "metadata": {},
   "outputs": [],
   "source": [
    "_df = _df[_df['speed_down'] != 0]"
   ]
  },
  {
   "cell_type": "code",
   "execution_count": 37,
   "metadata": {},
   "outputs": [
    {
     "data": {
      "text/markdown": [
       "For addresses that AT&T does claim to serve, we found speeds were distributed:"
      ],
      "text/plain": [
       "<IPython.core.display.Markdown object>"
      ]
     },
     "execution_count": 37,
     "metadata": {},
     "output_type": "execute_result"
    }
   ],
   "source": [
    "md(f\"For addresses that AT&T does claim to serve, we found speeds were distributed:\")"
   ]
  },
  {
   "cell_type": "code",
   "execution_count": 38,
   "metadata": {},
   "outputs": [],
   "source": [
    "from analysis import speed_labels, Line2D, plt"
   ]
  },
  {
   "cell_type": "code",
   "execution_count": 39,
   "metadata": {},
   "outputs": [],
   "source": [
    "def speed_breakdown(df, location='National', isp='AT&T'):\n",
    "    categories = set(df.speed_down_bins.unique())\n",
    "    location = city\n",
    "    legend_elements = [Line2D([0], [0], marker='o', color='w', \n",
    "                          label=label, markerfacecolor=c, markersize=10)\n",
    "                   for label, c in speed_labels.items() if label in categories][::-1]    \n",
    "\n",
    "    ax = pd.DataFrame(df.speed_down_bins.value_counts(normalize=True).sort_index()[1:]).T.plot.barh(\n",
    "        stacked=True, figsize=(8, 2.6), \n",
    "        color = [v for k,v in speed_labels.items() if k in categories]\n",
    "    )\n",
    "    # Hide the right and top spines\n",
    "    ax.spines['right'].set_visible(False)\n",
    "    ax.spines['top'].set_visible(False)\n",
    "\n",
    "    # Only show ticks on the left and bottom spines\n",
    "    ax.yaxis.set_ticks_position('left')\n",
    "    ax.xaxis.set_ticks_position('bottom')\n",
    "    \n",
    "    ax.axes.yaxis.set_visible(False)\n",
    "    \n",
    "    ax.set_ylabel(\"\")\n",
    "    labels = ax.get_xticks().tolist()\n",
    "    labels = [int(_* 100) for _ in labels]\n",
    "    labels[0] = \"0%\"\n",
    "    ax.set_xticklabels(labels)\n",
    "    ax.set_xlabel(\"Percentage of residential Internet offers\")\n",
    "\n",
    "    ax.legend(handles=legend_elements[::-1],\n",
    "              loc='lower left', \n",
    "              bbox_to_anchor= (-0.025, 1.0), \n",
    "              ncol=5,\n",
    "              handletextpad=0.0,\n",
    "              labelspacing=0, \n",
    "              borderaxespad=.1, \n",
    "              borderpad=0.1,\n",
    "              frameon=False,\n",
    "              prop={'size': 9.2})\n",
    "\n",
    "    plt.title(f'{isp} {location} Residential Download Speeds (N={len(df):,})',\n",
    "              loc='left', y=1.075, size=15.5)\n"
   ]
  },
  {
   "cell_type": "code",
   "execution_count": 40,
   "metadata": {},
   "outputs": [
    {
     "name": "stderr",
     "output_type": "stream",
     "text": [
      "<ipython-input-39-efc4ffc6efea>:26: UserWarning: FixedFormatter should only be used together with FixedLocator\n",
      "  ax.set_xticklabels(labels)\n"
     ]
    },
    {
     "data": {
      "image/png": "[encoded data removed]",
      "text/plain": [
       "<Figure size 576x187.2 with 1 Axes>"
      ]
     },
     "metadata": {
      "needs_background": "light"
     },
     "output_type": "display_data"
    }
   ],
   "source": [
    "speed_breakdown(_df)"
   ]
  },
  {
   "cell_type": "code",
   "execution_count": 41,
   "metadata": {},
   "outputs": [],
   "source": [
    "speed_min = _df.speed_down.min() \n",
    "speed_max = _df.speed_down.max()"
   ]
  },
  {
   "cell_type": "code",
   "execution_count": 42,
   "metadata": {},
   "outputs": [
    {
     "data": {
      "text/markdown": [
       "We found plans at the same price with download speeds ranging from 0.768 to 300.0 Mbps."
      ],
      "text/plain": [
       "<IPython.core.display.Markdown object>"
      ]
     },
     "execution_count": 42,
     "metadata": {},
     "output_type": "execute_result"
    }
   ],
   "source": [
    "md(f\"We found plans at the same price with download speeds ranging from {speed_min} to {speed_max} Mbps.\")"
   ]
  },
  {
   "cell_type": "code",
   "execution_count": 43,
   "metadata": {},
   "outputs": [],
   "source": [
    "perc_fast = len(_df[(_df.speed_down >= 100) & (_df.speed_up >= 20)]) / len(_df)"
   ]
  },
  {
   "cell_type": "code",
   "execution_count": 44,
   "metadata": {},
   "outputs": [],
   "source": [
    "perc_slow = len(_df[_df.speed_down < 25]) / len(_df)"
   ]
  },
  {
   "cell_type": "code",
   "execution_count": 45,
   "metadata": {},
   "outputs": [],
   "source": [
    "# if perc_slow - perc_fast > 0:\n",
    "    "
   ]
  },
  {
   "cell_type": "code",
   "execution_count": 46,
   "metadata": {},
   "outputs": [
    {
     "data": {
      "text/markdown": [
       "We found that 30.2% of households have Internet with speeds of at least 100 down 20 up."
      ],
      "text/plain": [
       "<IPython.core.display.Markdown object>"
      ]
     },
     "execution_count": 46,
     "metadata": {},
     "output_type": "execute_result"
    }
   ],
   "source": [
    "md(f\"We found that {perc_fast * 100:.1f}% of households have Internet with speeds of at least 100 down 20 up.\")"
   ]
  },
  {
   "cell_type": "code",
   "execution_count": 47,
   "metadata": {},
   "outputs": [],
   "source": [
    "table = pd.read_csv('../data/output/tables/table1_cities_ranked_by_categories.csv')"
   ]
  },
  {
   "cell_type": "code",
   "execution_count": 52,
   "metadata": {},
   "outputs": [
    {
     "data": {
      "text/html": [
       "<div>\n",
       "<style scoped>\n",
       "    .dataframe tbody tr th:only-of-type {\n",
       "        vertical-align: middle;\n",
       "    }\n",
       "\n",
       "    .dataframe tbody tr th {\n",
       "        vertical-align: top;\n",
       "    }\n",
       "\n",
       "    .dataframe thead th {\n",
       "        text-align: right;\n",
       "    }\n",
       "</style>\n",
       "<table border=\"1\" class=\"dataframe\">\n",
       "  <thead>\n",
       "    <tr style=\"text-align: right;\">\n",
       "      <th></th>\n",
       "      <th>major_city</th>\n",
       "      <th>state</th>\n",
       "      <th>slowest_income</th>\n",
       "      <th>p_value_income</th>\n",
       "      <th>isp</th>\n",
       "      <th>prop_slow_income_exposure</th>\n",
       "      <th>prop_slow_income_treatment</th>\n",
       "      <th>prop_slow_income_delta</th>\n",
       "      <th>slowest_race</th>\n",
       "      <th>p_value_race</th>\n",
       "      <th>prop_slow_race_exposure</th>\n",
       "      <th>prop_slow_race_treatment</th>\n",
       "      <th>prop_slow_race_delta</th>\n",
       "      <th>slowest_redlining</th>\n",
       "      <th>p_value_redlining</th>\n",
       "      <th>prop_slow_redlining_exposure</th>\n",
       "      <th>prop_slow_redlining_treatment</th>\n",
       "      <th>prop_slow_redlining_delta</th>\n",
       "    </tr>\n",
       "  </thead>\n",
       "  <tbody>\n",
       "    <tr>\n",
       "      <th>0</th>\n",
       "      <td>Atlanta</td>\n",
       "      <td>GA</td>\n",
       "      <td>True</td>\n",
       "      <td>7.715820e-13</td>\n",
       "      <td>AT&amp;T</td>\n",
       "      <td>0.147996</td>\n",
       "      <td>0.085022</td>\n",
       "      <td>0.062974</td>\n",
       "      <td>True</td>\n",
       "      <td>4.292469e-01</td>\n",
       "      <td>0.088131</td>\n",
       "      <td>0.082686</td>\n",
       "      <td>0.005445</td>\n",
       "      <td>True</td>\n",
       "      <td>9.100916e-23</td>\n",
       "      <td>0.162162</td>\n",
       "      <td>0.032359</td>\n",
       "      <td>0.129803</td>\n",
       "    </tr>\n",
       "    <tr>\n",
       "      <th>1</th>\n",
       "      <td>Charleston</td>\n",
       "      <td>SC</td>\n",
       "      <td>True</td>\n",
       "      <td>2.621133e-87</td>\n",
       "      <td>AT&amp;T</td>\n",
       "      <td>0.780069</td>\n",
       "      <td>0.093438</td>\n",
       "      <td>0.686631</td>\n",
       "      <td>True</td>\n",
       "      <td>2.072449e-33</td>\n",
       "      <td>0.893333</td>\n",
       "      <td>0.147830</td>\n",
       "      <td>0.745504</td>\n",
       "      <td>NaN</td>\n",
       "      <td>NaN</td>\n",
       "      <td>NaN</td>\n",
       "      <td>NaN</td>\n",
       "      <td>NaN</td>\n",
       "    </tr>\n",
       "    <tr>\n",
       "      <th>2</th>\n",
       "      <td>Charlotte</td>\n",
       "      <td>NC</td>\n",
       "      <td>True</td>\n",
       "      <td>1.202328e-32</td>\n",
       "      <td>AT&amp;T</td>\n",
       "      <td>0.161336</td>\n",
       "      <td>0.038709</td>\n",
       "      <td>0.122627</td>\n",
       "      <td>True</td>\n",
       "      <td>1.484277e-09</td>\n",
       "      <td>0.127660</td>\n",
       "      <td>0.070880</td>\n",
       "      <td>0.056779</td>\n",
       "      <td>True</td>\n",
       "      <td>1.973672e-06</td>\n",
       "      <td>0.263804</td>\n",
       "      <td>0.125773</td>\n",
       "      <td>0.138030</td>\n",
       "    </tr>\n",
       "    <tr>\n",
       "      <th>3</th>\n",
       "      <td>Chicago</td>\n",
       "      <td>IL</td>\n",
       "      <td>True</td>\n",
       "      <td>5.887420e-23</td>\n",
       "      <td>AT&amp;T</td>\n",
       "      <td>0.291315</td>\n",
       "      <td>0.221422</td>\n",
       "      <td>0.069893</td>\n",
       "      <td>True</td>\n",
       "      <td>2.825903e-04</td>\n",
       "      <td>0.250053</td>\n",
       "      <td>0.228948</td>\n",
       "      <td>0.021105</td>\n",
       "      <td>True</td>\n",
       "      <td>2.631264e-29</td>\n",
       "      <td>0.280234</td>\n",
       "      <td>0.197808</td>\n",
       "      <td>0.082425</td>\n",
       "    </tr>\n",
       "    <tr>\n",
       "      <th>4</th>\n",
       "      <td>Cleveland</td>\n",
       "      <td>OH</td>\n",
       "      <td>True</td>\n",
       "      <td>3.241185e-208</td>\n",
       "      <td>AT&amp;T</td>\n",
       "      <td>0.739274</td>\n",
       "      <td>0.144424</td>\n",
       "      <td>0.594850</td>\n",
       "      <td>True</td>\n",
       "      <td>4.856428e-251</td>\n",
       "      <td>0.467090</td>\n",
       "      <td>0.081929</td>\n",
       "      <td>0.385161</td>\n",
       "      <td>True</td>\n",
       "      <td>0.000000e+00</td>\n",
       "      <td>0.591696</td>\n",
       "      <td>0.053061</td>\n",
       "      <td>0.538634</td>\n",
       "    </tr>\n",
       "    <tr>\n",
       "      <th>...</th>\n",
       "      <td>...</td>\n",
       "      <td>...</td>\n",
       "      <td>...</td>\n",
       "      <td>...</td>\n",
       "      <td>...</td>\n",
       "      <td>...</td>\n",
       "      <td>...</td>\n",
       "      <td>...</td>\n",
       "      <td>...</td>\n",
       "      <td>...</td>\n",
       "      <td>...</td>\n",
       "      <td>...</td>\n",
       "      <td>...</td>\n",
       "      <td>...</td>\n",
       "      <td>...</td>\n",
       "      <td>...</td>\n",
       "      <td>...</td>\n",
       "      <td>...</td>\n",
       "    </tr>\n",
       "    <tr>\n",
       "      <th>73</th>\n",
       "      <td>Portland</td>\n",
       "      <td>OR</td>\n",
       "      <td>NaN</td>\n",
       "      <td>NaN</td>\n",
       "      <td>EarthLink</td>\n",
       "      <td>NaN</td>\n",
       "      <td>NaN</td>\n",
       "      <td>NaN</td>\n",
       "      <td>NaN</td>\n",
       "      <td>NaN</td>\n",
       "      <td>NaN</td>\n",
       "      <td>NaN</td>\n",
       "      <td>NaN</td>\n",
       "      <td>NaN</td>\n",
       "      <td>NaN</td>\n",
       "      <td>NaN</td>\n",
       "      <td>NaN</td>\n",
       "      <td>NaN</td>\n",
       "    </tr>\n",
       "    <tr>\n",
       "      <th>74</th>\n",
       "      <td>Salt Lake City</td>\n",
       "      <td>UT</td>\n",
       "      <td>NaN</td>\n",
       "      <td>NaN</td>\n",
       "      <td>EarthLink</td>\n",
       "      <td>NaN</td>\n",
       "      <td>NaN</td>\n",
       "      <td>NaN</td>\n",
       "      <td>NaN</td>\n",
       "      <td>NaN</td>\n",
       "      <td>NaN</td>\n",
       "      <td>NaN</td>\n",
       "      <td>NaN</td>\n",
       "      <td>NaN</td>\n",
       "      <td>NaN</td>\n",
       "      <td>NaN</td>\n",
       "      <td>NaN</td>\n",
       "      <td>NaN</td>\n",
       "    </tr>\n",
       "    <tr>\n",
       "      <th>75</th>\n",
       "      <td>Seattle</td>\n",
       "      <td>WA</td>\n",
       "      <td>NaN</td>\n",
       "      <td>NaN</td>\n",
       "      <td>EarthLink</td>\n",
       "      <td>NaN</td>\n",
       "      <td>NaN</td>\n",
       "      <td>NaN</td>\n",
       "      <td>NaN</td>\n",
       "      <td>NaN</td>\n",
       "      <td>NaN</td>\n",
       "      <td>NaN</td>\n",
       "      <td>NaN</td>\n",
       "      <td>NaN</td>\n",
       "      <td>NaN</td>\n",
       "      <td>NaN</td>\n",
       "      <td>NaN</td>\n",
       "      <td>NaN</td>\n",
       "    </tr>\n",
       "    <tr>\n",
       "      <th>76</th>\n",
       "      <td>Sioux Falls</td>\n",
       "      <td>SD</td>\n",
       "      <td>NaN</td>\n",
       "      <td>NaN</td>\n",
       "      <td>EarthLink</td>\n",
       "      <td>NaN</td>\n",
       "      <td>NaN</td>\n",
       "      <td>NaN</td>\n",
       "      <td>NaN</td>\n",
       "      <td>NaN</td>\n",
       "      <td>NaN</td>\n",
       "      <td>NaN</td>\n",
       "      <td>NaN</td>\n",
       "      <td>NaN</td>\n",
       "      <td>NaN</td>\n",
       "      <td>NaN</td>\n",
       "      <td>NaN</td>\n",
       "      <td>NaN</td>\n",
       "    </tr>\n",
       "    <tr>\n",
       "      <th>77</th>\n",
       "      <td>Wichita</td>\n",
       "      <td>KS</td>\n",
       "      <td>True</td>\n",
       "      <td>2.849445e-33</td>\n",
       "      <td>EarthLink</td>\n",
       "      <td>0.444043</td>\n",
       "      <td>0.164239</td>\n",
       "      <td>0.279804</td>\n",
       "      <td>False</td>\n",
       "      <td>2.385670e-12</td>\n",
       "      <td>0.063444</td>\n",
       "      <td>0.168231</td>\n",
       "      <td>-0.104786</td>\n",
       "      <td>True</td>\n",
       "      <td>2.137706e-19</td>\n",
       "      <td>0.169978</td>\n",
       "      <td>0.050000</td>\n",
       "      <td>0.119978</td>\n",
       "    </tr>\n",
       "  </tbody>\n",
       "</table>\n",
       "<p>78 rows × 18 columns</p>\n",
       "</div>"
      ],
      "text/plain": [
       "        major_city state slowest_income  p_value_income        isp  \\\n",
       "0          Atlanta    GA           True    7.715820e-13       AT&T   \n",
       "1       Charleston    SC           True    2.621133e-87       AT&T   \n",
       "2        Charlotte    NC           True    1.202328e-32       AT&T   \n",
       "3          Chicago    IL           True    5.887420e-23       AT&T   \n",
       "4        Cleveland    OH           True   3.241185e-208       AT&T   \n",
       "..             ...   ...            ...             ...        ...   \n",
       "73        Portland    OR            NaN             NaN  EarthLink   \n",
       "74  Salt Lake City    UT            NaN             NaN  EarthLink   \n",
       "75         Seattle    WA            NaN             NaN  EarthLink   \n",
       "76     Sioux Falls    SD            NaN             NaN  EarthLink   \n",
       "77         Wichita    KS           True    2.849445e-33  EarthLink   \n",
       "\n",
       "    prop_slow_income_exposure  prop_slow_income_treatment  \\\n",
       "0                    0.147996                    0.085022   \n",
       "1                    0.780069                    0.093438   \n",
       "2                    0.161336                    0.038709   \n",
       "3                    0.291315                    0.221422   \n",
       "4                    0.739274                    0.144424   \n",
       "..                        ...                         ...   \n",
       "73                        NaN                         NaN   \n",
       "74                        NaN                         NaN   \n",
       "75                        NaN                         NaN   \n",
       "76                        NaN                         NaN   \n",
       "77                   0.444043                    0.164239   \n",
       "\n",
       "    prop_slow_income_delta slowest_race   p_value_race  \\\n",
       "0                 0.062974         True   4.292469e-01   \n",
       "1                 0.686631         True   2.072449e-33   \n",
       "2                 0.122627         True   1.484277e-09   \n",
       "3                 0.069893         True   2.825903e-04   \n",
       "4                 0.594850         True  4.856428e-251   \n",
       "..                     ...          ...            ...   \n",
       "73                     NaN          NaN            NaN   \n",
       "74                     NaN          NaN            NaN   \n",
       "75                     NaN          NaN            NaN   \n",
       "76                     NaN          NaN            NaN   \n",
       "77                0.279804        False   2.385670e-12   \n",
       "\n",
       "    prop_slow_race_exposure  prop_slow_race_treatment  prop_slow_race_delta  \\\n",
       "0                  0.088131                  0.082686              0.005445   \n",
       "1                  0.893333                  0.147830              0.745504   \n",
       "2                  0.127660                  0.070880              0.056779   \n",
       "3                  0.250053                  0.228948              0.021105   \n",
       "4                  0.467090                  0.081929              0.385161   \n",
       "..                      ...                       ...                   ...   \n",
       "73                      NaN                       NaN                   NaN   \n",
       "74                      NaN                       NaN                   NaN   \n",
       "75                      NaN                       NaN                   NaN   \n",
       "76                      NaN                       NaN                   NaN   \n",
       "77                 0.063444                  0.168231             -0.104786   \n",
       "\n",
       "   slowest_redlining  p_value_redlining  prop_slow_redlining_exposure  \\\n",
       "0               True       9.100916e-23                      0.162162   \n",
       "1                NaN                NaN                           NaN   \n",
       "2               True       1.973672e-06                      0.263804   \n",
       "3               True       2.631264e-29                      0.280234   \n",
       "4               True       0.000000e+00                      0.591696   \n",
       "..               ...                ...                           ...   \n",
       "73               NaN                NaN                           NaN   \n",
       "74               NaN                NaN                           NaN   \n",
       "75               NaN                NaN                           NaN   \n",
       "76               NaN                NaN                           NaN   \n",
       "77              True       2.137706e-19                      0.169978   \n",
       "\n",
       "    prop_slow_redlining_treatment  prop_slow_redlining_delta  \n",
       "0                        0.032359                   0.129803  \n",
       "1                             NaN                        NaN  \n",
       "2                        0.125773                   0.138030  \n",
       "3                        0.197808                   0.082425  \n",
       "4                        0.053061                   0.538634  \n",
       "..                            ...                        ...  \n",
       "73                            NaN                        NaN  \n",
       "74                            NaN                        NaN  \n",
       "75                            NaN                        NaN  \n",
       "76                            NaN                        NaN  \n",
       "77                       0.050000                   0.119978  \n",
       "\n",
       "[78 rows x 18 columns]"
      ]
     },
     "execution_count": 52,
     "metadata": {},
     "output_type": "execute_result"
    }
   ],
   "source": [
    "table"
   ]
  },
  {
   "cell_type": "code",
   "execution_count": 49,
   "metadata": {},
   "outputs": [
    {
     "data": {
      "image/png": "[encoded data removed]",
      "text/plain": [
       "<Figure size 576x288 with 1 Axes>"
      ]
     },
     "metadata": {
      "needs_background": "light"
     },
     "output_type": "display_data"
    }
   ],
   "source": [
    "income(_df, location=city)"
   ]
  },
  {
   "cell_type": "code",
   "execution_count": 53,
   "metadata": {},
   "outputs": [],
   "source": [
    "table_ = table[(table.major_city == city.title()) & (table.isp == isp)]"
   ]
  },
  {
   "cell_type": "code",
   "execution_count": 55,
   "metadata": {},
   "outputs": [
    {
     "data": {
      "text/html": [
       "<div>\n",
       "<style scoped>\n",
       "    .dataframe tbody tr th:only-of-type {\n",
       "        vertical-align: middle;\n",
       "    }\n",
       "\n",
       "    .dataframe tbody tr th {\n",
       "        vertical-align: top;\n",
       "    }\n",
       "\n",
       "    .dataframe thead th {\n",
       "        text-align: right;\n",
       "    }\n",
       "</style>\n",
       "<table border=\"1\" class=\"dataframe\">\n",
       "  <thead>\n",
       "    <tr style=\"text-align: right;\">\n",
       "      <th></th>\n",
       "      <th>major_city</th>\n",
       "      <th>state</th>\n",
       "      <th>slowest_income</th>\n",
       "      <th>p_value_income</th>\n",
       "      <th>isp</th>\n",
       "      <th>prop_slow_income_exposure</th>\n",
       "      <th>prop_slow_income_treatment</th>\n",
       "      <th>prop_slow_income_delta</th>\n",
       "      <th>slowest_race</th>\n",
       "      <th>p_value_race</th>\n",
       "      <th>prop_slow_race_exposure</th>\n",
       "      <th>prop_slow_race_treatment</th>\n",
       "      <th>prop_slow_race_delta</th>\n",
       "      <th>slowest_redlining</th>\n",
       "      <th>p_value_redlining</th>\n",
       "      <th>prop_slow_redlining_exposure</th>\n",
       "      <th>prop_slow_redlining_treatment</th>\n",
       "      <th>prop_slow_redlining_delta</th>\n",
       "    </tr>\n",
       "  </thead>\n",
       "  <tbody>\n",
       "    <tr>\n",
       "      <th>5</th>\n",
       "      <td>Detroit</td>\n",
       "      <td>MI</td>\n",
       "      <td>True</td>\n",
       "      <td>8.403074e-104</td>\n",
       "      <td>AT&amp;T</td>\n",
       "      <td>0.624374</td>\n",
       "      <td>0.272433</td>\n",
       "      <td>0.351941</td>\n",
       "      <td>False</td>\n",
       "      <td>0.479805</td>\n",
       "      <td>0.314514</td>\n",
       "      <td>0.342282</td>\n",
       "      <td>-0.027768</td>\n",
       "      <td>True</td>\n",
       "      <td>0.0</td>\n",
       "      <td>0.676887</td>\n",
       "      <td>0.200615</td>\n",
       "      <td>0.476272</td>\n",
       "    </tr>\n",
       "  </tbody>\n",
       "</table>\n",
       "</div>"
      ],
      "text/plain": [
       "  major_city state slowest_income  p_value_income   isp  \\\n",
       "5    Detroit    MI           True   8.403074e-104  AT&T   \n",
       "\n",
       "   prop_slow_income_exposure  prop_slow_income_treatment  \\\n",
       "5                   0.624374                    0.272433   \n",
       "\n",
       "   prop_slow_income_delta slowest_race  p_value_race  prop_slow_race_exposure  \\\n",
       "5                0.351941        False      0.479805                 0.314514   \n",
       "\n",
       "   prop_slow_race_treatment  prop_slow_race_delta slowest_redlining  \\\n",
       "5                  0.342282             -0.027768              True   \n",
       "\n",
       "   p_value_redlining  prop_slow_redlining_exposure  \\\n",
       "5                0.0                      0.676887   \n",
       "\n",
       "   prop_slow_redlining_treatment  prop_slow_redlining_delta  \n",
       "5                       0.200615                   0.476272  "
      ]
     },
     "execution_count": 55,
     "metadata": {},
     "output_type": "execute_result"
    }
   ],
   "source": [
    "table_"
   ]
  },
  {
   "cell_type": "code",
   "execution_count": 54,
   "metadata": {},
   "outputs": [],
   "source": [
    "slowest_income = table_['slowest_income'].iloc[0]\n",
    "income_sig = True if table_['p_value_income'].iloc[0] < .05 else False"
   ]
  },
  {
   "cell_type": "code",
   "execution_count": 60,
   "metadata": {},
   "outputs": [
    {
     "data": {
      "text/html": [
       "<div>\n",
       "<style scoped>\n",
       "    .dataframe tbody tr th:only-of-type {\n",
       "        vertical-align: middle;\n",
       "    }\n",
       "\n",
       "    .dataframe tbody tr th {\n",
       "        vertical-align: top;\n",
       "    }\n",
       "\n",
       "    .dataframe thead th {\n",
       "        text-align: right;\n",
       "    }\n",
       "</style>\n",
       "<table border=\"1\" class=\"dataframe\">\n",
       "  <thead>\n",
       "    <tr style=\"text-align: right;\">\n",
       "      <th></th>\n",
       "      <th>major_city</th>\n",
       "      <th>state</th>\n",
       "      <th>slowest_income</th>\n",
       "      <th>p_value_income</th>\n",
       "      <th>isp</th>\n",
       "      <th>prop_slow_income_exposure</th>\n",
       "      <th>prop_slow_income_treatment</th>\n",
       "      <th>prop_slow_income_delta</th>\n",
       "      <th>slowest_race</th>\n",
       "      <th>p_value_race</th>\n",
       "      <th>prop_slow_race_exposure</th>\n",
       "      <th>prop_slow_race_treatment</th>\n",
       "      <th>prop_slow_race_delta</th>\n",
       "      <th>slowest_redlining</th>\n",
       "      <th>p_value_redlining</th>\n",
       "      <th>prop_slow_redlining_exposure</th>\n",
       "      <th>prop_slow_redlining_treatment</th>\n",
       "      <th>prop_slow_redlining_delta</th>\n",
       "    </tr>\n",
       "  </thead>\n",
       "  <tbody>\n",
       "    <tr>\n",
       "      <th>5</th>\n",
       "      <td>Detroit</td>\n",
       "      <td>MI</td>\n",
       "      <td>True</td>\n",
       "      <td>8.403074e-104</td>\n",
       "      <td>AT&amp;T</td>\n",
       "      <td>0.624374</td>\n",
       "      <td>0.272433</td>\n",
       "      <td>0.351941</td>\n",
       "      <td>False</td>\n",
       "      <td>0.479805</td>\n",
       "      <td>0.314514</td>\n",
       "      <td>0.342282</td>\n",
       "      <td>-0.027768</td>\n",
       "      <td>True</td>\n",
       "      <td>0.0</td>\n",
       "      <td>0.676887</td>\n",
       "      <td>0.200615</td>\n",
       "      <td>0.476272</td>\n",
       "    </tr>\n",
       "  </tbody>\n",
       "</table>\n",
       "</div>"
      ],
      "text/plain": [
       "  major_city state slowest_income  p_value_income   isp  \\\n",
       "5    Detroit    MI           True   8.403074e-104  AT&T   \n",
       "\n",
       "   prop_slow_income_exposure  prop_slow_income_treatment  \\\n",
       "5                   0.624374                    0.272433   \n",
       "\n",
       "   prop_slow_income_delta slowest_race  p_value_race  prop_slow_race_exposure  \\\n",
       "5                0.351941        False      0.479805                 0.314514   \n",
       "\n",
       "   prop_slow_race_treatment  prop_slow_race_delta slowest_redlining  \\\n",
       "5                  0.342282             -0.027768              True   \n",
       "\n",
       "   p_value_redlining  prop_slow_redlining_exposure  \\\n",
       "5                0.0                      0.676887   \n",
       "\n",
       "   prop_slow_redlining_treatment  prop_slow_redlining_delta  \n",
       "5                       0.200615                   0.476272  "
      ]
     },
     "execution_count": 60,
     "metadata": {},
     "output_type": "execute_result"
    }
   ],
   "source": [
    "table_"
   ]
  },
  {
   "cell_type": "code",
   "execution_count": 58,
   "metadata": {},
   "outputs": [
    {
     "data": {
      "text/plain": [
       "True"
      ]
     },
     "execution_count": 58,
     "metadata": {},
     "output_type": "execute_result"
    }
   ],
   "source": [
    "slowest_income"
   ]
  },
  {
   "cell_type": "code",
   "execution_count": 56,
   "metadata": {},
   "outputs": [
    {
     "ename": "TypeError",
     "evalue": "argument of type 'bool' is not iterable",
     "output_type": "error",
     "traceback": [
      "\u001b[0;31m---------------------------------------------------------------------------\u001b[0m",
      "\u001b[0;31mTypeError\u001b[0m                                 Traceback (most recent call last)",
      "\u001b[0;32m<ipython-input-56-4e960bcf0be0>\u001b[0m in \u001b[0;36m<module>\u001b[0;34m\u001b[0m\n\u001b[0;32m----> 1\u001b[0;31m \u001b[0mremainder\u001b[0m \u001b[0;34m=\u001b[0m \u001b[0;34m[\u001b[0m\u001b[0m_\u001b[0m \u001b[0;32mfor\u001b[0m \u001b[0m_\u001b[0m \u001b[0;32min\u001b[0m \u001b[0mincome_labels\u001b[0m \u001b[0;32mif\u001b[0m \u001b[0m_\u001b[0m \u001b[0;32mnot\u001b[0m \u001b[0;32min\u001b[0m \u001b[0mslowest_income\u001b[0m\u001b[0;34m]\u001b[0m\u001b[0;34m\u001b[0m\u001b[0;34m\u001b[0m\u001b[0m\n\u001b[0m\u001b[1;32m      2\u001b[0m \u001b[0mincomes\u001b[0m \u001b[0;34m=\u001b[0m \u001b[0;34m', '\u001b[0m\u001b[0;34m.\u001b[0m\u001b[0mjoin\u001b[0m\u001b[0;34m(\u001b[0m\u001b[0mremainder\u001b[0m\u001b[0;34m[\u001b[0m\u001b[0;34m:\u001b[0m\u001b[0;34m-\u001b[0m\u001b[0;36m1\u001b[0m\u001b[0;34m]\u001b[0m\u001b[0;34m)\u001b[0m \u001b[0;34m+\u001b[0m \u001b[0;34m', and '\u001b[0m \u001b[0;34m+\u001b[0m \u001b[0mremainder\u001b[0m\u001b[0;34m[\u001b[0m\u001b[0;34m-\u001b[0m\u001b[0;36m1\u001b[0m\u001b[0;34m]\u001b[0m\u001b[0;34m\u001b[0m\u001b[0;34m\u001b[0m\u001b[0m\n",
      "\u001b[0;32m<ipython-input-56-4e960bcf0be0>\u001b[0m in \u001b[0;36m<listcomp>\u001b[0;34m(.0)\u001b[0m\n\u001b[0;32m----> 1\u001b[0;31m \u001b[0mremainder\u001b[0m \u001b[0;34m=\u001b[0m \u001b[0;34m[\u001b[0m\u001b[0m_\u001b[0m \u001b[0;32mfor\u001b[0m \u001b[0m_\u001b[0m \u001b[0;32min\u001b[0m \u001b[0mincome_labels\u001b[0m \u001b[0;32mif\u001b[0m \u001b[0m_\u001b[0m \u001b[0;32mnot\u001b[0m \u001b[0;32min\u001b[0m \u001b[0mslowest_income\u001b[0m\u001b[0;34m]\u001b[0m\u001b[0;34m\u001b[0m\u001b[0;34m\u001b[0m\u001b[0m\n\u001b[0m\u001b[1;32m      2\u001b[0m \u001b[0mincomes\u001b[0m \u001b[0;34m=\u001b[0m \u001b[0;34m', '\u001b[0m\u001b[0;34m.\u001b[0m\u001b[0mjoin\u001b[0m\u001b[0;34m(\u001b[0m\u001b[0mremainder\u001b[0m\u001b[0;34m[\u001b[0m\u001b[0;34m:\u001b[0m\u001b[0;34m-\u001b[0m\u001b[0;36m1\u001b[0m\u001b[0;34m]\u001b[0m\u001b[0;34m)\u001b[0m \u001b[0;34m+\u001b[0m \u001b[0;34m', and '\u001b[0m \u001b[0;34m+\u001b[0m \u001b[0mremainder\u001b[0m\u001b[0;34m[\u001b[0m\u001b[0;34m-\u001b[0m\u001b[0;36m1\u001b[0m\u001b[0;34m]\u001b[0m\u001b[0;34m\u001b[0m\u001b[0;34m\u001b[0m\u001b[0m\n",
      "\u001b[0;31mTypeError\u001b[0m: argument of type 'bool' is not iterable"
     ]
    }
   ],
   "source": [
    "remainder = [_ for _ in income_labels if _ not in slowest_income]\n",
    "incomes = ', '.join(remainder[:-1]) + ', and ' + remainder[-1] "
   ]
  },
  {
   "cell_type": "code",
   "execution_count": 59,
   "metadata": {},
   "outputs": [
    {
     "ename": "NameError",
     "evalue": "name 'incomes' is not defined",
     "output_type": "error",
     "traceback": [
      "\u001b[0;31m---------------------------------------------------------------------------\u001b[0m",
      "\u001b[0;31mNameError\u001b[0m                                 Traceback (most recent call last)",
      "\u001b[0;32m<ipython-input-59-2493d5235dcc>\u001b[0m in \u001b[0;36m<module>\u001b[0;34m\u001b[0m\n\u001b[0;32m----> 1\u001b[0;31m \u001b[0mmd\u001b[0m\u001b[0;34m(\u001b[0m\u001b[0;34mf\"Households in {slowest_income} income areas were {'significantly' if income_sig else 'not significantly'} more likely to be offered a slow speed than households in {incomes} areas.\"\u001b[0m\u001b[0;34m)\u001b[0m\u001b[0;34m\u001b[0m\u001b[0;34m\u001b[0m\u001b[0m\n\u001b[0m",
      "\u001b[0;31mNameError\u001b[0m: name 'incomes' is not defined"
     ]
    }
   ],
   "source": [
    "md(f\"Households in {slowest_income} income areas were {'significantly' if income_sig else 'not significantly'} more likely to be offered a slow speed than households in {incomes} areas.\")"
   ]
  },
  {
   "cell_type": "code",
   "execution_count": 61,
   "metadata": {},
   "outputs": [
    {
     "data": {
      "image/png": "[encoded data removed]",
      "text/plain": [
       "<Figure size 576x360 with 1 Axes>"
      ]
     },
     "metadata": {
      "needs_background": "light"
     },
     "output_type": "display_data"
    }
   ],
   "source": [
    "race(_df, location=city)"
   ]
  },
  {
   "cell_type": "code",
   "execution_count": 62,
   "metadata": {},
   "outputs": [
    {
     "ename": "TypeError",
     "evalue": "argument of type 'bool' is not iterable",
     "output_type": "error",
     "traceback": [
      "\u001b[0;31m---------------------------------------------------------------------------\u001b[0m",
      "\u001b[0;31mTypeError\u001b[0m                                 Traceback (most recent call last)",
      "\u001b[0;32m<ipython-input-62-22a201ce49bd>\u001b[0m in \u001b[0;36m<module>\u001b[0;34m\u001b[0m\n\u001b[1;32m      2\u001b[0m \u001b[0mrace_sig\u001b[0m \u001b[0;34m=\u001b[0m \u001b[0;32mTrue\u001b[0m \u001b[0;32mif\u001b[0m \u001b[0mtable_\u001b[0m\u001b[0;34m[\u001b[0m\u001b[0;34m'p_value_race'\u001b[0m\u001b[0;34m]\u001b[0m\u001b[0;34m.\u001b[0m\u001b[0miloc\u001b[0m\u001b[0;34m[\u001b[0m\u001b[0;36m0\u001b[0m\u001b[0;34m]\u001b[0m \u001b[0;34m<\u001b[0m \u001b[0;36m.05\u001b[0m \u001b[0;32melse\u001b[0m \u001b[0;32mFalse\u001b[0m\u001b[0;34m\u001b[0m\u001b[0;34m\u001b[0m\u001b[0m\n\u001b[1;32m      3\u001b[0m \u001b[0;34m\u001b[0m\u001b[0m\n\u001b[0;32m----> 4\u001b[0;31m \u001b[0mremainder\u001b[0m \u001b[0;34m=\u001b[0m \u001b[0;34m[\u001b[0m\u001b[0m_\u001b[0m \u001b[0;32mfor\u001b[0m \u001b[0m_\u001b[0m \u001b[0;32min\u001b[0m \u001b[0mrace_bins\u001b[0m \u001b[0;32mif\u001b[0m \u001b[0m_\u001b[0m \u001b[0;32mnot\u001b[0m \u001b[0;32min\u001b[0m \u001b[0mslowest_race\u001b[0m\u001b[0;34m]\u001b[0m\u001b[0;34m\u001b[0m\u001b[0;34m\u001b[0m\u001b[0m\n\u001b[0m\u001b[1;32m      5\u001b[0m \u001b[0mraces\u001b[0m \u001b[0;34m=\u001b[0m \u001b[0;34m', '\u001b[0m\u001b[0;34m.\u001b[0m\u001b[0mjoin\u001b[0m\u001b[0;34m(\u001b[0m\u001b[0mremainder\u001b[0m\u001b[0;34m[\u001b[0m\u001b[0;34m:\u001b[0m\u001b[0;34m-\u001b[0m\u001b[0;36m1\u001b[0m\u001b[0;34m]\u001b[0m\u001b[0;34m)\u001b[0m \u001b[0;34m+\u001b[0m \u001b[0;34m', and '\u001b[0m \u001b[0;34m+\u001b[0m \u001b[0mremainder\u001b[0m\u001b[0;34m[\u001b[0m\u001b[0;34m-\u001b[0m\u001b[0;36m1\u001b[0m\u001b[0;34m]\u001b[0m\u001b[0;34m\u001b[0m\u001b[0;34m\u001b[0m\u001b[0m\n",
      "\u001b[0;32m<ipython-input-62-22a201ce49bd>\u001b[0m in \u001b[0;36m<listcomp>\u001b[0;34m(.0)\u001b[0m\n\u001b[1;32m      2\u001b[0m \u001b[0mrace_sig\u001b[0m \u001b[0;34m=\u001b[0m \u001b[0;32mTrue\u001b[0m \u001b[0;32mif\u001b[0m \u001b[0mtable_\u001b[0m\u001b[0;34m[\u001b[0m\u001b[0;34m'p_value_race'\u001b[0m\u001b[0;34m]\u001b[0m\u001b[0;34m.\u001b[0m\u001b[0miloc\u001b[0m\u001b[0;34m[\u001b[0m\u001b[0;36m0\u001b[0m\u001b[0;34m]\u001b[0m \u001b[0;34m<\u001b[0m \u001b[0;36m.05\u001b[0m \u001b[0;32melse\u001b[0m \u001b[0;32mFalse\u001b[0m\u001b[0;34m\u001b[0m\u001b[0;34m\u001b[0m\u001b[0m\n\u001b[1;32m      3\u001b[0m \u001b[0;34m\u001b[0m\u001b[0m\n\u001b[0;32m----> 4\u001b[0;31m \u001b[0mremainder\u001b[0m \u001b[0;34m=\u001b[0m \u001b[0;34m[\u001b[0m\u001b[0m_\u001b[0m \u001b[0;32mfor\u001b[0m \u001b[0m_\u001b[0m \u001b[0;32min\u001b[0m \u001b[0mrace_bins\u001b[0m \u001b[0;32mif\u001b[0m \u001b[0m_\u001b[0m \u001b[0;32mnot\u001b[0m \u001b[0;32min\u001b[0m \u001b[0mslowest_race\u001b[0m\u001b[0;34m]\u001b[0m\u001b[0;34m\u001b[0m\u001b[0;34m\u001b[0m\u001b[0m\n\u001b[0m\u001b[1;32m      5\u001b[0m \u001b[0mraces\u001b[0m \u001b[0;34m=\u001b[0m \u001b[0;34m', '\u001b[0m\u001b[0;34m.\u001b[0m\u001b[0mjoin\u001b[0m\u001b[0;34m(\u001b[0m\u001b[0mremainder\u001b[0m\u001b[0;34m[\u001b[0m\u001b[0;34m:\u001b[0m\u001b[0;34m-\u001b[0m\u001b[0;36m1\u001b[0m\u001b[0;34m]\u001b[0m\u001b[0;34m)\u001b[0m \u001b[0;34m+\u001b[0m \u001b[0;34m', and '\u001b[0m \u001b[0;34m+\u001b[0m \u001b[0mremainder\u001b[0m\u001b[0;34m[\u001b[0m\u001b[0;34m-\u001b[0m\u001b[0;36m1\u001b[0m\u001b[0;34m]\u001b[0m\u001b[0;34m\u001b[0m\u001b[0;34m\u001b[0m\u001b[0m\n",
      "\u001b[0;31mTypeError\u001b[0m: argument of type 'bool' is not iterable"
     ]
    }
   ],
   "source": [
    "slowest_race = table_['slowest_race'].iloc[0]\n",
    "race_sig = True if table_['p_value_race'].iloc[0] < .05 else False\n",
    "\n",
    "remainder = [_ for _ in race_bins if _ not in slowest_race]\n",
    "races = ', '.join(remainder[:-1]) + ', and ' + remainder[-1] "
   ]
  },
  {
   "cell_type": "code",
   "execution_count": 63,
   "metadata": {},
   "outputs": [
    {
     "ename": "NameError",
     "evalue": "name 'races' is not defined",
     "output_type": "error",
     "traceback": [
      "\u001b[0;31m---------------------------------------------------------------------------\u001b[0m",
      "\u001b[0;31mNameError\u001b[0m                                 Traceback (most recent call last)",
      "\u001b[0;32m<ipython-input-63-12799c9d092d>\u001b[0m in \u001b[0;36m<module>\u001b[0;34m\u001b[0m\n\u001b[0;32m----> 1\u001b[0;31m \u001b[0mmd\u001b[0m\u001b[0;34m(\u001b[0m\u001b[0;34mf\"Households in {slowest_race} areas were {'significantly' if race_sig else 'not significantly'} more likely to be offered a slow speed than households in {races} areas.\"\u001b[0m\u001b[0;34m)\u001b[0m\u001b[0;34m\u001b[0m\u001b[0;34m\u001b[0m\u001b[0m\n\u001b[0m",
      "\u001b[0;31mNameError\u001b[0m: name 'races' is not defined"
     ]
    }
   ],
   "source": [
    "md(f\"Households in {slowest_race} areas were {'significantly' if race_sig else 'not significantly'} more likely to be offered a slow speed than households in {races} areas.\")"
   ]
  },
  {
   "cell_type": "code",
   "execution_count": 64,
   "metadata": {},
   "outputs": [
    {
     "data": {
      "image/png": "[encoded data removed]",
      "text/plain": [
       "<Figure size 576x288 with 1 Axes>"
      ]
     },
     "metadata": {
      "needs_background": "light"
     },
     "output_type": "display_data"
    }
   ],
   "source": [
    "redlining(_df, location=city)"
   ]
  },
  {
   "cell_type": "code",
   "execution_count": null,
   "metadata": {},
   "outputs": [],
   "source": []
  }
 ],
 "metadata": {
  "kernelspec": {
   "display_name": "Python 3",
   "language": "python",
   "name": "python3"
  },
  "language_info": {
   "codemirror_mode": {
    "name": "ipython",
    "version": 3
   },
   "file_extension": ".py",
   "mimetype": "text/x-python",
   "name": "python",
   "nbconvert_exporter": "python",
   "pygments_lexer": "ipython3",
   "version": "3.8.1"
  }
 },
 "nbformat": 4,
 "nbformat_minor": 4
}
