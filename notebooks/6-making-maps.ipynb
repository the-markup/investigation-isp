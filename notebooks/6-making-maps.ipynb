{
 "cells": [
  {
   "cell_type": "markdown",
   "metadata": {},
   "source": [
    "# Creating files for Maps\n",
    "This notebook combines offers and area demographics into a geojson and csv to be plugged into Kepler.gl"
   ]
  },
  {
   "cell_type": "code",
   "execution_count": 1,
   "metadata": {},
   "outputs": [],
   "source": [
    "import os\n",
    "import gzip\n",
    "import json\n",
    "\n",
    "import pandas as pd\n",
    "from tqdm import tqdm\n",
    "\n",
    "from config import cities\n",
    "from aggregators import bucket_and_bin"
   ]
  },
  {
   "cell_type": "code",
   "execution_count": 2,
   "metadata": {},
   "outputs": [],
   "source": [
    "# output\n",
    "fn_map_att = '../data/output/figs/maps/att_offers.csv'\n",
    "fn_map_cl = '../data/output/figs/maps/centurylink_offers.csv'\n",
    "fn_map_verizon = '../data/output/figs/maps/verizon_offers.csv'\n",
    "fn_map_el = '../data/output/figs/maps/earthlink_offers.csv'\n",
    "\n",
    "fn_map_acs_att = '../data/output/figs/maps/att_acs.geojson'\n",
    "fn_map_acs_cl = '../data/output/figs/maps/centurylink_acs.geojson'\n",
    "fn_map_acs_verizon = '../data/output/figs/maps/verizon_acs.geojson'\n",
    "fn_map_acs_el = '../data/output/figs/maps/earthlink_acs.geojson'\n",
    "\n",
    "os.makedirs('../data/output/figs/maps', exist_ok=True)"
   ]
  },
  {
   "cell_type": "code",
   "execution_count": 3,
   "metadata": {},
   "outputs": [],
   "source": [
    "# inputs\n",
    "fn_att = '../data/output/speed_price_att.csv.gz'\n",
    "fn_cl = '../data/output/speed_price_centurylink.csv.gz'\n",
    "fn_verizon = '../data/output/speed_price_verizon.csv.gz'\n",
    "fn_el = '../data/output/speed_price_earthlink.csv.gz'\n",
    "\n",
    "fn_out_shp = '../data/intermediary/census/2019_acs_5_shapes.geojson.gz'"
   ]
  },
  {
   "cell_type": "code",
   "execution_count": 4,
   "metadata": {},
   "outputs": [],
   "source": [
    "recalculate = True\n",
    "\n",
    "cols_to_keep = [\n",
    "#     'address_full',\n",
    "    'lat', 'lon',\n",
    "    'speed_down',\n",
    "    'speed_up',\n",
    "    'speed_down_bins',\n",
    "    'package',\n",
    "]"
   ]
  },
  {
   "cell_type": "code",
   "execution_count": 64,
   "metadata": {
    "collapsed": true,
    "jupyter": {
     "outputs_hidden": true
    }
   },
   "outputs": [
    {
     "data": {
      "text/plain": [
       "address_full                              1009 E TURNEY AVE,PHOENIX,AZ 85014,USA\n",
       "incorporated_place                                                  Phoenix city\n",
       "major_city                                                               phoenix\n",
       "state                                                                         AZ\n",
       "lat                                                                    33.499563\n",
       "lon                                                                  -112.059526\n",
       "availability_status                                          GREEN - exact match\n",
       "block_group_x                                                        40131086011\n",
       "collection_datetime                                                   1650137113\n",
       "provider                                                             CenturyLink\n",
       "speed_down                                                                  60.0\n",
       "speed_up                                                                     5.0\n",
       "speed_unit                                                                  Mbps\n",
       "price                                                                       50.0\n",
       "technology                                                             Not Fiber\n",
       "package                                          HSI Upto 60 Mbps/5 Mbps Prepaid\n",
       "fn                             ../data/intermediary/isp/centurylink/phoenix/0...\n",
       "redlining_grade                                                              NaN\n",
       "closest_fiber_miles                                                     0.516957\n",
       "address_full_closest_fiber                    5324 N 6TH ST,PHOENIX,AZ 85012,USA\n",
       "lat_closest_fiber                                                      33.494286\n",
       "lon_closest_fiber                                                    -112.065886\n",
       "block_group_y                                                                  1\n",
       "geoid                                                                40131086011\n",
       "race_perc_non_white                                                     0.611038\n",
       "income_lmi                                                              0.406097\n",
       "ppl_per_sq_mile                                                      3922.053692\n",
       "n_providers                                                                  2.0\n",
       "income_dollars_below_median                                              36177.0\n",
       "internet_perc_broadband                                                    0.485\n",
       "median_household_income                                                    24737\n",
       "Name: 0, dtype: object"
      ]
     },
     "execution_count": 64,
     "metadata": {},
     "output_type": "execute_result"
    }
   ],
   "source": [
    "_df.iloc[0]"
   ]
  },
  {
   "cell_type": "code",
   "execution_count": 6,
   "metadata": {},
   "outputs": [
    {
     "name": "stderr",
     "output_type": "stream",
     "text": [
      "4it [00:31,  7.82s/it]\n"
     ]
    }
   ],
   "source": [
    "files = zip([fn_map_att, fn_map_cl, fn_map_verizon, fn_map_el],\n",
    "            [fn_att, fn_cl, fn_verizon, fn_el],\n",
    "            [fn_map_acs_att, fn_map_acs_cl, fn_map_acs_verizon, fn_map_acs_el])\n",
    "\n",
    "for fn_out, fn_in, fn_acs in tqdm(files):\n",
    "    if not os.path.exists(fn_out) or recalculate:\n",
    "        \n",
    "        # make points for the maps\n",
    "        _df = pd.read_csv(fn_in)\n",
    "        _df = bucket_and_bin(_df)\n",
    "        _df[_df.speed_down != 0][cols_to_keep].to_csv(fn_out, index=False)\n",
    "        try:\n",
    "            fips = _df['block_group'].apply(lambda x: f\"{int(x):012d}\"[:2]).unique()\n",
    "            block_groups = set(_df['block_group'].apply(lambda x: f\"{int(x):012d}\").unique())\n",
    "        except:\n",
    "            fips = _df['block_group_x'].apply(lambda x: f\"{int(x):012d}\"[:2]).unique()\n",
    "            block_groups = set(_df['block_group_x'].apply(lambda x: f\"{int(x):012d}\").unique())\n",
    "        \n",
    "        # make chloropleth for acs\n",
    "        features = []\n",
    "        for state_fip in fips:\n",
    "            fn_fip = f'../data/intermediary/maps/acs/tl_2019_{state_fip}_bg.geojson'\n",
    "            _geojson = json.loads(open(fn_fip).read())\n",
    "            features.extend(_geojson['features'])\n",
    "        features = [_ for _ in features if str(_['properties']['GEOID']) in block_groups]\n",
    "        _geojson['features'] = features\n",
    "        with open(fn_acs, 'w') as f:\n",
    "            f.write(json.dumps(_geojson))\n",
    "            \n",
    "        features = [_ for _ in features if _['properties']['income_level'] == 'Low']\n",
    "        _geojson['features'] = features\n",
    "        fn_acs_ = fn_acs.replace('.geojson', '_low_income.geojson')\n",
    "        with open(fn_acs_, 'w') as f:\n",
    "            f.write(json.dumps(_geojson))"
   ]
  },
  {
   "cell_type": "code",
   "execution_count": null,
   "metadata": {},
   "outputs": [],
   "source": []
  }
 ],
 "metadata": {
  "kernelspec": {
   "display_name": "Python 3",
   "language": "python",
   "name": "python3"
  },
  "language_info": {
   "codemirror_mode": {
    "name": "ipython",
    "version": 3
   },
   "file_extension": ".py",
   "mimetype": "text/x-python",
   "name": "python",
   "nbconvert_exporter": "python",
   "pygments_lexer": "ipython3",
   "version": "3.8.1"
  }
 },
 "nbformat": 4,
 "nbformat_minor": 4
}
