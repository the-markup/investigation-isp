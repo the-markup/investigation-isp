{
 "cells": [
  {
   "cell_type": "code",
   "execution_count": 1,
   "metadata": {},
   "outputs": [],
   "source": [
    "%load_ext autoreload\n",
    "%autoreload 2"
   ]
  },
  {
   "cell_type": "code",
   "execution_count": 7,
   "metadata": {},
   "outputs": [],
   "source": [
    "import os\n",
    "import pandas as pd\n",
    "from tqdm import tqdm\n",
    "\n",
    "from aggregators import bucket_and_bin\n",
    "from config import city2ap"
   ]
  },
  {
   "cell_type": "code",
   "execution_count": 13,
   "metadata": {},
   "outputs": [],
   "source": [
    "# inputs\n",
    "fn_att = '../data/output/speed_price_att.csv.gz'\n",
    "fn_centurylink = '../data/output/speed_price_centurylink.csv.gz'\n",
    "fn_verizon = '../data/output/speed_price_verizon.csv.gz'\n",
    "fn_earthlink = '../data/output/speed_price_earthlink.csv.gz'\n",
    "inputs = {\n",
    "    \"AT&T\" : fn_att,\n",
    "    \"CenturyLink\": fn_centurylink,\n",
    "    \"Verizon\": fn_verizon,\n",
    "    \"EarthLink\" : fn_earthlink\n",
    "}\n",
    "\n",
    "dir_out = '../data/output/by_city'\n",
    "os.makedirs(dir_out, exist_ok=True)"
   ]
  },
  {
   "cell_type": "code",
   "execution_count": 4,
   "metadata": {},
   "outputs": [],
   "source": [
    "def filter_df(fn, isp):\n",
    "    \"\"\"\n",
    "    Filters out no service offers, and cities which we can't analyze\n",
    "    \"\"\"\n",
    "    df = pd.read_csv(fn)\n",
    "    df = df[df.speed_down != 0]\n",
    "    df = bucket_and_bin(df)\n",
    "    df['isp'] = isp\n",
    "    if isp == 'Verizon':\n",
    "        df.price = df.price.replace({40: 39.99, 49.99: 39.99})\n",
    "        df = df[df.price == 39.99]\n",
    "        nyc_cities = ['new york', 'brooklyn', 'queens', 'staten island', 'brooklyn', 'bronx']\n",
    "        nyc = []\n",
    "        for city, _df in df.groupby('major_city'):\n",
    "            if city in nyc_cities:\n",
    "                nyc.extend(_df.to_dict(orient='records'))\n",
    "        nyc = pd.DataFrame(nyc)\n",
    "        nyc['major_city'] = 'new york city'\n",
    "        \n",
    "        # add NYC\n",
    "        df = df[~df.major_city.isin(nyc_cities)]\n",
    "        df = df.append(nyc)\n",
    "        \n",
    "    elif isp == 'EarthLink':\n",
    "        df = df[df.contract_provider.isin(['AT&T', 'CenturyLink'])]\n",
    "        \n",
    "    homogenous_cities = {'bridgeport', 'wilmington'}\n",
    "    df = df[~df.major_city.isin(homogenous_cities)]\n",
    "    return df"
   ]
  },
  {
   "cell_type": "code",
   "execution_count": 6,
   "metadata": {},
   "outputs": [],
   "source": [
    "cols_to_keep = [\n",
    "    'address_full', \n",
    "    'major_city', 'state', \n",
    "    'lat', 'lon', \n",
    "    'block_group', \n",
    "    'collection_datetime',\n",
    "    'provider', \n",
    "    'price', \n",
    "    'speed_down', 'speed_up', \n",
    "    'speed_unit',\n",
    "    'technology', 'package', \n",
    "    'fastest_speed_down', \n",
    "    'fastest_speed_price',\n",
    "    'speed_down_bins',\n",
    "    'redlining_grade',\n",
    "    'race_perc_non_white', \n",
    "    'race_quantile',\n",
    "    'median_household_income', \n",
    "    'income_dollars_below_median', \n",
    "    'income_level', \n",
    "    'ppl_per_sq_mile',\n",
    "    'n_providers', \n",
    "    'internet_perc_broadband',\n",
    "]"
   ]
  },
  {
   "cell_type": "code",
   "execution_count": 8,
   "metadata": {},
   "outputs": [],
   "source": [
    "provider2provider = {\n",
    "    'at&t' : 'AT&T',\n",
    "    'centurylink': 'CenturyLink',\n",
    "    'earthlink': 'EarthLink',\n",
    "    'verizon': 'Verizon'\n",
    "}"
   ]
  },
  {
   "cell_type": "code",
   "execution_count": 9,
   "metadata": {},
   "outputs": [],
   "source": [
    "to_remove = {\n",
    "    'cleveland', \n",
    "    'memphis', \n",
    "    'baltimore',\n",
    "    'providence',\n",
    "    'new york city',\n",
    "    'philadelphia',\n",
    "    'boston'\n",
    "}"
   ]
  },
  {
   "cell_type": "code",
   "execution_count": 14,
   "metadata": {},
   "outputs": [
    {
     "name": "stderr",
     "output_type": "stream",
     "text": [
      "100%|██████████| 20/20 [00:11<00:00,  1.78it/s]\n",
      "100%|██████████| 15/15 [00:06<00:00,  2.46it/s]\n",
      "<ipython-input-4-0c5b408e5f47>:22: FutureWarning: The frame.append method is deprecated and will be removed from pandas in a future version. Use pandas.concat instead.\n",
      "  df = df.append(nyc)\n",
      "100%|██████████| 8/8 [00:07<00:00,  1.04it/s]\n",
      "100%|██████████| 33/33 [00:12<00:00,  2.54it/s]\n"
     ]
    }
   ],
   "source": [
    "for isp, fn in inputs.items():\n",
    "    fn_out = fn.replace('../data/output/', dir_out)\n",
    "    if isp == 'EarthLink':\n",
    "        cols_to_keep_ = cols_to_keep + ['contract_provider']\n",
    "    else:\n",
    "        cols_to_keep_ = cols_to_keep.copy()\n",
    "    \n",
    "    df = filter_df(fn, isp=isp)\n",
    "    data = []\n",
    "    for city, _df in tqdm(df.groupby('major_city')):\n",
    "        _df =  bucket_and_bin(_df)\n",
    "        _df[cols_to_keep_].to_csv(os.path.join(dir_out, f'{city}_{isp.lower()}_plans.csv'),\n",
    "                               index=False)\n",
    "        data.extend(_df.to_dict('records'))"
   ]
  },
  {
   "cell_type": "code",
   "execution_count": null,
   "metadata": {},
   "outputs": [],
   "source": []
  }
 ],
 "metadata": {
  "kernelspec": {
   "display_name": "Python 3",
   "language": "python",
   "name": "python3"
  },
  "language_info": {
   "codemirror_mode": {
    "name": "ipython",
    "version": 3
   },
   "file_extension": ".py",
   "mimetype": "text/x-python",
   "name": "python",
   "nbconvert_exporter": "python",
   "pygments_lexer": "ipython3",
   "version": "3.8.1"
  }
 },
 "nbformat": 4,
 "nbformat_minor": 4
}
