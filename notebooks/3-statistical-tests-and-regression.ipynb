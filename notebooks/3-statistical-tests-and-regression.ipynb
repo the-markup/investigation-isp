{
 "cells": [
  {
   "cell_type": "code",
   "execution_count": 1,
   "metadata": {},
   "outputs": [],
   "source": [
    "%load_ext autoreload\n",
    "%autoreload 2"
   ]
  },
  {
   "cell_type": "code",
   "execution_count": 2,
   "metadata": {},
   "outputs": [],
   "source": [
    "import os\n",
    "import random\n",
    "import math\n",
    "import json\n",
    "\n",
    "import istarmap  # import to apply monkey patch to multiprocess\n",
    "import multiprocess\n",
    "import numpy as np\n",
    "import pandas as pd\n",
    "from tqdm import tqdm\n",
    "from scipy import stats \n",
    "from IPython.display import Markdown, display\n",
    "import matplotlib.pyplot as plt\n",
    "from matplotlib.lines import Line2D\n",
    "from matplotlib.offsetbox import OffsetImage, AnnotationBbox\n",
    "from sklearn.preprocessing import StandardScaler, RobustScaler\n",
    "import statsmodels.api as sm\n",
    "import statsmodels.formula.api as smf\n",
    "\n",
    "from aggregators import bucket_and_bin"
   ]
  },
  {
   "cell_type": "code",
   "execution_count": 3,
   "metadata": {},
   "outputs": [],
   "source": [
    "# ouputs\n",
    "fn_distance = '../data/output/figs/fig2_dist.csv'\n",
    "fn_disparity = '../data/output/tables/table1_cities_ranked_by_categories.csv'\n",
    "fn_regression_all = '../data/output/tables/table2_regression_outputs_all.csv'\n",
    "fn_regression_income = '../data/output/tables/table3a_regression_outputs_income.csv'\n",
    "fn_regression_race = '../data/output/tables/table3b_regression_outputs_race.csv'\n",
    "fn_regression_redlining = '../data/output/tables/table3c_regression_outputs_redlining.csv'\n",
    "\n",
    "\n",
    "fn_observed_income = '../data/output/figs/fig4_income.csv'\n",
    "fn_adjusted_income = '../data/output/figs/fig5_income.csv'\n",
    "fn_observed_race = '../data/output/figs/fig4_race.csv'\n",
    "fn_adjusted_race= '../data/output/figs/fig5_race.csv'\n",
    "fn_observed_redlining = '../data/output/figs/fig4_redlining.csv'\n",
    "fn_adjusted_redlining = '../data/output/figs/fig5_redlining.csv'\n",
    "\n",
    "# inputs\n",
    "fn_att = '../data/output/speed_price_att.csv.gz'\n",
    "fn_centurylink = '../data/output/speed_price_centurylink.csv.gz'\n",
    "fn_verizon = '../data/output/speed_price_verizon.csv.gz'\n",
    "fn_earthlink = '../data/output/speed_price_earthlink.csv.gz'\n",
    "inputs = {\n",
    "    \"AT&T\" : fn_att,\n",
    "    \"CenturyLink\": fn_centurylink,\n",
    "    \"Verizon\": fn_verizon,\n",
    "    \"EarthLink\" : fn_earthlink\n",
    "}\n",
    "\n",
    "# params\n",
    "recalculate = False\n",
    "n_jobs = 10"
   ]
  },
  {
   "cell_type": "code",
   "execution_count": 4,
   "metadata": {},
   "outputs": [],
   "source": [
    "# for isp, fn in inputs.items():\n",
    "#     _df = filter_df(fn, isp)\n",
    "#     for city, __df in _df.groupby('major_city'):\n",
    "#         print(city, isp, len(__df))\n",
    "#         print(aspirational_quartile(__df['median_household_income'], \n",
    "#                                     labels=income_labels).value_counts(dropna=False, normalize=True))"
   ]
  },
  {
   "cell_type": "code",
   "execution_count": 5,
   "metadata": {},
   "outputs": [],
   "source": [
    "def filter_df(fn, isp):\n",
    "    \"\"\"\n",
    "    Filters out no service offers, and cities which we can't analyze\n",
    "    \"\"\"\n",
    "    df = pd.read_csv(fn)\n",
    "    df = df[df.speed_down != 0]\n",
    "    df = bucket_and_bin(df)\n",
    "    df['isp'] = isp\n",
    "    if isp == 'Verizon':\n",
    "        df.price = df.price.replace({40: 39.99, 49.99: 39.99})\n",
    "        df = df[df.price == 39.99]\n",
    "        nyc_cities = ['new york', 'brooklyn', 'queens', 'staten island', 'brooklyn', 'bronx']\n",
    "        nyc = []\n",
    "        for city, _df in df.groupby('major_city'):\n",
    "            if city in nyc_cities:\n",
    "                nyc.extend(_df.to_dict(orient='records'))\n",
    "        nyc = pd.DataFrame(nyc)\n",
    "        nyc['major_city'] = 'new york city'\n",
    "        \n",
    "        # add NYC\n",
    "        df = df[~df.major_city.isin(nyc_cities)]\n",
    "        df = df.append(nyc)\n",
    "        \n",
    "    elif isp == 'EarthLink':\n",
    "        df = df[df.contract_provider.isin(['AT&T', 'CenturyLink'])]\n",
    "    # filter out cities that don't have variety of speeds\n",
    "#     variety = df.groupby(['major_city', 'state']).speed_down_bins.value_counts(normalize=True)\n",
    "#     homogenous_cities = set(variety[variety >= .95].index.get_level_values(0))\n",
    "    homogenous_cities = set()\n",
    "    homogenous_cities.add('bridgeport') # just four offers from non-frontier\n",
    "    homogenous_cities.add('wilmington')\n",
    "    df = df[~df.major_city.isin(homogenous_cities)]\n",
    "    return df"
   ]
  },
  {
   "cell_type": "code",
   "execution_count": 6,
   "metadata": {},
   "outputs": [
    {
     "name": "stdout",
     "output_type": "stream",
     "text": [
      "AT&T we analyzed 343591 addresses from 20 cities\n"
     ]
    },
    {
     "name": "stderr",
     "output_type": "stream",
     "text": [
      "<ipython-input-6-9af7006426e1>:4: DtypeWarning: Columns (19) have mixed types.Specify dtype option on import or set low_memory=False.\n",
      "  d = filter_df(fn, isp=isp)\n"
     ]
    },
    {
     "name": "stdout",
     "output_type": "stream",
     "text": [
      "CenturyLink we analyzed 180067 addresses from 15 cities\n"
     ]
    },
    {
     "name": "stderr",
     "output_type": "stream",
     "text": [
      "<ipython-input-6-9af7006426e1>:4: DtypeWarning: Columns (20) have mixed types.Specify dtype option on import or set low_memory=False.\n",
      "  d = filter_df(fn, isp=isp)\n"
     ]
    },
    {
     "name": "stdout",
     "output_type": "stream",
     "text": [
      "Verizon we analyzed 223259 addresses from 8 cities\n",
      "EarthLink we analyzed 390693 addresses from 33 cities\n"
     ]
    },
    {
     "data": {
      "text/plain": [
       "(1137610, 43)"
      ]
     },
     "execution_count": 6,
     "metadata": {},
     "output_type": "execute_result"
    }
   ],
   "source": [
    "c = 0\n",
    "cities = set()\n",
    "for (isp, fn) in inputs.items():\n",
    "    d = filter_df(fn, isp=isp)\n",
    "    cities.update(d.major_city.unique())\n",
    "    c += len(d)\n",
    "    print(f\"{isp} we analyzed {len(d)} addresses from {d.major_city.nunique()} cities\")\n",
    "c, len(cities)"
   ]
  },
  {
   "cell_type": "code",
   "execution_count": 7,
   "metadata": {},
   "outputs": [],
   "source": [
    "# data = []\n",
    "# for (isp, fn) in inputs.items():\n",
    "#     d = filter_df(fn, isp=isp)\n",
    "#     for city, _df in tqdm(d.groupby('major_city'), total=d.major_city.nunique()):\n",
    "#         _df = bucket_and_bin(_df)\n",
    "#         data.extend(_df.to_dict(orient='records'))"
   ]
  },
  {
   "cell_type": "code",
   "execution_count": 8,
   "metadata": {},
   "outputs": [],
   "source": [
    "# df = pd.DataFrame(data)"
   ]
  },
  {
   "cell_type": "markdown",
   "metadata": {},
   "source": [
    "## Median Distance"
   ]
  },
  {
   "cell_type": "code",
   "execution_count": 9,
   "metadata": {},
   "outputs": [],
   "source": [
    "isp2house = {\n",
    "    'Verizon': '../data/output/figs/house_emoji_brick.png',\n",
    "    'AT&T': '../data/output/figs/house_emoji.png',\n",
    "    'CenturyLink': '../data/output/figs/house_emoji_blue.png'\n",
    "}"
   ]
  },
  {
   "cell_type": "code",
   "execution_count": 10,
   "metadata": {},
   "outputs": [],
   "source": [
    "cols = [\n",
    "    'address_full',\n",
    "    'lat', 'lon',\n",
    "    'race_perc_non_white',\n",
    "    'n_providers',\n",
    "    'median_household_income',\n",
    "    'redlining_grade'\n",
    "]\n",
    "def plot_distance_to_fiber(slow_to_blazin, isp):\n",
    "    legend_elements = [Line2D([0], [0], marker='o', color='w', \n",
    "                          label=label, markerfacecolor=\"#1f66e0\", markersize=10)\n",
    "                   for label, c in isp2house.items()][::-1]\n",
    "    slow_to_blazin.major_city = slow_to_blazin.major_city.apply(lambda x: x.title())\n",
    "    to_plot = slow_to_blazin.groupby(['major_city', 'state', 'isp']).closest_fiber_miles.median().sort_values(ascending=True)\n",
    "    to_plot = (to_plot * 1609.34).reset_index()\n",
    "    to_plot['zeros'] = 0\n",
    "    print(to_plot.head(3))\n",
    "    title = f\"Median Distance Between Households {isp}\\nOffered Slow Speeds and Blazin' Fiber Speeds\"\n",
    "    ax = to_plot.plot(x = 'closest_fiber_miles', y='major_city', kind='scatter',\n",
    "                 s= 90, color ='#4385f2', figsize=(6, 10),\n",
    "                 title=title)\n",
    "    to_plot.plot(x = 'closest_fiber_miles', y='major_city', kind='scatter',\n",
    "                 s= 20, color ='white', ax=ax)\n",
    "    for i, (_, row) in enumerate(to_plot.iterrows()):\n",
    "        x = row['closest_fiber_miles']\n",
    "        fn_image = isp2house.get(row['isp'])\n",
    "        image = OffsetImage(plt.imread(fn_image), zoom=.035)\n",
    "        ab = AnnotationBbox(image, (x, i), frameon=False)\n",
    "        ax.add_artist(ab)\n",
    "    \n",
    "    x1 = np.zeros(len(to_plot)).tolist()\n",
    "    x2 = to_plot['closest_fiber_miles'].tolist()\n",
    "    n = to_plot['major_city'].tolist()\n",
    "    for i in range(0, len(x1)):\n",
    "        plt.plot([x1[i], x2[i]], [n[i], n[i]], '-', color='#4385f2', lw=4, zorder=-1)\n",
    "\n",
    "    # Hide the right and top spines\n",
    "    ax.spines['top'].set_visible(False)\n",
    "    ax.spines['right'].set_visible(False)\n",
    "\n",
    "    # Only show ticks on the left and bottom spines\n",
    "    ax.yaxis.set_ticks_position('left')\n",
    "\n",
    "    ax.set_xlim(left=0)\n",
    "    labels = ax.get_xticks().tolist()\n",
    "    labels = [int(_) for _ in labels]\n",
    "    labels[0] = \"0 meters\"\n",
    "    ax.set_xticklabels(labels)\n",
    "    \n",
    "    plt.gca().invert_yaxis()\n",
    "\n",
    "    ax.set_xlabel(\"\")\n",
    "    ax.set_ylabel(\"\")\n",
    "#     ax.get_legend().remove()\n",
    "    \n",
    "    ax.grid(axis='x', zorder=0)\n",
    "    ax.set_ylim(top=n[0], bottom=n[-1])\n",
    "    plt.show()"
   ]
  },
  {
   "cell_type": "code",
   "execution_count": 11,
   "metadata": {},
   "outputs": [
    {
     "name": "stderr",
     "output_type": "stream",
     "text": [
      "<ipython-input-11-d3891d53ddcc>:4: DtypeWarning: Columns (19) have mixed types.Specify dtype option on import or set low_memory=False.\n",
      "  df = filter_df(fn, isp)\n",
      "<ipython-input-11-d3891d53ddcc>:4: DtypeWarning: Columns (20) have mixed types.Specify dtype option on import or set low_memory=False.\n",
      "  df = filter_df(fn, isp)\n"
     ]
    }
   ],
   "source": [
    "slows_to_blazins = pd.DataFrame([])\n",
    "for isp, fn in inputs.items():\n",
    "    if isp == 'EarthLink': continue\n",
    "    df = filter_df(fn, isp)\n",
    "    for city, _df in df.groupby(['major_city']):\n",
    "        n_slow = len(_df[_df.speed_down_bins == 'Slow (<25 Mbps)'])\n",
    "        n_not_slow = len(_df[_df.speed_down_bins != 'Slow (<25 Mbps)'])\n",
    "        n_all = len(_df)\n",
    "        if (_df.speed_down_bins.nunique() <= 1) or (n_slow / n_all <= .01) or (n_not_slow / n_all <= .01):\n",
    "            continue\n",
    "        slow_to_blazin = _df[(_df.closest_fiber_miles != 0) & \n",
    "                            (_df.speed_down <= 25)]\n",
    "        slows_to_blazins = slows_to_blazins.append(slow_to_blazin)"
   ]
  },
  {
   "cell_type": "code",
   "execution_count": 12,
   "metadata": {},
   "outputs": [
    {
     "name": "stdout",
     "output_type": "stream",
     "text": [
      "     major_city state      isp  closest_fiber_miles  zeros\n",
      "0  Philadelphia    PA  Verizon            35.585935      0\n",
      "1        Boston    MA  Verizon            53.643582      0\n",
      "2    Washington    DC  Verizon            75.804138      0\n"
     ]
    },
    {
     "name": "stderr",
     "output_type": "stream",
     "text": [
      "<ipython-input-10-3194b9122f6e>:48: UserWarning: FixedFormatter should only be used together with FixedLocator\n",
      "  ax.set_xticklabels(labels)\n"
     ]
    },
    {
     "data": {
      "image/png": "[encoded data removed]",
      "text/plain": [
       "<Figure size 432x720 with 1 Axes>"
      ]
     },
     "metadata": {
      "needs_background": "light"
     },
     "output_type": "display_data"
    }
   ],
   "source": [
    "plot_distance_to_fiber(slows_to_blazins, isp=\"\")"
   ]
  },
  {
   "cell_type": "code",
   "execution_count": 13,
   "metadata": {},
   "outputs": [],
   "source": [
    "dist_summary = slows_to_blazins.groupby(['major_city', 'state', 'isp']).closest_fiber_miles.median().sort_values(ascending=True)"
   ]
  },
  {
   "cell_type": "code",
   "execution_count": 14,
   "metadata": {},
   "outputs": [],
   "source": [
    "dist_summary.to_csv(fn_distance)"
   ]
  },
  {
   "cell_type": "code",
   "execution_count": 15,
   "metadata": {},
   "outputs": [
    {
     "data": {
      "text/plain": [
       "isp\n",
       "Verizon        123.605197\n",
       "AT&T           415.118421\n",
       "CenturyLink    659.793897\n",
       "Name: closest_fiber_miles, dtype: float64"
      ]
     },
     "execution_count": 15,
     "metadata": {},
     "output_type": "execute_result"
    }
   ],
   "source": [
    "slows_to_blazins.groupby('isp').closest_fiber_miles.median().sort_values(ascending=True)* 1609.34"
   ]
  },
  {
   "cell_type": "code",
   "execution_count": 16,
   "metadata": {},
   "outputs": [
    {
     "data": {
      "text/plain": [
       "major_city      state  isp        \n",
       "Philadelphia    PA     Verizon          35.585935\n",
       "Boston          MA     Verizon          53.643582\n",
       "Washington      DC     Verizon          75.804138\n",
       "Newark          NJ     Verizon          87.506333\n",
       "Portland        OR     CenturyLink     117.594082\n",
       "Seattle         WA     CenturyLink     121.755967\n",
       "Denver          CO     CenturyLink     146.930425\n",
       "Minneapolis     MN     CenturyLink     148.974406\n",
       "Atlanta         GA     AT&T            206.139991\n",
       "Louisville      KY     AT&T            217.147994\n",
       "Milwaukee       WI     AT&T            239.148902\n",
       "Charlotte       NC     AT&T            246.165900\n",
       "Los Angeles     CA     AT&T            269.980644\n",
       "Huntsville      AL     AT&T            270.237510\n",
       "Houston         TX     AT&T            281.306554\n",
       "Salt Lake City  UT     CenturyLink     283.378684\n",
       "Indianapolis    IN     AT&T            319.762967\n",
       "Oklahoma City   OK     AT&T            356.592321\n",
       "Des Moines      IA     CenturyLink     371.318707\n",
       "Wichita         KS     AT&T            395.563747\n",
       "New Orleans     LA     AT&T            398.099647\n",
       "Jacksonville    FL     AT&T            405.180614\n",
       "Little Rock     AR     AT&T            409.654251\n",
       "Chicago         IL     AT&T            446.409437\n",
       "Cleveland       OH     AT&T            465.319794\n",
       "Boise           ID     CenturyLink     544.027325\n",
       "Omaha           NE     CenturyLink     671.298390\n",
       "Memphis         TN     AT&T            687.236616\n",
       "Jackson         MS     AT&T            830.830888\n",
       "Charleston      SC     AT&T            902.245186\n",
       "Virginia Beach  VA     Verizon         908.232424\n",
       "Detroit         MI     AT&T           1129.444163\n",
       "Fargo           ND     CenturyLink    1185.074014\n",
       "Kansas City     MO     AT&T           1239.814055\n",
       "Phoenix         AZ     CenturyLink    1280.437750\n",
       "Las Vegas       NV     CenturyLink    1287.484828\n",
       "Sioux Falls     SD     CenturyLink    1317.903884\n",
       "Billings        MT     CenturyLink    1581.424018\n",
       "Cheyenne        WY     CenturyLink    1631.944198\n",
       "Albuquerque     NM     CenturyLink    2232.858906\n",
       "Name: closest_fiber_miles, dtype: float64"
      ]
     },
     "execution_count": 16,
     "metadata": {},
     "output_type": "execute_result"
    }
   ],
   "source": [
    "dist_summary * 1609.34"
   ]
  },
  {
   "cell_type": "code",
   "execution_count": 17,
   "metadata": {},
   "outputs": [],
   "source": [
    "def which_has_largest_proportion(df, col='income_level', bins=['Low'], comparison=[], limit=300):\n",
    "    sample1 = df[df[col].isin(bins)]\n",
    "    if len(comparison) != 0:\n",
    "        sample2 = df[df[col].isin(comparison)]\n",
    "    else:\n",
    "        sample2 = df[~df[col].isin(bins)]\n",
    "        \n",
    "    if len(sample1) < limit or len(sample2) < limit:\n",
    "        return None, None, None, 'small bin'\n",
    "    \n",
    "    try:\n",
    "        prop1 = len(sample1[sample1.is_slow == 1]) / len(sample1)\n",
    "        prop2 = len(sample2[sample2.is_slow == 1]) / len(sample2)\n",
    "        return prop1, prop2, round(prop1 - prop2, 3) >= .05, None\n",
    "    except Exception as e:\n",
    "        print(e, df.head(2))\n",
    "        return None, None, None, e\n",
    "\n",
    "def test_flow(df, isp, params):\n",
    "    iv = params['iv']\n",
    "    data = []\n",
    "    \n",
    "    s = df.groupby('major_city').race_perc_non_white.quantile([.25,.75]).unstack()\n",
    "    s['delta'] = s[0.75] - s[0.25]\n",
    "    race_cities = set(s[s.delta >= .2].index)\n",
    "    \n",
    "    for (city, state), _df in df.groupby(['major_city', 'state']):\n",
    "        _df = bucket_and_bin(_df)\n",
    "        n_slow = len(_df[_df.is_slow == True])\n",
    "        n_not_slow = len(_df[_df.is_slow == False])\n",
    "        n_all = len(_df)\n",
    "        \n",
    "        variety = _df.speed_down_bins.value_counts(normalize=True)\n",
    "        variety[variety >= .95]\n",
    "        \n",
    "        if len(variety[variety >= .95]) != 0:\n",
    "            # skip cities with homogenous speed (this is just for EarthLink and Verizon)\n",
    "            data.append({'major_city': city, 'state': state, 'isp': isp,\n",
    "                         f'prop_slow_{iv}_exposure': None,\n",
    "                         f'prop_slow_{iv}_treatment': None,\n",
    "                         f'prop_slow_{iv}_delta' : None,\n",
    "                         'flag': 'monospeed'})\n",
    "            continue\n",
    "        if iv == 'income':\n",
    "            a, b, is_larger, flag = which_has_largest_proportion(_df, col=params['col'], bins=params['grades'],\n",
    "                                                                comparison=params['comparison'])\n",
    "\n",
    "        elif iv == 'redlining':\n",
    "            _df_rated = _df[~_df.redlining_grade.isnull()]\n",
    "            if len(_df_rated) / n_all <= .05:\n",
    "                data.append({'major_city': city, 'state': state, 'isp': isp,\n",
    "                         f'prop_slow_{iv}_exposure': None,\n",
    "                         f'prop_slow_{iv}_treatment': None,\n",
    "                         f'prop_slow_{iv}_delta' : None,\n",
    "                           'flag': 'not HOLC graded'})\n",
    "                continue\n",
    "            a, b, is_larger, flag = which_has_largest_proportion(_df, col=params['col'], bins=params['grades'],\n",
    "                                                           comparison=params['comparison'])\n",
    "        elif iv == 'race':\n",
    "            n_minority_white = len(_df[_df.race_perc_non_white > .50])\n",
    "            n_majority_white = len(_df[_df.race_perc_non_white < .50])\n",
    "            # check only cities with at least 5 percent of addresses in minority white.\n",
    "            if (n_minority_white / n_all <= .05) or (n_majority_white / n_all <=.05):\n",
    "#             if city not in race_cities:\n",
    "                data.append({'major_city': city, 'state': state, 'isp': isp,\n",
    "                         f'prop_slow_{iv}_exposure': None,\n",
    "                         f'prop_slow_{iv}_treatment': None,\n",
    "                         f'prop_slow_{iv}_delta' : None,\n",
    "                          'flag' : 'no diversity'})\n",
    "                continue\n",
    "            a, b, is_larger, flag = which_has_largest_proportion(_df, col=params['col'], bins=params['grades'],\n",
    "                                                          comparison=params['comparison'])\n",
    "\n",
    "        data.append({\n",
    "            'major_city': city,\n",
    "            'state': state,\n",
    "            f'slowest_{iv}' : is_larger,\n",
    "            'isp': isp,\n",
    "            f'prop_slow_{iv}_exposure': a,\n",
    "            f'prop_slow_{iv}_treatment': b,\n",
    "            f'prop_slow_{iv}_delta' : a-b if a else None,\n",
    "            'flag': flag\n",
    "        })\n",
    "        \n",
    "    return data"
   ]
  },
  {
   "cell_type": "code",
   "execution_count": 18,
   "metadata": {},
   "outputs": [],
   "source": [
    "income_params = {'iv': \"income\", 'grades': ['Low'], 'col': 'income_level'}\n",
    "race_params = {'iv': \"race\", 'grades': ['least white'], 'col': 'race_quantile'}\n",
    "redlining_params = {'iv': \"redlining\", 'grades': ['D'], 'col': 'redlining_grade'}\n",
    "\n",
    "# Treatment group\n",
    "income_params['comparison'] = ['Upper Income']\n",
    "race_params['comparison'] = ['most white']\n",
    "redlining_params['comparison'] = ['A', 'B']"
   ]
  },
  {
   "cell_type": "code",
   "execution_count": 19,
   "metadata": {},
   "outputs": [],
   "source": [
    "if not os.path.exists(fn_disparity) or recalculate:\n",
    "    table = pd.DataFrame()\n",
    "    for isp, fn in tqdm(inputs.items()):\n",
    "        df = filter_df(fn, isp)\n",
    "        income_data = test_flow(df, isp=isp, params=income_params)\n",
    "        race_data = test_flow(df, isp=isp, params=race_params)\n",
    "        redlining_data = test_flow(df, isp=isp, params=redlining_params)\n",
    "\n",
    "        df_table = pd.DataFrame(income_data).merge(\n",
    "            pd.DataFrame(race_data), on=['major_city', 'isp', 'state'], how='outer'\n",
    "        ).merge(\n",
    "            pd.DataFrame(redlining_data), on=['major_city', 'isp', 'state'], how='outer'\n",
    "        )\n",
    "\n",
    "        table = table.append(df_table)\n",
    "    table.major_city = table.major_city.str.title()\n",
    "    table.to_csv(fn_disparity, index=False)\n",
    "\n",
    "else:\n",
    "    table = pd.read_csv(fn_disparity)"
   ]
  },
  {
   "cell_type": "code",
   "execution_count": 20,
   "metadata": {},
   "outputs": [],
   "source": [
    "# all cities in the study\n",
    "n_cities = table.major_city.nunique()\n",
    "n_cities\n",
    "trend = set(table[(table.slowest_income == True) | \n",
    "      (table.slowest_race == True) | \n",
    "      (table.slowest_redlining == True)].major_city.unique())\n",
    "\n",
    "reverse_trend = set(table[(table.slowest_income == False) & \n",
    "      (table.slowest_race == False) & \n",
    "      (table.slowest_redlining == False)].major_city.unique())"
   ]
  },
  {
   "cell_type": "code",
   "execution_count": 21,
   "metadata": {},
   "outputs": [
    {
     "data": {
      "text/plain": [
       "{'Baltimore',\n",
       " 'Boise',\n",
       " 'Boston',\n",
       " 'Fargo',\n",
       " 'New York City',\n",
       " 'Philadelphia',\n",
       " 'Providence'}"
      ]
     },
     "execution_count": 21,
     "metadata": {},
     "output_type": "execute_result"
    }
   ],
   "source": [
    "# how many cities exhibit none of these trends?\n",
    "set(table.major_city.unique()) - trend"
   ]
  },
  {
   "cell_type": "code",
   "execution_count": 22,
   "metadata": {},
   "outputs": [
    {
     "data": {
      "text/html": [
       "<div>\n",
       "<style scoped>\n",
       "    .dataframe tbody tr th:only-of-type {\n",
       "        vertical-align: middle;\n",
       "    }\n",
       "\n",
       "    .dataframe tbody tr th {\n",
       "        vertical-align: top;\n",
       "    }\n",
       "\n",
       "    .dataframe thead th {\n",
       "        text-align: right;\n",
       "    }\n",
       "</style>\n",
       "<table border=\"1\" class=\"dataframe\">\n",
       "  <thead>\n",
       "    <tr style=\"text-align: right;\">\n",
       "      <th></th>\n",
       "      <th>major_city</th>\n",
       "      <th>state</th>\n",
       "      <th>slowest_income</th>\n",
       "      <th>isp</th>\n",
       "      <th>prop_slow_income_exposure</th>\n",
       "      <th>prop_slow_income_treatment</th>\n",
       "      <th>prop_slow_income_delta</th>\n",
       "      <th>flag_x</th>\n",
       "      <th>slowest_race</th>\n",
       "      <th>prop_slow_race_exposure</th>\n",
       "      <th>prop_slow_race_treatment</th>\n",
       "      <th>prop_slow_race_delta</th>\n",
       "      <th>flag_y</th>\n",
       "      <th>slowest_redlining</th>\n",
       "      <th>prop_slow_redlining_exposure</th>\n",
       "      <th>prop_slow_redlining_treatment</th>\n",
       "      <th>prop_slow_redlining_delta</th>\n",
       "      <th>flag</th>\n",
       "    </tr>\n",
       "  </thead>\n",
       "  <tbody>\n",
       "    <tr>\n",
       "      <th>42</th>\n",
       "      <td>Washington</td>\n",
       "      <td>DC</td>\n",
       "      <td>True</td>\n",
       "      <td>Verizon</td>\n",
       "      <td>0.317305</td>\n",
       "      <td>0.125173</td>\n",
       "      <td>0.192132</td>\n",
       "      <td>NaN</td>\n",
       "      <td>False</td>\n",
       "      <td>0.279925</td>\n",
       "      <td>0.283562</td>\n",
       "      <td>-0.003638</td>\n",
       "      <td>NaN</td>\n",
       "      <td>NaN</td>\n",
       "      <td>NaN</td>\n",
       "      <td>NaN</td>\n",
       "      <td>NaN</td>\n",
       "      <td>not HOLC graded</td>\n",
       "    </tr>\n",
       "  </tbody>\n",
       "</table>\n",
       "</div>"
      ],
      "text/plain": [
       "    major_city state slowest_income      isp  prop_slow_income_exposure  \\\n",
       "42  Washington    DC           True  Verizon                   0.317305   \n",
       "\n",
       "    prop_slow_income_treatment  prop_slow_income_delta flag_x slowest_race  \\\n",
       "42                    0.125173                0.192132    NaN        False   \n",
       "\n",
       "    prop_slow_race_exposure  prop_slow_race_treatment  prop_slow_race_delta  \\\n",
       "42                 0.279925                  0.283562             -0.003638   \n",
       "\n",
       "   flag_y slowest_redlining  prop_slow_redlining_exposure  \\\n",
       "42    NaN               NaN                           NaN   \n",
       "\n",
       "    prop_slow_redlining_treatment  prop_slow_redlining_delta             flag  \n",
       "42                            NaN                        NaN  not HOLC graded  "
      ]
     },
     "execution_count": 22,
     "metadata": {},
     "output_type": "execute_result"
    }
   ],
   "source": [
    "table[table.major_city == 'Washington']"
   ]
  },
  {
   "cell_type": "code",
   "execution_count": 23,
   "metadata": {},
   "outputs": [
    {
     "data": {
      "text/markdown": [
       "AT&T was significantly more likely to offer slow speeds in..."
      ],
      "text/plain": [
       "<IPython.core.display.Markdown object>"
      ]
     },
     "metadata": {},
     "output_type": "display_data"
    },
    {
     "data": {
      "text/markdown": [
       "- Low Income areas than Upper Income areas in **95.0**% of cities (19).<br>The opposite trend was in 5.0% of cities (1)."
      ],
      "text/plain": [
       "<IPython.core.display.Markdown object>"
      ]
     },
     "metadata": {},
     "output_type": "display_data"
    },
    {
     "data": {
      "text/markdown": [
       "- the least white areas compared to the most white areas in <b>57.9</b>% of cities (11).<br>The opposite trend was in 42.1% of cities (8).<br>We exclude 1 city for not containing enough minority white areas for comparison."
      ],
      "text/plain": [
       "<IPython.core.display.Markdown object>"
      ]
     },
     "metadata": {},
     "output_type": "display_data"
    },
    {
     "data": {
      "text/markdown": [
       "- D graded areas than A and B graded areas in **100.0**% of cities (14).<br>We exclude 6 cities for not containing enough HOLC graded areas for comparison."
      ],
      "text/plain": [
       "<IPython.core.display.Markdown object>"
      ]
     },
     "metadata": {},
     "output_type": "display_data"
    },
    {
     "data": {
      "text/markdown": [
       "<hr>"
      ],
      "text/plain": [
       "<IPython.core.display.Markdown object>"
      ]
     },
     "metadata": {},
     "output_type": "display_data"
    },
    {
     "data": {
      "text/markdown": [
       "CenturyLink was significantly more likely to offer slow speeds in..."
      ],
      "text/plain": [
       "<IPython.core.display.Markdown object>"
      ]
     },
     "metadata": {},
     "output_type": "display_data"
    },
    {
     "data": {
      "text/markdown": [
       "- Low Income areas than Upper Income areas in **86.7**% of cities (13).<br>The opposite trend was in 13.3% of cities (2)."
      ],
      "text/plain": [
       "<IPython.core.display.Markdown object>"
      ]
     },
     "metadata": {},
     "output_type": "display_data"
    },
    {
     "data": {
      "text/markdown": [
       "- the least white areas compared to the most white areas in <b>63.6</b>% of cities (7).<br>The opposite trend was in 36.4% of cities (4).<br>We exclude 4 cities for not containing enough minority white areas for comparison."
      ],
      "text/plain": [
       "<IPython.core.display.Markdown object>"
      ]
     },
     "metadata": {},
     "output_type": "display_data"
    },
    {
     "data": {
      "text/markdown": [
       "- D graded areas than A and B graded areas in **100.0**% of cities (7).<br>We exclude 8 cities for not containing enough HOLC graded areas for comparison."
      ],
      "text/plain": [
       "<IPython.core.display.Markdown object>"
      ]
     },
     "metadata": {},
     "output_type": "display_data"
    },
    {
     "data": {
      "text/markdown": [
       "<hr>"
      ],
      "text/plain": [
       "<IPython.core.display.Markdown object>"
      ]
     },
     "metadata": {},
     "output_type": "display_data"
    },
    {
     "data": {
      "text/markdown": [
       "Verizon was significantly more likely to offer slow speeds in..."
      ],
      "text/plain": [
       "<IPython.core.display.Markdown object>"
      ]
     },
     "metadata": {},
     "output_type": "display_data"
    },
    {
     "data": {
      "text/markdown": [
       "- Low Income areas than Upper Income areas in **100.0**% of cities (3)."
      ],
      "text/plain": [
       "<IPython.core.display.Markdown object>"
      ]
     },
     "metadata": {},
     "output_type": "display_data"
    },
    {
     "data": {
      "text/markdown": [
       "- the least white areas compared to the most white areas in <b>50.0</b>% of cities (1).<br>The opposite trend was in 50.0% of cities (1).<br>We exclude 1 city for not containing enough minority white areas for comparison."
      ],
      "text/plain": [
       "<IPython.core.display.Markdown object>"
      ]
     },
     "metadata": {},
     "output_type": "display_data"
    },
    {
     "data": {
      "text/markdown": [
       "- D graded areas than better graded areas in **100.0**% of cities (1).<br>We exclude 2 cities for not containing enough HOLC graded areas for comparison."
      ],
      "text/plain": [
       "<IPython.core.display.Markdown object>"
      ]
     },
     "metadata": {},
     "output_type": "display_data"
    },
    {
     "data": {
      "text/markdown": [
       "Note: we exclude 5 cities that are served the same speed. This includes Baltimore, Boston, New York City."
      ],
      "text/plain": [
       "<IPython.core.display.Markdown object>"
      ]
     },
     "metadata": {},
     "output_type": "display_data"
    },
    {
     "data": {
      "text/markdown": [
       "<hr>"
      ],
      "text/plain": [
       "<IPython.core.display.Markdown object>"
      ]
     },
     "metadata": {},
     "output_type": "display_data"
    },
    {
     "data": {
      "text/markdown": [
       "EarthLink was significantly more likely to offer slow speeds in..."
      ],
      "text/plain": [
       "<IPython.core.display.Markdown object>"
      ]
     },
     "metadata": {},
     "output_type": "display_data"
    },
    {
     "data": {
      "text/markdown": [
       "- Low Income areas than Upper Income areas in **73.7**% of cities (14).<br>The opposite trend was in 26.3% of cities (5)."
      ],
      "text/plain": [
       "<IPython.core.display.Markdown object>"
      ]
     },
     "metadata": {},
     "output_type": "display_data"
    },
    {
     "data": {
      "text/markdown": [
       "- the least white areas compared to the most white areas in <b>50.0</b>% of cities (9).<br>The opposite trend was in 50.0% of cities (9).<br>We exclude 1 city for not containing enough minority white areas for comparison."
      ],
      "text/plain": [
       "<IPython.core.display.Markdown object>"
      ]
     },
     "metadata": {},
     "output_type": "display_data"
    },
    {
     "data": {
      "text/markdown": [
       "- D graded areas than A and B graded areas in **100.0**% of cities (13).<br>We exclude 6 cities for not containing enough HOLC graded areas for comparison."
      ],
      "text/plain": [
       "<IPython.core.display.Markdown object>"
      ]
     },
     "metadata": {},
     "output_type": "display_data"
    },
    {
     "data": {
      "text/markdown": [
       "Note: we exclude 14 cities that are served the same speed. This includes Albuquerque (Nm), Billings (Mt), Boise (Id)."
      ],
      "text/plain": [
       "<IPython.core.display.Markdown object>"
      ]
     },
     "metadata": {},
     "output_type": "display_data"
    },
    {
     "data": {
      "text/markdown": [
       "<hr>"
      ],
      "text/plain": [
       "<IPython.core.display.Markdown object>"
      ]
     },
     "metadata": {},
     "output_type": "display_data"
    }
   ],
   "source": [
    "random.seed(303)\n",
    "summary_data = []\n",
    "for isp in inputs.keys():\n",
    "    table_ = table[table.isp == isp]\n",
    "    display(Markdown(f\"{isp} was significantly more likely to offer slow speeds in...\"))\n",
    "    \n",
    "    if isp == 'EarthLink':\n",
    "        table_['major_city'] = table_.apply(lambda x: f\"{x['major_city']} ({x['state'].upper()})\", axis=1)\n",
    "        \n",
    "    null_cities = table_[(table_.slowest_income.isnull()) | (table_.prop_slow_income_treatment == 0)].major_city.unique()\n",
    "    all_cities = table_.major_city.nunique()\n",
    "    all_cities -= len(null_cities)\n",
    "    \n",
    "    # income\n",
    "    n_cities = table_[~table_.slowest_income.isnull()].major_city.nunique()\n",
    "    cities = table_[table_.slowest_income == True].major_city.unique()\n",
    "    sig_opposite_cities = table_[table_.slowest_income == False].major_city.unique()\n",
    "    \n",
    "    random.shuffle(cities)\n",
    "    n_low = len(cities)\n",
    "    \n",
    "    record_income ={\n",
    "        'isp': isp,\n",
    "        'null_cities' : null_cities.tolist(),\n",
    "        'all_cities' : all_cities,\n",
    "        'income_cities' : table_[~table_.slowest_income.isnull()].major_city.nunique(),\n",
    "        'income_percent_low_income': round(n_low / n_cities * 100, 1),\n",
    "        'income_cities_significant': cities.tolist(),\n",
    "        'income_cities_non_significant_anti_trend': sig_opposite_cities.tolist()\n",
    "    }\n",
    "    \n",
    "    text =  (\n",
    "        f\"- {' and '.join(income_params['grades'])} Income areas than Upper Income areas in **{round(n_low / n_cities * 100, 1)}**% of cities ({n_low}).\"\n",
    "#         f\"<br>This includes cities like {cities[0].title()}, {cities[1].title()}, and {cities[2].title()}.\"\n",
    "    )\n",
    "    if len(sig_opposite_cities) > 0:\n",
    "        perc = round(len(sig_opposite_cities) / n_cities * 100, 1)\n",
    "        text += f\"<br>The opposite trend was in {perc}% of cities ({len(sig_opposite_cities)}).\"\n",
    "\n",
    "    display(Markdown(text))\n",
    "\n",
    "    # race\n",
    "    n_cities = table_[~table_.slowest_race.isnull()].major_city.nunique()\n",
    "    random.shuffle(cities)\n",
    "    cities = table_[table_.slowest_race == True].major_city.unique()\n",
    "    \n",
    "    sig_opposite_cities = table_[table_.slowest_race == False].major_city.unique()\n",
    "    \n",
    "    random.shuffle(cities)\n",
    "    n_minority_white = len(cities)\n",
    "    \n",
    "    record_race ={\n",
    "        'isp': isp,\n",
    "        'race_cities' : table_[~table_.slowest_race.isnull()].major_city.unique().tolist(),\n",
    "        'race_percent_low_income': round(n_minority_white / n_cities * 100, 1),\n",
    "        'race_cities_non_significant_anti_trend': sig_opposite_cities.tolist()\n",
    "    }\n",
    "    \n",
    "    text = (\n",
    "        f\"- the {' and '.join(race_params['grades'])} areas compared to the most white areas in <b>{round(n_minority_white / n_cities * 100, 1)}</b>% of cities ({n_minority_white}).\"\n",
    "#         f\"<br>This includes cities like {', '.join([c.title() for c in cities[:3]])}.\\n\"\n",
    "    )\n",
    "    if len(sig_opposite_cities) > 0:\n",
    "        perc = round(len(sig_opposite_cities) / n_cities * 100, 1)\n",
    "        text += f\"<br>The opposite trend was in {perc}% of cities ({len(sig_opposite_cities)}).\"\n",
    " \n",
    "    \n",
    "    if n_cities < all_cities:\n",
    "        diff = all_cities - n_cities\n",
    "        record_race['race_n_cities_cant_analyze'] = diff\n",
    "        text += f\"<br>We exclude {diff} {'cities' if diff > 1 else 'city'} for not containing enough minority white areas for comparison.\"\n",
    "    display(Markdown(text))\n",
    "\n",
    "    # redlining\n",
    "    n_cities = table_[~table_.slowest_redlining.isnull()].major_city.nunique()\n",
    "    cities = table_[table_.slowest_redlining == True].major_city.unique()\n",
    "    sig_opposite_cities = table_[table_.slowest_redlining == False].major_city.unique()\n",
    "    random.shuffle(cities)\n",
    "    n_redline = len(cities)\n",
    "    \n",
    "    record_redlining ={\n",
    "        'isp': isp,\n",
    "        'redline_cities' : table_[~table_.slowest_redlining.isnull()].major_city.unique().tolist(),\n",
    "        'redline_percent_low_income': round(n_redline / n_cities * 100, 1),\n",
    "        'redline_cities_non_significant_anti_trend': sig_opposite_cities.tolist()\n",
    "    }\n",
    "    summary_data.append({**record_income, **record_race, **record_redlining})\n",
    "    \n",
    "    if len(cities) >= 3:\n",
    "        text = (\n",
    "            f\"- {' and '.join(redlining_params['grades'])}\"\n",
    "            f\" graded areas than A and B graded areas in **{round(n_redline/ n_cities * 100, 1)}**% of cities ({n_redline}).\"\n",
    "#             f\"<br>This includes cities like {cities[0].title()}, {cities[1].title()}, and {cities[2].title()}.\"\n",
    "        )\n",
    "    else:\n",
    "        text = (\n",
    "            f\"- {' and '.join(redlining_params['grades'])}\"\n",
    "            f\" graded areas than better graded areas in **{round(n_redline/ n_cities * 100, 1)}**% of cities ({n_redline}).\"\n",
    "#             f\"<br>This includes cities like {cities[0].title()}.\"\n",
    "        )\n",
    "    if len(sig_opposite_cities) > 0:\n",
    "        perc = round(len(sig_opposite_cities) / n_cities * 100, 1)\n",
    "        text += f\"<br>The opposite trend was statistically significant in {perc}% of cities ({len(sig_opposite_cities)}).\"\n",
    "    \n",
    "    if n_cities < all_cities:\n",
    "        diff = all_cities - n_cities\n",
    "        record_redlining['redline_n_cities_cant_analyze'] = diff\n",
    "        text += f\"<br>We exclude {diff} {'cities' if diff > 1 else 'city'} for not containing enough HOLC graded areas for comparison.\"\n",
    "    display(Markdown(text))\n",
    "\n",
    "    if len(null_cities) > 0:\n",
    "        n_null = len(null_cities)\n",
    "        if n_null == 1:\n",
    "            text = f\"Note: {null_cities[0].title()} was only offered slow speeds. We exclude this city from the above calculations.\"\n",
    "        else:\n",
    "            text =(\n",
    "                f\"Note: we exclude {n_null} {'cities' if n_null > 1 else 'city'} that are served the same speed.\"\n",
    "                f\" This includes {', '.join([c.title() for c in null_cities[:3]])}.\"\n",
    "            )\n",
    "        display(Markdown(text))\n",
    "    \n",
    "    display(Markdown('<hr>'))"
   ]
  },
  {
   "cell_type": "markdown",
   "metadata": {},
   "source": [
    "### What patterns emerge when we collapose the ISPs together, and look at cities?"
   ]
  },
  {
   "cell_type": "code",
   "execution_count": 24,
   "metadata": {},
   "outputs": [
    {
     "data": {
      "text/plain": [
       "43"
      ]
     },
     "execution_count": 24,
     "metadata": {},
     "output_type": "execute_result"
    }
   ],
   "source": [
    "table.major_city.nunique()"
   ]
  },
  {
   "cell_type": "code",
   "execution_count": 25,
   "metadata": {},
   "outputs": [],
   "source": [
    "income_cities = table[~table.slowest_income.isnull()].major_city.unique()\n",
    "race_cities = table[~table.slowest_race.isnull()].major_city.unique()\n",
    "redlining_cities = table[~table.slowest_redlining.isnull()].major_city.unique()"
   ]
  },
  {
   "cell_type": "code",
   "execution_count": 26,
   "metadata": {},
   "outputs": [],
   "source": [
    "all_cities = table[~table.slowest_income.isnull()].major_city.nunique()"
   ]
  },
  {
   "cell_type": "code",
   "execution_count": 27,
   "metadata": {},
   "outputs": [],
   "source": [
    "# table_old = table.copy()"
   ]
  },
  {
   "cell_type": "code",
   "execution_count": 28,
   "metadata": {},
   "outputs": [
    {
     "name": "stdout",
     "output_type": "stream",
     "text": [
      "Income 57 city-ISP pairs and 38 cities\n",
      " - Low areas disproportionately offered slow speeds 49 (86.0%) city-isp pairs and 35 (92.1%) cities.\n",
      " - omit 19 city-isp-pairs and 5 cities. \n",
      "\n",
      "Race 50 city-ISP pairs and 32 cities\n",
      " - least white areas disproportionately offered slow speeds 28 (56.0%) city-isp pairs and 20 (62.5%) cities.\n",
      " - omit 26 city-isp-pairs and 11 cities. \n",
      "\n",
      "Redlining 35 city-ISP pairs and 22 cities\n",
      " - D areas disproportionately offered slow speeds 35 (100.0%) city-isp pairs and 22 (100.0%) cities.\n",
      " - omit 41 city-isp-pairs and 21 cities. \n",
      "\n"
     ]
    }
   ],
   "source": [
    "for params in [income_params, race_params ,redlining_params]:\n",
    "    iv = params['iv']\n",
    "    base_group = params['grades'][0]\n",
    "    \n",
    "    # filter out cases we omitted for lack of data\n",
    "    null = table[table[f'slowest_{iv}'].isnull()]\n",
    "    null_city =  (set(table[table[f'slowest_{iv}'].isnull()].major_city.unique()) -\n",
    "                     set(table[~table[f'slowest_{iv}'].isnull()].major_city))\n",
    "    all_sig = table[~table[f'slowest_{iv}'].isnull()]\n",
    "    all_cities_tested = all_sig.major_city.nunique()\n",
    "#     homogenous = table[(table[f'prop_slow_{iv}_exposure'] == 0) | (table[f'prop_slow_{iv}_treatment'] == 0)]\n",
    "    \n",
    "    table_ = table[(table[f'prop_slow_{iv}_exposure'] != 0) & \n",
    "                   (table[f'prop_slow_{iv}_treatment'] != 0)]\n",
    "    \n",
    "    # of significant cases, when is the slowest class the lower income/least white/redlined example\n",
    "    slowest = all_sig[all_sig[f\"slowest_{iv}\"] == True]\n",
    "    perc_slower= len(slowest)\n",
    "    perc_slower_city = slowest.major_city.nunique()\n",
    "    print(f\"{iv.title()} {len(all_sig)} city-ISP pairs and {all_cities_tested} cities\"\n",
    "          f\"\\n - {base_group} areas disproportionately offered slow speeds {perc_slower} ({perc_slower/len(all_sig)*100:.1f}%) city-isp pairs and {perc_slower_city} ({perc_slower_city/all_cities_tested*100:.1f}%) cities.\"\n",
    "          f\"\\n - omit {len(null)} city-isp-pairs and {len(null_city)} cities. \\n\")"
   ]
  },
  {
   "cell_type": "code",
   "execution_count": 29,
   "metadata": {},
   "outputs": [],
   "source": [
    "color_1 = '#4f0d70'\n",
    "color_2 = \"#C31B6A\"\n",
    "\n",
    "bool2alpha = {\n",
    "    True: .95,\n",
    "    False : .35\n",
    "}"
   ]
  },
  {
   "cell_type": "code",
   "execution_count": 30,
   "metadata": {},
   "outputs": [],
   "source": [
    "def asterix_city(row, iv='income'):\n",
    "    if row['flag'] == 'monospeed':\n",
    "        return row['major_city'] + '*'\n",
    "    if iv =='income':\n",
    "        if row['flag_x'] in {'not HOLC graded', 'small bin'}:\n",
    "            return row['major_city'] + '˟'\n",
    "    if iv == 'redlining':\n",
    "        if row['flag'] in {'not HOLC graded', 'small bin'}:\n",
    "            return row['major_city'] + '˟'\n",
    "    if iv == 'race':\n",
    "        if row['flag_y'] in {'small bin', 'no diversity'}:\n",
    "            return row['major_city'] + '˟'\n",
    "    return row['major_city']\n",
    "\n",
    "def plot_observed(to_plot, iv='income', fn=None, title=None, ylim=60.5):\n",
    "    to_plot['Observed'] = to_plot[f'prop_slow_{iv}_delta']\n",
    "#     to_plot_ = to_plot[~to_plot['Observed'].isnull()].copy()\n",
    "    to_plot_ = to_plot.copy()\n",
    "    to_plot_.sort_values(by=['isp', 'Observed'], ascending=[True, False], inplace=True)\n",
    "    to_plot_['display_city'] = to_plot_.apply(asterix_city, axis=1, iv=iv)\n",
    "    for col in ['Observed', f'prop_slow_{iv}_exposure', f'prop_slow_{iv}_treatment']:\n",
    "        to_plot_[col] = to_plot_[col] * 100\n",
    "    \n",
    "    to_plot_['major_city_isp'] = to_plot_.apply(lambda x: x['isp'] + ' - ' + x['display_city'], axis=1)\n",
    "\n",
    "    ax = to_plot_.plot(y='major_city_isp', x='Observed', \n",
    "                      color=color_1,\n",
    "                      kind='scatter', figsize=(6, 10))\n",
    "\n",
    "    to_plot_['isp'] = pd.Categorical(to_plot_['isp'], [\"AT&T\", \"Verizon\", \"CenturyLink\", \"EarthLink\"])\n",
    "    to_plot_ = to_plot_.sort_values(by=['isp', 'Observed'], \n",
    "                                    ascending=[True, False])\n",
    "    to_plot_[['Observed', f'prop_slow_{iv}_exposure', f'prop_slow_{iv}_treatment',\n",
    "              'isp', 'major_city', 'display_city']].to_csv(fn, index=False)\n",
    "\n",
    "    # Hide the right and top spines\n",
    "    ax.spines['right'].set_visible(False)\n",
    "    ax.spines['left'].set_visible(False)\n",
    "\n",
    "    ax.spines['top'].set_visible(False)\n",
    "\n",
    "    # Only show ticks on the left and bottom spines\n",
    "    ax.yaxis.set_ticks_position('left')\n",
    "    ax.xaxis.set_ticks_position('bottom')\n",
    "    plt.gca().invert_yaxis()\n",
    "\n",
    "    ax.set_ylabel(\"\")\n",
    "    labels = ax.get_xticks().tolist()\n",
    "    labels = [int(_) for _ in labels]\n",
    "    # labels[0] = \"0%\"\n",
    "    ax.set_xticklabels(labels)\n",
    "    ax.set_xlabel(\"Percentage point difference\")\n",
    "    # ax.get_legend().remove()\n",
    "\n",
    "    plt.axvline(x=5,linewidth=1, color='black', linestyle='--', ymax=.96)\n",
    "    plt.axvline(x=-5,linewidth=1, color='black', linestyle='--', ymax=.96)\n",
    "\n",
    "    plt.text(-.03, -3., \n",
    "             title,\n",
    "             size=14,\n",
    "             horizontalalignment='left',\n",
    "             verticalalignment='center',);\n",
    "    ax.set_ylim(bottom=ylim)\n"
   ]
  },
  {
   "cell_type": "code",
   "execution_count": 31,
   "metadata": {},
   "outputs": [
    {
     "name": "stderr",
     "output_type": "stream",
     "text": [
      "<ipython-input-30-52d7faf4d682>:51: UserWarning: FixedFormatter should only be used together with FixedLocator\n",
      "  ax.set_xticklabels(labels)\n"
     ]
    },
    {
     "data": {
      "image/png": "[encoded data removed]",
      "text/plain": [
       "<Figure size 432x720 with 1 Axes>"
      ]
     },
     "metadata": {
      "needs_background": "light"
     },
     "output_type": "display_data"
    }
   ],
   "source": [
    "plot_observed(table, iv='income', fn=fn_observed_income,\n",
    "              ylim=68.5,\n",
    "              title = \"Compared to Upper Income areas,\\nLow income areas were disproportionately\\noffered slow speeds in almost every city\",)"
   ]
  },
  {
   "cell_type": "code",
   "execution_count": 32,
   "metadata": {},
   "outputs": [
    {
     "name": "stderr",
     "output_type": "stream",
     "text": [
      "<ipython-input-30-52d7faf4d682>:51: UserWarning: FixedFormatter should only be used together with FixedLocator\n",
      "  ax.set_xticklabels(labels)\n"
     ]
    },
    {
     "data": {
      "image/png": "[encoded data removed]",
      "text/plain": [
       "<Figure size 432x720 with 1 Axes>"
      ]
     },
     "metadata": {
      "needs_background": "light"
     },
     "output_type": "display_data"
    }
   ],
   "source": [
    "plot_observed(table, iv='race', fn=fn_observed_race, ylim=56.5,\n",
    "              title = f\"Compared to Whiter counterparts,\\nthe Least White Areas were Disproportionately\\nOffered Slow Speeds in Almost Every City\")"
   ]
  },
  {
   "cell_type": "code",
   "execution_count": 33,
   "metadata": {},
   "outputs": [
    {
     "name": "stderr",
     "output_type": "stream",
     "text": [
      "<ipython-input-30-52d7faf4d682>:51: UserWarning: FixedFormatter should only be used together with FixedLocator\n",
      "  ax.set_xticklabels(labels)\n"
     ]
    },
    {
     "data": {
      "image/png": "[encoded data removed]",
      "text/plain": [
       "<Figure size 432x720 with 1 Axes>"
      ]
     },
     "metadata": {
      "needs_background": "light"
     },
     "output_type": "display_data"
    }
   ],
   "source": [
    "plot_observed(table, iv='redlining', fn=fn_observed_redlining, ylim=41.5,\n",
    "              title = f\"Compared to better HOLC-rated areas,\\nHistorically Redlined Areas were Disproportionately\\nOffered Slow Speeds in Every City\",\n",
    ")"
   ]
  },
  {
   "cell_type": "markdown",
   "metadata": {},
   "source": [
    "## Regression"
   ]
  },
  {
   "cell_type": "code",
   "execution_count": 34,
   "metadata": {},
   "outputs": [],
   "source": [
    "def preprocess_for_log_reg(df):\n",
    "    df['n_providers'] = df['n_providers'] - 1\n",
    "    df['income_dollars_below_median'] = df['income_dollars_below_median'] / 100\n",
    "\n",
    "    df['constant'] = 1\n",
    "    scaler = StandardScaler()\n",
    "    df['lat_standard'] = scaler.fit_transform(df[['lat']])[:, 0]\n",
    "    scaler = StandardScaler()\n",
    "    df['lon_standard'] = scaler.fit_transform(df[['lon']])[:, 0]\n",
    "    scaler = StandardScaler()\n",
    "    df['ppl_per_sq_mile_standard'] = scaler.fit_transform(df[['ppl_per_sq_mile']])[:, 0]\n",
    "    scaler = StandardScaler()\n",
    "    df['income_dollars_below_median'] = scaler.fit_transform(df[['income_dollars_below_median']])[:, 0]\n",
    "    \n",
    "    # if there are no competitors, make this variable null.\n",
    "    # Then this variable is linked to the outcome.\n",
    "    df.loc[df.n_providers < 1, 'internet_perc_broadband'] = None\n",
    "    \n",
    "    scaler = StandardScaler()\n",
    "    df['internet_perc_broadband'] = scaler.fit_transform(df[['internet_perc_broadband']])[:, 0]\n",
    "\n",
    "    # this is our DV\n",
    "    df['is_slow'] = df.apply(\n",
    "        lambda x: 1 if x['speed_down_bins'] == \"Slow (<25 Mbps)\" else 0, \n",
    "        axis=1\n",
    "    )\n",
    "    \n",
    "    for iv in ['income_level', 'race_quantile', 'redlining_grade']:\n",
    "        df[iv] = df[iv].apply(lambda x: grade2rest.get(x, x))\n",
    "    return df  "
   ]
  },
  {
   "cell_type": "code",
   "execution_count": 35,
   "metadata": {},
   "outputs": [],
   "source": [
    "def train_and_return_coefs(formula, df, city, isp, model_name):\n",
    "    \"\"\"\n",
    "    Workflow for fitting binary logistic regression for `formula`.\n",
    "    This is formatted strangely because it'll be called by multiprocess(ing).Pool.\n",
    "    \"\"\"\n",
    "    import statsmodels.api as sm\n",
    "    import statsmodels.formula.api as smf\n",
    "    import pandas as pd\n",
    "    import numpy as np\n",
    "    try:\n",
    "        results = smf.logit(formula=formula, data=df).fit(disp=0)\n",
    "        coefs = pd.DataFrame({\n",
    "            'coef': results.params.values,\n",
    "            'odds_ratio': np.exp(results.params.values),\n",
    "            'pvalue': results.pvalues,\n",
    "            'pr_sq': results.prsquared,\n",
    "            'N' : len(df),\n",
    "            'major_city': city,\n",
    "            'state' : df.state.iloc[0],\n",
    "            'isp': isp,\n",
    "            'model' : model_name,\n",
    "            'intercept': results.params['Intercept'],\n",
    "        })\n",
    "    except Exception as e:\n",
    "        coefs = pd.DataFrame([{\n",
    "            'N' : len(df),\n",
    "            'major_city': city,\n",
    "            'state' : df.state.iloc[0],\n",
    "            'isp': isp,\n",
    "            'model' : model_name,\n",
    "            'error': e\n",
    "        }])\n",
    "    \n",
    "    return coefs"
   ]
  },
  {
   "cell_type": "code",
   "execution_count": 36,
   "metadata": {},
   "outputs": [],
   "source": [
    "def odds_to_probability(row, step=1):\n",
    "    \"\"\"\n",
    "    See about this equation here:\n",
    "    http://faculty.cas.usf.edu/mbrannick/regression/Logistic.html\n",
    "    \"\"\"\n",
    "    a = row['intercept']\n",
    "    b = row['coef']\n",
    "    X = step\n",
    "    try:\n",
    "        return math.exp(a + b * X) / (1 + math.exp(a + b * X))\n",
    "    except:\n",
    "        return None"
   ]
  },
  {
   "cell_type": "code",
   "execution_count": 37,
   "metadata": {},
   "outputs": [],
   "source": [
    "iv2treatment = {\n",
    "    \"income_level\" : 'Upper Income',\n",
    "    \"race_quantile\" : 'most white',\n",
    "    \"redlining_grade\" : 'rest'\n",
    "}\n",
    "\n",
    "grade2rest = {\n",
    "    'A' : 'rest',\n",
    "    'B' : 'rest',\n",
    "}"
   ]
  },
  {
   "cell_type": "code",
   "execution_count": 38,
   "metadata": {},
   "outputs": [],
   "source": [
    "if not os.path.exists(fn_regression_all) or recalculate:\n",
    "    data_regression = pd.DataFrame([])\n",
    "    \n",
    "    args = []\n",
    "    for isp, fn in inputs.items():\n",
    "        df = filter_df(fn, isp)\n",
    "        df['major_city'] = df['major_city'].apply(lambda x: x.title())\n",
    "        for (city, state), _df in df.groupby(by=['major_city', 'state']):\n",
    "            _df = bucket_and_bin(_df)\n",
    "            _df = preprocess_for_log_reg(_df)\n",
    "            \n",
    "            n_slow = len(_df[_df.speed_down_bins == 'Slow (<25 Mbps)'])\n",
    "            n_not_slow = len(_df[_df.speed_down_bins != 'Slow (<25 Mbps)'])\n",
    "            n_all = len(_df)\n",
    "            if (_df.speed_down_bins.nunique() <= 1) or (n_slow / n_all <= .01) or (n_not_slow / n_all <= .01):\n",
    "                # not enough speed\n",
    "                continue\n",
    "            for iv, treatment in iv2treatment.items():\n",
    "                if iv == 'race_quantile':\n",
    "                    n_minority_white = len(_df[_df.race_perc_non_white > .5])    \n",
    "                    n_majority_white = len(_df[_df.race_perc_non_white < .5])            \n",
    "\n",
    "                    # check only cities with at least 5 percent of addresses in minority white.\n",
    "                    if n_minority_white / len(_df) <= .05 or n_majority_white / len(_df) <= .05:\n",
    "                        print(f\"skip {city} {isp} race\")\n",
    "                        continue\n",
    "                elif iv == 'redlining_grade':\n",
    "                    _df_rated = _df[~_df.redlining_grade.isnull()]\n",
    "                    if len(_df_rated) <= len(_df) * .05:\n",
    "                        print(f\"skip {city} {isp} redline\")\n",
    "                        continue\n",
    "                    if 'D' not in _df['redlining_grade'].unique().tolist():\n",
    "                        print(f\"skip {city} {isp} redline\")\n",
    "                        continue\n",
    "\n",
    "                formula = f\"is_slow ~ C({iv}, Treatment('{treatment}'))\"\n",
    "                args.append([formula, _df, city, isp, f\"{iv}_alone\"])\n",
    "                if city in ['Omaha', 'Phoenix'] and iv == 'redlining_grade':\n",
    "                    formula += \" + ppl_per_sq_mile_standard + internet_perc_broadband\"\n",
    "                else:\n",
    "                    formula += \" + ppl_per_sq_mile_standard + n_providers + internet_perc_broadband\"\n",
    "                args.append([formula, _df, city, isp, f\"{iv}_controls\"])\n",
    "\n",
    "                # ablation formulas\n",
    "                if city in ['Omaha', 'Phoenix'] and iv == 'redlining_grade':\n",
    "                    formulas = [\" + ppl_per_sq_mile_standard\", \" + internet_perc_broadband\"]\n",
    "                else:\n",
    "                    formulas = [\" + ppl_per_sq_mile_standard\", \" + n_providers \",  \" + internet_perc_broadband\"]\n",
    "                for iv_ in formulas:\n",
    "                    formula = f\"is_slow ~ C({iv}, Treatment('{treatment}'))\"\n",
    "                    formula += \"\".join([f for f in formulas if f != iv_])\n",
    "                    model_name =  f\"{iv}_minus{iv_.replace(' + ', '_')}\"\n",
    "                    args.append([formula, _df, city, isp, model_name])\n",
    "\n",
    "    with multiprocess.get_context(\"spawn\").Pool(n_jobs) as pool:\n",
    "        for coefs in tqdm(pool.istarmap(train_and_return_coefs, args), \n",
    "                           total=len(args)):\n",
    "            data_regression = data_regression.append(coefs)\n",
    "\n",
    "    # treatment group IE upper income, most white, best graded\n",
    "    data_regression['probability_treatment'] = data_regression.apply(odds_to_probability, step=0, axis=1)\n",
    "    # exposure group IE lower income, least white, redlined\n",
    "    data_regression['probability_exposure'] = data_regression.apply(odds_to_probability, step=1, axis=1)\n",
    "    data_regression['odds_directional'] = data_regression.apply(lambda x: x['odds_ratio'] * -1 if x['coef'] <0 else  x['odds_ratio'], axis=1)\n",
    "    data_regression['is_coef_positive'] = data_regression.coef > 0\n",
    "    # positive if exposure group has higher liklihood of slower speeds than treatment group\n",
    "    data_regression['probability_delta'] = data_regression['probability_exposure'] - data_regression['probability_treatment']\n",
    "    data_regression['perc_probability'] =  data_regression['probability_exposure'] / data_regression['probability_treatment']\n",
    "    data_regression = data_regression[data_regression.index != 'Intercept']\n",
    "\n",
    "    data_regression.to_csv(fn_regression_all)\n",
    "    controls = data_regression[data_regression.model.str.contains('_controls')]\n",
    "    controls.loc[\"C(income_level, Treatment('Upper Income'))[T.Low]\"].to_csv(fn_regression_income)\n",
    "    controls.loc[\"C(race_quantile, Treatment('most white'))[T.least white]\"].to_csv(fn_regression_race)\n",
    "    controls.loc[\"C(redlining_grade, Treatment('rest'))[T.D]\"].to_csv(fn_regression_redlining)\n",
    "    \n",
    "else:\n",
    "    data_regression = pd.read_csv(fn_regression_all, index_col=0)"
   ]
  },
  {
   "cell_type": "code",
   "execution_count": 39,
   "metadata": {},
   "outputs": [
    {
     "data": {
      "text/plain": [
       "40"
      ]
     },
     "execution_count": 39,
     "metadata": {},
     "output_type": "execute_result"
    }
   ],
   "source": [
    "len(set(data_regression[~data_regression.coef.isnull()].major_city.unique()))"
   ]
  },
  {
   "cell_type": "markdown",
   "metadata": {},
   "source": [
    "## Ablation"
   ]
  },
  {
   "cell_type": "code",
   "execution_count": 40,
   "metadata": {},
   "outputs": [
    {
     "name": "stdout",
     "output_type": "stream",
     "text": [
      "income_level_alone 0.0421494957308795\n",
      "income_level_controls 0.08262173045110965\n",
      "income_level_minus_internet_perc_broadband 0.0759137242746971\n",
      "income_level_minus_n_providers  0.07063354836745209\n",
      "income_level_minus_ppl_per_sq_mile_standard 0.06633096770366104\n",
      "race_quantile_alone 0.02527529336819734\n",
      "race_quantile_controls 0.08188691537520522\n",
      "race_quantile_minus_internet_perc_broadband 0.06394249650923328\n",
      "race_quantile_minus_n_providers  0.07032190348173313\n",
      "race_quantile_minus_ppl_per_sq_mile_standard 0.06182688258331634\n",
      "redlining_grade_alone 0.06403845085385912\n",
      "redlining_grade_controls 0.13360545645366942\n",
      "redlining_grade_minus_internet_perc_broadband 0.11885953708671705\n",
      "redlining_grade_minus_n_providers  0.1105816918953646\n",
      "redlining_grade_minus_ppl_per_sq_mile_standard 0.10698335731917312\n"
     ]
    }
   ],
   "source": [
    "# mean psuedo r-squared (goodness of fit) for each model across cities and ISPs.\n",
    "for model, _df in data_regression.groupby(['model']):\n",
    "    mean_pr = _df.groupby(['major_city', 'state', 'isp']).first().pr_sq.mean()\n",
    "    print(model, mean_pr)"
   ]
  },
  {
   "cell_type": "markdown",
   "metadata": {},
   "source": [
    "The ablated IV that results in the least change from the observed are the most influential."
   ]
  },
  {
   "cell_type": "code",
   "execution_count": 41,
   "metadata": {},
   "outputs": [
    {
     "data": {
      "text/plain": [
       "income_level_minus_internet_perc_broadband     0.50\n",
       "income_level_minus_n_providers                 0.35\n",
       "income_level_minus_ppl_per_sq_mile_standard    0.15\n",
       "Name: model, dtype: float64"
      ]
     },
     "execution_count": 41,
     "metadata": {},
     "output_type": "execute_result"
    }
   ],
   "source": [
    "income_ablation = data_regression[\n",
    "    (data_regression['model'].str.contains('income_level_minus_')) &\n",
    "    (data_regression.index == \"C(income_level, Treatment('Upper Income'))[T.Low]\")\n",
    "].merge(table, on=['isp', 'major_city', 'state'])\n",
    "income_ablation['delta'] = abs(income_ablation['probability_delta'] - income_ablation['prop_slow_income_delta'])\n",
    "income_ablation.sort_values(by='delta', ascending=True).groupby('major_city').first().model.value_counts(normalize=True)"
   ]
  },
  {
   "cell_type": "code",
   "execution_count": 42,
   "metadata": {},
   "outputs": [
    {
     "data": {
      "text/plain": [
       "race_quantile_minus_internet_perc_broadband     0.529412\n",
       "race_quantile_minus_n_providers                 0.235294\n",
       "race_quantile_minus_ppl_per_sq_mile_standard    0.235294\n",
       "Name: model, dtype: float64"
      ]
     },
     "execution_count": 42,
     "metadata": {},
     "output_type": "execute_result"
    }
   ],
   "source": [
    "race_ablation = data_regression[\n",
    "    (data_regression['model'].str.contains('race_quantile_minus_')) &\n",
    "    (data_regression.index == \"C(race_quantile, Treatment('most white'))[T.least white]\")\n",
    "].merge(table, on=['isp', 'major_city', 'state'])\n",
    "race_ablation['delta'] = abs(race_ablation['probability_delta'] - race_ablation['prop_slow_race_delta'])\n",
    "race_ablation.sort_values(by='delta', ascending=True).groupby('major_city').first().model.value_counts(normalize=True)"
   ]
  },
  {
   "cell_type": "code",
   "execution_count": 43,
   "metadata": {},
   "outputs": [
    {
     "data": {
      "text/plain": [
       "redlining_grade_minus_ppl_per_sq_mile_standard    0.666667\n",
       "redlining_grade_minus_internet_perc_broadband     0.259259\n",
       "redlining_grade_minus_n_providers                 0.074074\n",
       "Name: model, dtype: float64"
      ]
     },
     "execution_count": 43,
     "metadata": {},
     "output_type": "execute_result"
    }
   ],
   "source": [
    "redlining_ablation = data_regression[\n",
    "    (data_regression['model'].str.contains('redlining_grade_minus_')) &\n",
    "    (data_regression.index == \"C(redlining_grade, Treatment('rest'))[T.D]\")\n",
    "].merge(table, on=['isp', 'major_city', 'state'])\n",
    "redlining_ablation['delta'] = abs(redlining_ablation['probability_delta'] - redlining_ablation['prop_slow_redlining_delta'])\n",
    "redlining_ablation.sort_values(by='delta', ascending=False).groupby('major_city').first().model.value_counts(normalize=True)"
   ]
  },
  {
   "cell_type": "markdown",
   "metadata": {},
   "source": [
    "## Where to disparities persist?"
   ]
  },
  {
   "cell_type": "code",
   "execution_count": 44,
   "metadata": {},
   "outputs": [
    {
     "data": {
      "text/plain": [
       "array(['Cleveland', 'Omaha', 'Newark', 'Minneapolis', 'Phoenix',\n",
       "       'Detroit', 'Kansas City', 'Wichita', 'Louisville', 'Philadelphia',\n",
       "       'Milwaukee', 'Atlanta', 'Little Rock', 'Houston', 'Denver',\n",
       "       'New Orleans', 'Memphis', 'Portland', 'Des Moines', 'Indianapolis',\n",
       "       'Charlotte', 'Seattle', 'Chicago', 'Salt Lake City', 'Los Angeles',\n",
       "       'Jackson', 'Boston'], dtype=object)"
      ]
     },
     "execution_count": 44,
     "metadata": {},
     "output_type": "execute_result"
    }
   ],
   "source": [
    "data_regression[\n",
    "        (data_regression.model == f'redlining_grade_controls') &\n",
    "        (data_regression.index == \"C(redlining_grade, Treatment('rest'))[T.D]\")\n",
    "    ].sort_values('coef', ascending=False).major_city.unique()"
   ]
  },
  {
   "cell_type": "code",
   "execution_count": 45,
   "metadata": {},
   "outputs": [],
   "source": [
    "income = (\n",
    "    data_regression[\n",
    "        (data_regression.model == f'income_level_controls') &\n",
    "        (data_regression.index == \"C(income_level, Treatment('Upper Income'))[T.Low]\")\n",
    "    ].sort_values('coef', ascending=False)\n",
    "    .merge(\n",
    "        data_regression[\n",
    "            (data_regression.model == f'income_level_alone') &\n",
    "            (data_regression.index == \"C(income_level, Treatment('Upper Income'))[T.Low]\")\n",
    "        ], how='left', on=['major_city', 'state', 'isp'],\n",
    "        suffixes=['', '_alone']\n",
    "    )\n",
    ").drop_duplicates(subset=['isp', 'major_city', 'state'])\n",
    "income = income[income.major_city.isin(income_cities)]\n",
    "\n",
    "race = (\n",
    "    data_regression[\n",
    "        (data_regression.model == f'race_quantile_controls') &\n",
    "        (data_regression.index == \"C(race_quantile, Treatment('most white'))[T.least white]\")\n",
    "    ].sort_values(['coef', 'state'], ascending=False)\n",
    "    .merge(\n",
    "        data_regression[\n",
    "            (data_regression.model == f'race_quantile_alone') &\n",
    "            (data_regression.index == \"C(race_quantile, Treatment('most white'))[T.least white]\")\n",
    "        ], how='left', on=['major_city', 'state', 'isp'],\n",
    "        suffixes=['', '_alone']\n",
    "    )\n",
    ").drop_duplicates(subset=['isp', 'major_city', 'state'])\n",
    "race = race[race.major_city.isin(race_cities)]\n",
    "\n",
    "redlining = (\n",
    "    data_regression[\n",
    "        (data_regression.model == f'redlining_grade_controls') &\n",
    "        (data_regression.index == \"C(redlining_grade, Treatment('rest'))[T.D]\")\n",
    "    ].sort_values('coef', ascending=False)\n",
    "    .merge(\n",
    "        data_regression[\n",
    "            (data_regression.model == f'redlining_grade_alone') &\n",
    "            (data_regression.index == \"C(redlining_grade, Treatment('rest'))[T.D]\")\n",
    "        ], how='left', on=['major_city', 'state', 'isp'],\n",
    "        suffixes=['', '_alone']\n",
    "    )\n",
    ").drop_duplicates(subset=['isp', 'major_city', 'state'])\n",
    "redlining = redlining[redlining.major_city.isin(redlining_cities)]"
   ]
  },
  {
   "cell_type": "code",
   "execution_count": 46,
   "metadata": {},
   "outputs": [
    {
     "name": "stdout",
     "output_type": "stream",
     "text": [
      "Income (58 city-ISP pairs)\n",
      "- low income areas recieve greater proprotion of slow speeds in 42 city-ISP pairs, or 72.4% of cases.\n",
      "- same pattern in 27 out of 38 cities (0.71%)\n",
      "Race and Ethnicity (51 city-ISP pairs)\n",
      "- least white areas recieve greater proportion of slow speeds in 16 city-ISP pairs, or 31.4% of cases.\n",
      "- same pattern in 11 out of 32 cities (0.34%)\n",
      "Redlining (36 city-ISP pairs)\n",
      "- hazardous areas recieve greater proprotion of slow speeds in 23 city-ISP pairs, or 63.9% of cases.\n",
      "- same pattern in 14 out of 22 cities (0.64%)\n"
     ]
    }
   ],
   "source": [
    "threshold = 1\n",
    "sig_income = income[income.pvalue < threshold]\n",
    "slowest_income = sig_income[sig_income.probability_delta > 0.05]\n",
    "\n",
    "sig_race = race[race.pvalue < threshold]\n",
    "slowest_race = sig_race[sig_race.probability_delta > 0.05]\n",
    "\n",
    "sig_redlining = redlining[redlining.pvalue < threshold]\n",
    "slowest_redlining = sig_redlining[sig_redlining.probability_delta > 0.05]\n",
    "\n",
    "print(f\"Income ({len(sig_income)} city-ISP pairs)\"\n",
    "     f\"\\n- low income areas recieve greater proprotion of slow speeds in {len(slowest_income)} city-ISP pairs, or {len(slowest_income) / len(sig_income) * 100:.1f}% of cases.\\n\"\n",
    "     f\"- same pattern in {slowest_income.major_city.nunique()} out of {sig_income.major_city.nunique()} cities ({slowest_income.major_city.nunique() / sig_income.major_city.nunique():.2f}%)\")\n",
    "print(f\"Race and Ethnicity ({len(sig_race)} city-ISP pairs)\"\n",
    "     f\"\\n- least white areas recieve greater proportion of slow speeds in {len(slowest_race)} city-ISP pairs, or {len(slowest_race) / len(sig_race) * 100:.1f}% of cases.\\n\"\n",
    "     f\"- same pattern in {slowest_race.major_city.nunique()} out of {sig_race.major_city.nunique()} cities ({slowest_race.major_city.nunique() / sig_race.major_city.nunique():.2f}%)\")\n",
    "\n",
    "print(f\"Redlining ({len(sig_redlining)} city-ISP pairs)\"\n",
    "     f\"\\n- hazardous areas recieve greater proprotion of slow speeds in {len(slowest_redlining)} city-ISP pairs, or {len(slowest_redlining) / len(sig_redlining) * 100:.1f}% of cases.\\n\"\n",
    "     f\"- same pattern in {slowest_redlining.major_city.nunique()} out of {sig_redlining.major_city.nunique()} cities ({slowest_redlining.major_city.nunique() / sig_redlining.major_city.nunique():.2f}%)\")\n"
   ]
  },
  {
   "cell_type": "code",
   "execution_count": 47,
   "metadata": {},
   "outputs": [
    {
     "ename": "TypeError",
     "evalue": "'int' object is not iterable",
     "output_type": "error",
     "traceback": [
      "\u001b[0;31m---------------------------------------------------------------------------\u001b[0m",
      "\u001b[0;31mTypeError\u001b[0m                                 Traceback (most recent call last)",
      "\u001b[0;32m<ipython-input-47-f66779486a89>\u001b[0m in \u001b[0;36m<module>\u001b[0;34m\u001b[0m\n\u001b[0;32m----> 1\u001b[0;31m \u001b[0mset\u001b[0m\u001b[0;34m(\u001b[0m\u001b[0mall_cities\u001b[0m\u001b[0;34m)\u001b[0m \u001b[0;34m-\u001b[0m \u001b[0mset\u001b[0m\u001b[0;34m(\u001b[0m\u001b[0mincome\u001b[0m\u001b[0;34m[\u001b[0m\u001b[0mincome\u001b[0m\u001b[0;34m.\u001b[0m\u001b[0mprobability_delta\u001b[0m \u001b[0;34m>\u001b[0m \u001b[0;36m0\u001b[0m\u001b[0;34m]\u001b[0m\u001b[0;34m.\u001b[0m\u001b[0mmajor_city\u001b[0m\u001b[0;34m)\u001b[0m\u001b[0;34m\u001b[0m\u001b[0;34m\u001b[0m\u001b[0m\n\u001b[0m",
      "\u001b[0;31mTypeError\u001b[0m: 'int' object is not iterable"
     ]
    }
   ],
   "source": [
    "set(all_cities) - set(income[income.probability_delta > 0].major_city)"
   ]
  },
  {
   "cell_type": "code",
   "execution_count": null,
   "metadata": {},
   "outputs": [],
   "source": [
    "trend = set(sig_income.major_city.unique().tolist() + sig_race.major_city.unique().tolist() + sig_redlining.major_city.unique().tolist())\n",
    "all_cities = set(income.major_city.unique().tolist() + race.major_city.unique().tolist() + redlining.major_city.unique().tolist())\n",
    "cities = set(data_regression.major_city.unique())\n",
    "len(all_cities)\n",
    "all_cities - trend"
   ]
  },
  {
   "cell_type": "code",
   "execution_count": null,
   "metadata": {},
   "outputs": [],
   "source": [
    "len(income[income.pvalue < .05]) / len(income)"
   ]
  },
  {
   "cell_type": "code",
   "execution_count": null,
   "metadata": {},
   "outputs": [],
   "source": [
    "income.pr_sq.describe()"
   ]
  },
  {
   "cell_type": "code",
   "execution_count": null,
   "metadata": {},
   "outputs": [],
   "source": [
    "income.odds_ratio.apply(lambda x: x>1.5).value_counts(normalize=True)"
   ]
  },
  {
   "cell_type": "code",
   "execution_count": null,
   "metadata": {},
   "outputs": [],
   "source": [
    "len(race[race.pvalue < .05]) / len(race)"
   ]
  },
  {
   "cell_type": "code",
   "execution_count": null,
   "metadata": {},
   "outputs": [],
   "source": [
    "race.pr_sq.describe()"
   ]
  },
  {
   "cell_type": "code",
   "execution_count": null,
   "metadata": {},
   "outputs": [],
   "source": [
    "race.odds_ratio.apply(lambda x: x>1.5).value_counts(normalize=True)"
   ]
  },
  {
   "cell_type": "code",
   "execution_count": null,
   "metadata": {},
   "outputs": [],
   "source": [
    "len(redlining[redlining.pvalue < .05]) / len(redlining)"
   ]
  },
  {
   "cell_type": "code",
   "execution_count": null,
   "metadata": {},
   "outputs": [],
   "source": [
    "redlining.pr_sq.describe()"
   ]
  },
  {
   "cell_type": "code",
   "execution_count": null,
   "metadata": {},
   "outputs": [],
   "source": [
    "redlining.odds_ratio.apply(lambda x: x>1.5).value_counts(normalize=True)"
   ]
  },
  {
   "cell_type": "markdown",
   "metadata": {},
   "source": [
    "See the factor that lead to the greatest adjustments for any city"
   ]
  },
  {
   "cell_type": "code",
   "execution_count": null,
   "metadata": {},
   "outputs": [],
   "source": [
    "income_ablation_ = data_regression[\n",
    "    (data_regression['major_city'] == 'Seattle') &\n",
    "    (data_regression['model'].str.contains('income_level_minus_')) & \n",
    "    (data_regression.index == \"C(income_level, Treatment('Upper Income'))[T.Low]\")\n",
    "].merge(table, on=['isp', 'major_city', 'state'])\n",
    "income_ablation_['delta'] = abs(income_ablation_['probability_delta'] - \n",
    "                                income_ablation_['prop_slow_income_delta'])\n",
    "income_ablation_.sort_values(by='delta', ascending=True)"
   ]
  },
  {
   "cell_type": "code",
   "execution_count": null,
   "metadata": {},
   "outputs": [],
   "source": [
    "race_ablation_ = data_regression[\n",
    "    (data_regression['major_city'] == 'Charleston') &\n",
    "    (data_regression['model'].str.contains('race_quantile_minus_')) &\n",
    "    (data_regression.index == \"C(race_quantile, Treatment('most white'))[T.least white]\")\n",
    "].merge(table, on=['isp', 'major_city', 'state'])\n",
    "race_ablation_['delta'] = abs(race_ablation_['probability_delta'] - \n",
    "                              race_ablation_['prop_slow_income_delta'])\n",
    "race_ablation_.sort_values(by='delta', ascending=True)"
   ]
  },
  {
   "cell_type": "code",
   "execution_count": null,
   "metadata": {},
   "outputs": [],
   "source": [
    "redlining_ablation_ = data_regression[\n",
    "    (data_regression['major_city'] == 'Minneapolis') &\n",
    "    (data_regression['model'].str.contains('redlining_grade_minus_')) &\n",
    "    (data_regression.index == \"C(redlining_grade, Treatment('rest'))[T.D]\")\n",
    "].merge(table, on=['isp', 'major_city', 'state'])\n",
    "redlining_ablation_['delta'] = abs(redlining_ablation_['probability_delta'] - \n",
    "                                  redlining_ablation_['prop_slow_income_delta'])\n",
    "redlining_ablation_.sort_values(by='delta', ascending=True)"
   ]
  },
  {
   "cell_type": "markdown",
   "metadata": {},
   "source": [
    "## Plots with Adjustments"
   ]
  },
  {
   "cell_type": "code",
   "execution_count": null,
   "metadata": {},
   "outputs": [],
   "source": [
    "label2marker = {\n",
    "    'Observed': 'o',\n",
    "    'Adjusted': '^'\n",
    "}"
   ]
  },
  {
   "cell_type": "code",
   "execution_count": null,
   "metadata": {},
   "outputs": [],
   "source": [
    "def plot_adjusted(to_plot, ylim=33.5, figsize=(6, 8), fn=fn_adjusted_redlining,\n",
    "                  title= f\"After adjusting for other factors, Redlined areas\\nstill disprportionately offered slow Internet speeds\",\n",
    "                  title_y = -3.2, title_x= -.05):\n",
    "    legend_elements = [Line2D([0], [0], marker=label2marker.get(label), color='w', \n",
    "                          label=label, markerfacecolor=c, markersize=10)\n",
    "                   for label, c in {'Observed': color_1, 'Adjusted': color_2}.items()][::-1] \n",
    "    \n",
    "    to_plot_ = to_plot#[(to_plot['pvalue'] < 0.05)]\n",
    "    to_plot_['major_city_isp'] = to_plot_.apply(lambda x: x['isp'] + ' - ' + x['major_city'], axis=1)\n",
    "\n",
    "    to_plot_['Observed'] = to_plot_.probability_delta_alone * 100\n",
    "    to_plot_['Adjusted'] = to_plot_.probability_delta * 100\n",
    "\n",
    "    to_plot_ = to_plot_.sort_values(by=['Adjusted', 'state', 'Observed'], ascending=False)\n",
    "\n",
    "    ax = to_plot_.plot(y='major_city_isp', x='Observed', \n",
    "                      color=color_1,\n",
    "                      kind='scatter', figsize=figsize)\n",
    "    to_plot_.plot(y='major_city_isp', x='Adjusted', \n",
    "                 color=color_2, ax=ax, marker='^',\n",
    "                 alpha = [bool2alpha.get(_) for _ in to_plot_.pvalue < 0.05],\n",
    "                 kind='scatter')\n",
    "\n",
    "    x1 = to_plot_['Adjusted'].tolist()\n",
    "    x2 = to_plot_['Observed'].tolist()\n",
    "    n = to_plot_['major_city_isp'].tolist()\n",
    "    for i in range(0, len(x1)):\n",
    "        ax.plot([x1[i], x2[i]], [n[i], n[i]], '-', \n",
    "                color='black', zorder=-1, alpha=.8)\n",
    "\n",
    "    to_plot_['isp'] = pd.Categorical(to_plot_['isp'], [\"AT&T\", \"Verizon\", \"CenturyLink\", \"EarthLink\"])\n",
    "    to_plot_ = to_plot_.sort_values(by=['isp','Adjusted', 'state', 'Observed'], \n",
    "                                    ascending=[True, False, False, False])\n",
    "    to_plot_[['major_city', 'isp', 'Adjusted', 'Observed', 'state']].to_csv(fn, index=False)    \n",
    "\n",
    "    # Hide the right and top spines\n",
    "    ax.spines['right'].set_visible(False)\n",
    "    ax.spines['left'].set_visible(False)\n",
    "\n",
    "    ax.spines['top'].set_visible(False)\n",
    "\n",
    "    # Only show ticks on the left and bottom spines\n",
    "    ax.yaxis.set_ticks_position('left')\n",
    "    ax.xaxis.set_ticks_position('bottom')\n",
    "    plt.gca().invert_yaxis()\n",
    "\n",
    "    ax.set_ylabel(\"\")\n",
    "    labels = ax.get_xticks().tolist()\n",
    "    labels = [int(_) for _ in labels]\n",
    "    # labels[0] = \"0%\"\n",
    "    ax.set_xticklabels(labels)\n",
    "    ax.set_xlabel(\"Percentage point difference\")\n",
    "    # ax.get_legend().remove()\n",
    "\n",
    "    plt.axvline(x=0,linewidth=1, color='black', linestyle='--', ymax=.96)\n",
    "\n",
    "    plt.text(title_x, title_y, \n",
    "             title,\n",
    "             size=14,\n",
    "             horizontalalignment='left',\n",
    "             verticalalignment='center',);\n",
    "    ax.set_ylim(bottom=ylim)\n",
    "\n",
    "    ax.legend(handles=legend_elements[::-1],\n",
    "                  loc='lower left', \n",
    "                  bbox_to_anchor= (-0.025, .97), \n",
    "                  ncol=5,\n",
    "                  handletextpad=0.0,\n",
    "                  labelspacing=0, \n",
    "                  borderaxespad=.1, \n",
    "                  borderpad=0.1,\n",
    "                  frameon=False,\n",
    "                  prop={'size': 9.2})"
   ]
  },
  {
   "cell_type": "code",
   "execution_count": null,
   "metadata": {},
   "outputs": [],
   "source": [
    "to_plot = income\n",
    "plot_adjusted(to_plot, ylim=58.5, figsize=(6, 10), \n",
    "              fn=fn_adjusted_income,\n",
    "              title_y = -4.2, title_x = -14, \n",
    "              title= f\"After adjusting for other factors, low income areas\\nstill disporportionately offered slow Internet speeds\",\n",
    ")"
   ]
  },
  {
   "cell_type": "code",
   "execution_count": null,
   "metadata": {},
   "outputs": [],
   "source": [
    "to_plot = race\n",
    "plot_adjusted(to_plot, ylim=52.5, figsize=(6, 10), \n",
    "              fn=fn_adjusted_race,\n",
    "              title_y = -3.5, title_x = -15,\n",
    "              title= f\"After adjusting for other factors, least white areas\\nstill disproportionately offered slow Internet speeds\",\n",
    ")"
   ]
  },
  {
   "cell_type": "code",
   "execution_count": null,
   "metadata": {},
   "outputs": [],
   "source": [
    "to_plot = redlining\n",
    "plot_adjusted(to_plot, title_y=-3.2, title_x=-6, ylim=37.5, fn=fn_adjusted_redlining)"
   ]
  },
  {
   "cell_type": "code",
   "execution_count": null,
   "metadata": {},
   "outputs": [],
   "source": []
  }
 ],
 "metadata": {
  "kernelspec": {
   "display_name": "Python 3",
   "language": "python",
   "name": "python3"
  },
  "language_info": {
   "codemirror_mode": {
    "name": "ipython",
    "version": 3
   },
   "file_extension": ".py",
   "mimetype": "text/x-python",
   "name": "python",
   "nbconvert_exporter": "python",
   "pygments_lexer": "ipython3",
   "version": "3.8.1"
  }
 },
 "nbformat": 4,
 "nbformat_minor": 4
}
