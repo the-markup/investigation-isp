{
 "cells": [
  {
   "cell_type": "markdown",
   "metadata": {},
   "source": [
    "# Finding the closes household with Fiber"
   ]
  },
  {
   "cell_type": "code",
   "execution_count": 3,
   "metadata": {},
   "outputs": [],
   "source": [
    "%load_ext autoreload\n",
    "%autoreload 2"
   ]
  },
  {
   "cell_type": "code",
   "execution_count": 4,
   "metadata": {},
   "outputs": [],
   "source": [
    "import pandas as pd\n",
    "from parsers import get_closest_fiber\n",
    "from aggregators import filter_df"
   ]
  },
  {
   "cell_type": "code",
   "execution_count": 5,
   "metadata": {},
   "outputs": [],
   "source": [
    "# inputs\n",
    "fn_att = '../data/output/speed_price_att.csv.gz'\n",
    "fn_centurylink = '../data/output/speed_price_centurylink.csv.gz'\n",
    "fn_verizon = '../data/output/speed_price_verizon.csv.gz'\n",
    "fn_earthlink = '../data/output/speed_price_earthlink.csv.gz'\n",
    "inputs = {\n",
    "    \"AT&T\" : fn_att,\n",
    "    \"CenturyLink\": fn_centurylink,\n",
    "    \"Verizon\": fn_verizon,\n",
    "    \"EarthLink\" : fn_earthlink\n",
    "}"
   ]
  },
  {
   "cell_type": "code",
   "execution_count": 13,
   "metadata": {},
   "outputs": [
    {
     "data": {
      "text/plain": [
       "\u001b[0;31mSignature:\u001b[0m \u001b[0mget_closest_fiber\u001b[0m\u001b[0;34m(\u001b[0m\u001b[0mdf\u001b[0m\u001b[0;34m:\u001b[0m \u001b[0mpandas\u001b[0m\u001b[0;34m.\u001b[0m\u001b[0mcore\u001b[0m\u001b[0;34m.\u001b[0m\u001b[0mframe\u001b[0m\u001b[0;34m.\u001b[0m\u001b[0mDataFrame\u001b[0m\u001b[0;34m)\u001b[0m \u001b[0;34m->\u001b[0m \u001b[0mpandas\u001b[0m\u001b[0;34m.\u001b[0m\u001b[0mcore\u001b[0m\u001b[0;34m.\u001b[0m\u001b[0mframe\u001b[0m\u001b[0;34m.\u001b[0m\u001b[0mDataFrame\u001b[0m\u001b[0;34m\u001b[0m\u001b[0;34m\u001b[0m\u001b[0m\n",
       "\u001b[0;31mSource:\u001b[0m   \n",
       "\u001b[0;32mdef\u001b[0m \u001b[0mget_closest_fiber\u001b[0m\u001b[0;34m(\u001b[0m\u001b[0mdf\u001b[0m\u001b[0;34m:\u001b[0m \u001b[0mpd\u001b[0m\u001b[0;34m.\u001b[0m\u001b[0mDataFrame\u001b[0m\u001b[0;34m)\u001b[0m \u001b[0;34m->\u001b[0m \u001b[0mpd\u001b[0m\u001b[0;34m.\u001b[0m\u001b[0mDataFrame\u001b[0m\u001b[0;34m:\u001b[0m\u001b[0;34m\u001b[0m\n",
       "\u001b[0;34m\u001b[0m    \u001b[0;34m\"\"\"\u001b[0m\n",
       "\u001b[0;34m    Convert coordinates to radians and fit a sklearn ball tree \u001b[0m\n",
       "\u001b[0;34m    to find closest household with 200 Mbps speeds.\u001b[0m\n",
       "\u001b[0;34m    \"\"\"\u001b[0m\u001b[0;34m\u001b[0m\n",
       "\u001b[0;34m\u001b[0m    \u001b[0m_df\u001b[0m \u001b[0;34m=\u001b[0m \u001b[0mdf\u001b[0m\u001b[0;34m[\u001b[0m\u001b[0mdf\u001b[0m\u001b[0;34m.\u001b[0m\u001b[0mspeed_down\u001b[0m \u001b[0;34m>=\u001b[0m \u001b[0;36m200\u001b[0m\u001b[0;34m]\u001b[0m\u001b[0;34m\u001b[0m\n",
       "\u001b[0;34m\u001b[0m    \u001b[0;34m\u001b[0m\n",
       "\u001b[0;34m\u001b[0m    \u001b[0;31m# create a ball tree just on fiber households\u001b[0m\u001b[0;34m\u001b[0m\n",
       "\u001b[0;34m\u001b[0m    \u001b[0mtree\u001b[0m \u001b[0;34m=\u001b[0m \u001b[0mBallTree\u001b[0m\u001b[0;34m(\u001b[0m\u001b[0mnp\u001b[0m\u001b[0;34m.\u001b[0m\u001b[0mdeg2rad\u001b[0m\u001b[0;34m(\u001b[0m\u001b[0m_df\u001b[0m\u001b[0;34m[\u001b[0m\u001b[0;34m[\u001b[0m\u001b[0;34m'lat'\u001b[0m\u001b[0;34m,\u001b[0m \u001b[0;34m'lon'\u001b[0m\u001b[0;34m]\u001b[0m\u001b[0;34m]\u001b[0m\u001b[0;34m)\u001b[0m\u001b[0;34m,\u001b[0m \u001b[0mmetric\u001b[0m\u001b[0;34m=\u001b[0m\u001b[0;34m\"haversine\"\u001b[0m\u001b[0;34m)\u001b[0m\u001b[0;34m\u001b[0m\n",
       "\u001b[0;34m\u001b[0m    \u001b[0;31m# find the closest fiber for every household\u001b[0m\u001b[0;34m\u001b[0m\n",
       "\u001b[0;34m\u001b[0m    \u001b[0mdistances\u001b[0m\u001b[0;34m,\u001b[0m \u001b[0mindices\u001b[0m \u001b[0;34m=\u001b[0m \u001b[0mtree\u001b[0m\u001b[0;34m.\u001b[0m\u001b[0mquery\u001b[0m\u001b[0;34m(\u001b[0m\u001b[0mnp\u001b[0m\u001b[0;34m.\u001b[0m\u001b[0mdeg2rad\u001b[0m\u001b[0;34m(\u001b[0m\u001b[0mdf\u001b[0m\u001b[0;34m[\u001b[0m\u001b[0;34m[\u001b[0m\u001b[0;34m'lat'\u001b[0m\u001b[0;34m,\u001b[0m \u001b[0;34m'lon'\u001b[0m\u001b[0;34m]\u001b[0m\u001b[0;34m]\u001b[0m\u001b[0;34m)\u001b[0m\u001b[0;34m,\u001b[0m\u001b[0;34m\u001b[0m\n",
       "\u001b[0;34m\u001b[0m                                    \u001b[0mk\u001b[0m\u001b[0;34m=\u001b[0m\u001b[0;36m1\u001b[0m\u001b[0;34m,\u001b[0m \u001b[0mreturn_distance\u001b[0m\u001b[0;34m=\u001b[0m\u001b[0;32mTrue\u001b[0m\u001b[0;34m)\u001b[0m\u001b[0;34m\u001b[0m\n",
       "\u001b[0;34m\u001b[0m    \u001b[0mdf\u001b[0m\u001b[0;34m[\u001b[0m\u001b[0;34m\"closest_fiber_miles\"\u001b[0m\u001b[0;34m]\u001b[0m \u001b[0;34m=\u001b[0m \u001b[0mdistances\u001b[0m \u001b[0;34m*\u001b[0m \u001b[0;36m3958.756\u001b[0m\u001b[0;34m\u001b[0m\n",
       "\u001b[0;34m\u001b[0m    \u001b[0;34m\u001b[0m\n",
       "\u001b[0;34m\u001b[0m    \u001b[0;31m# merge the info of the closest fiber household\u001b[0m\u001b[0;34m\u001b[0m\n",
       "\u001b[0;34m\u001b[0m    \u001b[0mclosest\u001b[0m \u001b[0;34m=\u001b[0m \u001b[0m_df\u001b[0m\u001b[0;34m.\u001b[0m\u001b[0miloc\u001b[0m\u001b[0;34m[\u001b[0m\u001b[0mindices\u001b[0m\u001b[0;34m[\u001b[0m\u001b[0;34m:\u001b[0m\u001b[0;34m,\u001b[0m \u001b[0;36m0\u001b[0m\u001b[0;34m]\u001b[0m\u001b[0;34m]\u001b[0m\u001b[0;34m.\u001b[0m\u001b[0mreset_index\u001b[0m\u001b[0;34m(\u001b[0m\u001b[0mdrop\u001b[0m\u001b[0;34m=\u001b[0m\u001b[0;32mTrue\u001b[0m\u001b[0;34m)\u001b[0m \u001b[0;34m\u001b[0m\n",
       "\u001b[0;34m\u001b[0m    \u001b[0;32mreturn\u001b[0m \u001b[0mdf\u001b[0m\u001b[0;34m.\u001b[0m\u001b[0mmerge\u001b[0m\u001b[0;34m(\u001b[0m\u001b[0mclosest\u001b[0m\u001b[0;34m,\u001b[0m \u001b[0;34m\u001b[0m\n",
       "\u001b[0;34m\u001b[0m                    \u001b[0mhow\u001b[0m\u001b[0;34m=\u001b[0m\u001b[0;34m'left'\u001b[0m\u001b[0;34m,\u001b[0m\u001b[0;34m\u001b[0m\n",
       "\u001b[0;34m\u001b[0m                    \u001b[0mleft_index\u001b[0m\u001b[0;34m=\u001b[0m\u001b[0;32mTrue\u001b[0m\u001b[0;34m,\u001b[0m \u001b[0mright_index\u001b[0m\u001b[0;34m=\u001b[0m\u001b[0;32mTrue\u001b[0m\u001b[0;34m,\u001b[0m \u001b[0;34m\u001b[0m\n",
       "\u001b[0;34m\u001b[0m                    \u001b[0msuffixes\u001b[0m\u001b[0;34m=\u001b[0m\u001b[0;34m[\u001b[0m\u001b[0;34m''\u001b[0m\u001b[0;34m,\u001b[0m \u001b[0;34m'_closest_fiber'\u001b[0m\u001b[0;34m]\u001b[0m\u001b[0;34m)\u001b[0m\u001b[0;34m\u001b[0m\u001b[0;34m\u001b[0m\u001b[0m\n",
       "\u001b[0;31mFile:\u001b[0m      ~/code/1_production-grade/isp/notebooks/parsers.py\n",
       "\u001b[0;31mType:\u001b[0m      function\n"
      ]
     },
     "metadata": {},
     "output_type": "display_data"
    }
   ],
   "source": [
    "??get_closest_fiber"
   ]
  },
  {
   "cell_type": "code",
   "execution_count": 7,
   "metadata": {},
   "outputs": [],
   "source": [
    "view_cols = [\n",
    "    'address_full',\n",
    "    'address_full_closest_fiber',\n",
    "    'closest_fiber_miles',\n",
    "    'speed_down',\n",
    "    'median_household_income',\n",
    "    'median_household_income_closest_fiber',\n",
    "    'race_perc_non_white',\n",
    "    'race_perc_non_white_closest_fiber'\n",
    "    \n",
    "]"
   ]
  },
  {
   "cell_type": "code",
   "execution_count": 8,
   "metadata": {},
   "outputs": [],
   "source": [
    "for isp, fn in inputs.items():\n",
    "    df = filter_df(fn, isp)\n",
    "    break"
   ]
  },
  {
   "cell_type": "code",
   "execution_count": 14,
   "metadata": {},
   "outputs": [
    {
     "name": "stdout",
     "output_type": "stream",
     "text": [
      "                          address_full        address_full_closest_fiber  \\\n",
      "9625    30 5th St NE, Atlanta GA 30308   402 5th St NE, Atlanta GA 30308   \n",
      "5760  199 14th St NE, Atlanta GA 30309  194 14th St NW, Atlanta GA 30318   \n",
      "5748  181 14th St NE, Atlanta GA 30309  194 14th St NW, Atlanta GA 30318   \n",
      "\n",
      "      closest_fiber_miles  speed_down  median_household_income  \\\n",
      "9625                  0.0        18.0                 112778.0   \n",
      "5760                  0.0        50.0                 109674.0   \n",
      "5748                  0.0        18.0                 109674.0   \n",
      "\n",
      "      median_household_income_closest_fiber  race_perc_non_white  \\\n",
      "9625                               112778.0             0.233680   \n",
      "5760                               109674.0             0.251443   \n",
      "5748                               109674.0             0.251443   \n",
      "\n",
      "      race_perc_non_white_closest_fiber  \n",
      "9625                           0.233680  \n",
      "5760                           0.251443  \n",
      "5748                           0.251443  \n"
     ]
    }
   ],
   "source": [
    "for city, df__ in df.groupby('major_city'):\n",
    "    df__ = get_closest_fiber(df__.reset_index(drop=True))\n",
    "    print(df__[df__.speed_down < 200][view_cols].sort_values('closest_fiber_miles').head(3))\n",
    "    break"
   ]
  },
  {
   "cell_type": "code",
   "execution_count": 22,
   "metadata": {},
   "outputs": [
    {
     "data": {
      "text/html": [
       "<div>\n",
       "<style scoped>\n",
       "    .dataframe tbody tr th:only-of-type {\n",
       "        vertical-align: middle;\n",
       "    }\n",
       "\n",
       "    .dataframe tbody tr th {\n",
       "        vertical-align: top;\n",
       "    }\n",
       "\n",
       "    .dataframe thead th {\n",
       "        text-align: right;\n",
       "    }\n",
       "</style>\n",
       "<table border=\"1\" class=\"dataframe\">\n",
       "  <thead>\n",
       "    <tr style=\"text-align: right;\">\n",
       "      <th></th>\n",
       "      <th>address_full</th>\n",
       "      <th>address_full_closest_fiber</th>\n",
       "      <th>closest_fiber_miles</th>\n",
       "      <th>speed_down</th>\n",
       "      <th>median_household_income</th>\n",
       "      <th>median_household_income_closest_fiber</th>\n",
       "      <th>race_perc_non_white</th>\n",
       "      <th>race_perc_non_white_closest_fiber</th>\n",
       "    </tr>\n",
       "  </thead>\n",
       "  <tbody>\n",
       "    <tr>\n",
       "      <th>9605</th>\n",
       "      <td>729 Brittain Dr NW, Atlanta GA 30313</td>\n",
       "      <td>708 Spring St NW, Atlanta GA 30308</td>\n",
       "      <td>0.210075</td>\n",
       "      <td>10.0</td>\n",
       "      <td>31042.0</td>\n",
       "      <td>115500.0</td>\n",
       "      <td>0.576454</td>\n",
       "      <td>0.266111</td>\n",
       "    </tr>\n",
       "    <tr>\n",
       "      <th>1260</th>\n",
       "      <td>1664 Briarcliff Rd NE, Atlanta GA 30306</td>\n",
       "      <td>1776 Johnson Rd NE, Atlanta GA 30306</td>\n",
       "      <td>0.210195</td>\n",
       "      <td>50.0</td>\n",
       "      <td>30486.0</td>\n",
       "      <td>170096.0</td>\n",
       "      <td>0.533031</td>\n",
       "      <td>0.140210</td>\n",
       "    </tr>\n",
       "    <tr>\n",
       "      <th>1274</th>\n",
       "      <td>120 North Ave NW, Atlanta GA 30313</td>\n",
       "      <td>699 Spring St NW, Atlanta GA 30308</td>\n",
       "      <td>0.221963</td>\n",
       "      <td>5.0</td>\n",
       "      <td>23250.0</td>\n",
       "      <td>115500.0</td>\n",
       "      <td>0.588896</td>\n",
       "      <td>0.266111</td>\n",
       "    </tr>\n",
       "  </tbody>\n",
       "</table>\n",
       "</div>"
      ],
      "text/plain": [
       "                                 address_full  \\\n",
       "9605     729 Brittain Dr NW, Atlanta GA 30313   \n",
       "1260  1664 Briarcliff Rd NE, Atlanta GA 30306   \n",
       "1274       120 North Ave NW, Atlanta GA 30313   \n",
       "\n",
       "                address_full_closest_fiber  closest_fiber_miles  speed_down  \\\n",
       "9605    708 Spring St NW, Atlanta GA 30308             0.210075        10.0   \n",
       "1260  1776 Johnson Rd NE, Atlanta GA 30306             0.210195        50.0   \n",
       "1274    699 Spring St NW, Atlanta GA 30308             0.221963         5.0   \n",
       "\n",
       "      median_household_income  median_household_income_closest_fiber  \\\n",
       "9605                  31042.0                               115500.0   \n",
       "1260                  30486.0                               170096.0   \n",
       "1274                  23250.0                               115500.0   \n",
       "\n",
       "      race_perc_non_white  race_perc_non_white_closest_fiber  \n",
       "9605             0.576454                           0.266111  \n",
       "1260             0.533031                           0.140210  \n",
       "1274             0.588896                           0.266111  "
      ]
     },
     "execution_count": 22,
     "metadata": {},
     "output_type": "execute_result"
    }
   ],
   "source": [
    "# get the three closest address pairs where an address in a low income area is closest to a blazing fast offer to an upper income area.\n",
    "df__[(df__.income_level == 'Low') & \n",
    "     (df__.income_level_closest_fiber == 'Upper Income')].sort_values('closest_fiber_miles')[view_cols].head(3)"
   ]
  },
  {
   "cell_type": "code",
   "execution_count": null,
   "metadata": {},
   "outputs": [],
   "source": []
  }
 ],
 "metadata": {
  "kernelspec": {
   "display_name": "Python 3",
   "language": "python",
   "name": "python3"
  },
  "language_info": {
   "codemirror_mode": {
    "name": "ipython",
    "version": 3
   },
   "file_extension": ".py",
   "mimetype": "text/x-python",
   "name": "python",
   "nbconvert_exporter": "python",
   "pygments_lexer": "ipython3",
   "version": "3.8.1"
  }
 },
 "nbformat": 4,
 "nbformat_minor": 4
}
