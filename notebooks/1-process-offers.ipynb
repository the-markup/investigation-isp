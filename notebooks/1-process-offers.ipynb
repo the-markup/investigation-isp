{
 "cells": [
  {
   "cell_type": "markdown",
   "metadata": {},
   "source": [
    "# Parsing and Processing Lookup Responses"
   ]
  },
  {
   "cell_type": "code",
   "execution_count": 1,
   "metadata": {},
   "outputs": [],
   "source": [
    "%load_ext autoreload\n",
    "%autoreload 2"
   ]
  },
  {
   "cell_type": "code",
   "execution_count": 2,
   "metadata": {},
   "outputs": [],
   "source": [
    "import os\n",
    "import glob\n",
    "import gzip\n",
    "import json\n",
    "from datetime import datetime\n",
    "\n",
    "import multiprocess\n",
    "import numpy as np\n",
    "from tqdm import tqdm\n",
    "import pandas as pd\n",
    "\n",
    "from config import (\n",
    "    inc_city_att, \n",
    "    inc_city_cl, \n",
    "    inc_city_verizon, \n",
    "    inc_city_el\n",
    ")\n",
    "from parsers import (\n",
    "    cl_workflow, \n",
    "    att_workflow, \n",
    "    verizon_workflow, \n",
    "    el_workflow, \n",
    "    get_incorporated_places, \n",
    "    check_redlining, \n",
    "    get_holc_grade, \n",
    "    get_closest_fiber\n",
    ")"
   ]
  },
  {
   "cell_type": "code",
   "execution_count": 3,
   "metadata": {},
   "outputs": [],
   "source": [
    "# inputs\n",
    "fn_acs = '../data/intermediary/census/aggregated_tables_plus_features.csv.gz'\n",
    "pattern_att = '../data/intermediary/isp/att/*/*.geojson.gz' # pattern for all data collected from lookup tools\n",
    "pattern_cl = '../data/intermediary/isp/centurylink/*/*.geojson.gz'\n",
    "pattern_verizon = '../data/intermediary/isp/verizon/*/*.geojson.gz'\n",
    "pattern_el = \"../data/intermediary/isp/earthlink/*/*.geojson.gz\"\n",
    "\n",
    "# outputs\n",
    "fn_att = \"../data/output/speed_price_att.csv.gz\"\n",
    "fn_cl = '../data/output/speed_price_centurylink.csv.gz'\n",
    "fn_verizon = '../data/output/speed_price_verizon.csv.gz'\n",
    "fn_el = '../data/output/speed_price_earthlink.csv.gz'\n",
    "\n",
    "# params\n",
    "n_jobs = 20\n",
    "recalculate = False"
   ]
  },
  {
   "cell_type": "code",
   "execution_count": 4,
   "metadata": {},
   "outputs": [],
   "source": [
    "# This is from Census data we crunched in the previous notebook.\n",
    "acs = pd.read_csv(fn_acs, dtype={'geoid': str, 'block_group': str})\n",
    "\n",
    "# These are the columns we're going to bring to merge with lookup responses.\n",
    "acs_cols = [\n",
    "    'geoid', 'race_perc_non_white','income_lmi', \n",
    "    'ppl_per_sq_mile', 'n_providers', 'income_dollars_below_median',\n",
    "    'internet_perc_broadband', 'median_household_income'\n",
    "]"
   ]
  },
  {
   "cell_type": "markdown",
   "metadata": {},
   "source": [
    "## Total data collected"
   ]
  },
  {
   "cell_type": "code",
   "execution_count": 5,
   "metadata": {},
   "outputs": [],
   "source": [
    "def count_addresses(fn):\n",
    "    \"\"\"\n",
    "    How many addresses did we successfully collect in each file?\n",
    "    \"\"\"\n",
    "    import gzip\n",
    "    import json\n",
    "    count = 0\n",
    "    with gzip.open(fn, 'rb') as f:\n",
    "        for line in f.readlines():\n",
    "            record = json.loads(line)\n",
    "            if record['collection_status'] != 0:\n",
    "                count += 1\n",
    "    return count \n",
    "\n",
    "def count_successful_addresses(pattern, n_jobs=20):\n",
    "    \"\"\"\n",
    "    For all files in `pattern`, sees how many addresses were successfully counted.\n",
    "    Uses multiprocessing to speed things up.\n",
    "    \"\"\"\n",
    "    files = glob.glob(pattern)\n",
    "    count = 0\n",
    "    with multiprocess.get_context(\"spawn\").Pool(n_jobs) as pool:\n",
    "        for _count in tqdm(pool.imap_unordered(count_addresses, files), \n",
    "                           total=len(files)):\n",
    "            count += _count\n",
    "    return count"
   ]
  },
  {
   "cell_type": "code",
   "execution_count": 6,
   "metadata": {},
   "outputs": [
    {
     "name": "stderr",
     "output_type": "stream",
     "text": [
      "100%|██████████| 12526/12526 [00:17<00:00, 709.18it/s] \n",
      "100%|██████████| 10026/10026 [00:05<00:00, 1866.49it/s]\n",
      "100%|██████████| 5891/5891 [00:05<00:00, 1015.71it/s]\n",
      "100%|██████████| 17167/17167 [00:21<00:00, 783.85it/s]"
     ]
    },
    {
     "name": "stdout",
     "output_type": "stream",
     "text": [
      "AT&T: 456134\n",
      "Verizon: 312357\n",
      "CenturyLink: 245139\n",
      "EarthLink: 593334\n",
      "Total: 1606964\n"
     ]
    },
    {
     "name": "stderr",
     "output_type": "stream",
     "text": [
      "\n"
     ]
    }
   ],
   "source": [
    "att_count = count_successful_addresses(pattern_att, n_jobs=n_jobs)\n",
    "verizon_count = count_successful_addresses(pattern_verizon, n_jobs=n_jobs)\n",
    "cl_count = count_successful_addresses(pattern_cl, n_jobs=n_jobs)\n",
    "el_count = count_successful_addresses(pattern_el, n_jobs=n_jobs)\n",
    "all_records = att_count + verizon_count + cl_count + el_count \n",
    "\n",
    "print(f\"\"\"AT&T: {att_count}\n",
    "Verizon: {verizon_count}\n",
    "CenturyLink: {cl_count}\n",
    "EarthLink: {el_count}\n",
    "Total: {all_records}\"\"\")"
   ]
  },
  {
   "cell_type": "markdown",
   "metadata": {},
   "source": [
    "## Functions we're going to be using"
   ]
  },
  {
   "cell_type": "markdown",
   "metadata": {},
   "source": [
    "We `check_redlining` grades by looking if an addresses' coordinates (converted to a Shapely `Point`) are within the `Polygon`s of redlining maps by Mapping Inequality. This actual check is done by `get_holc_grade`."
   ]
  },
  {
   "cell_type": "code",
   "execution_count": 7,
   "metadata": {},
   "outputs": [
    {
     "data": {
      "text/plain": [
       "\u001b[0;31mSignature:\u001b[0m \u001b[0mget_holc_grade\u001b[0m\u001b[0;34m(\u001b[0m\u001b[0mrow\u001b[0m\u001b[0;34m:\u001b[0m \u001b[0mdict\u001b[0m\u001b[0;34m,\u001b[0m \u001b[0mpolygons\u001b[0m\u001b[0;34m:\u001b[0m \u001b[0mlist\u001b[0m\u001b[0;34m)\u001b[0m \u001b[0;34m->\u001b[0m \u001b[0mstr\u001b[0m\u001b[0;34m\u001b[0m\u001b[0;34m\u001b[0m\u001b[0m\n",
       "\u001b[0;31mSource:\u001b[0m   \n",
       "\u001b[0;32mdef\u001b[0m \u001b[0mget_holc_grade\u001b[0m\u001b[0;34m(\u001b[0m\u001b[0mrow\u001b[0m\u001b[0;34m:\u001b[0m \u001b[0mdict\u001b[0m\u001b[0;34m,\u001b[0m \u001b[0;34m\u001b[0m\n",
       "\u001b[0;34m\u001b[0m                   \u001b[0mpolygons\u001b[0m\u001b[0;34m:\u001b[0m \u001b[0mlist\u001b[0m\u001b[0;34m)\u001b[0m \u001b[0;34m->\u001b[0m \u001b[0mstr\u001b[0m\u001b[0;34m:\u001b[0m\u001b[0;34m\u001b[0m\n",
       "\u001b[0;34m\u001b[0m    \u001b[0;34m\"\"\"\u001b[0m\n",
       "\u001b[0;34m    Converts any lat and lon in a dictionary into a shapely point,\u001b[0m\n",
       "\u001b[0;34m    then iterate through a list of dictionaries containing \u001b[0m\n",
       "\u001b[0;34m    shapely polygons shapes for each HOLC-graded area.\u001b[0m\n",
       "\u001b[0;34m    \"\"\"\u001b[0m\u001b[0;34m\u001b[0m\n",
       "\u001b[0;34m\u001b[0m    \u001b[0mpoint\u001b[0m \u001b[0;34m=\u001b[0m \u001b[0mPoint\u001b[0m\u001b[0;34m(\u001b[0m\u001b[0mfloat\u001b[0m\u001b[0;34m(\u001b[0m\u001b[0mrow\u001b[0m\u001b[0;34m[\u001b[0m\u001b[0;34m'lon'\u001b[0m\u001b[0;34m]\u001b[0m\u001b[0;34m)\u001b[0m\u001b[0;34m,\u001b[0m \u001b[0mfloat\u001b[0m\u001b[0;34m(\u001b[0m\u001b[0mrow\u001b[0m\u001b[0;34m[\u001b[0m\u001b[0;34m'lat'\u001b[0m\u001b[0;34m]\u001b[0m\u001b[0;34m)\u001b[0m\u001b[0;34m)\u001b[0m\u001b[0;34m\u001b[0m\n",
       "\u001b[0;34m\u001b[0m    \u001b[0;32mfor\u001b[0m \u001b[0mpolygon\u001b[0m \u001b[0;32min\u001b[0m \u001b[0mpolygons\u001b[0m\u001b[0;34m:\u001b[0m\u001b[0;34m\u001b[0m\n",
       "\u001b[0;34m\u001b[0m        \u001b[0;32mif\u001b[0m \u001b[0mpolygon\u001b[0m\u001b[0;34m[\u001b[0m\u001b[0;34m'shape'\u001b[0m\u001b[0;34m]\u001b[0m\u001b[0;34m.\u001b[0m\u001b[0mcontains\u001b[0m\u001b[0;34m(\u001b[0m\u001b[0mpoint\u001b[0m\u001b[0;34m)\u001b[0m\u001b[0;34m:\u001b[0m\u001b[0;34m\u001b[0m\n",
       "\u001b[0;34m\u001b[0m            \u001b[0;32mreturn\u001b[0m \u001b[0mpolygon\u001b[0m\u001b[0;34m[\u001b[0m\u001b[0;34m'grade'\u001b[0m\u001b[0;34m]\u001b[0m\u001b[0;34m\u001b[0m\n",
       "\u001b[0;34m\u001b[0m    \u001b[0;32mreturn\u001b[0m \u001b[0;32mNone\u001b[0m\u001b[0;34m\u001b[0m\u001b[0;34m\u001b[0m\u001b[0m\n",
       "\u001b[0;31mFile:\u001b[0m      ~/code/1_production-grade/isp/notebooks/parsers.py\n",
       "\u001b[0;31mType:\u001b[0m      function\n"
      ]
     },
     "metadata": {},
     "output_type": "display_data"
    }
   ],
   "source": [
    "??get_holc_grade"
   ]
  },
  {
   "cell_type": "markdown",
   "metadata": {},
   "source": [
    "## ATT"
   ]
  },
  {
   "cell_type": "code",
   "execution_count": 8,
   "metadata": {},
   "outputs": [],
   "source": [
    "states = []"
   ]
  },
  {
   "cell_type": "code",
   "execution_count": 9,
   "metadata": {},
   "outputs": [],
   "source": [
    "if not os.path.exists(fn_att) or recalculate:\n",
    "    # find the data we collected for each block group.\n",
    "    data_att = []\n",
    "    files = glob.glob(pattern_att)\n",
    "    with multiprocess.Pool(n_jobs) as pool:\n",
    "        # create parallel jobs that parse each block group of data using `att_workflow`.\n",
    "        for record in tqdm(pool.imap_unordered(att_workflow, files), \n",
    "                           total=len(files)):\n",
    "            data_att.extend(record)\n",
    "    att = pd.DataFrame(data_att)\n",
    "    del data_att\n",
    "    \n",
    "    # only keep addresses in the incorporated city\n",
    "    att = att[att.incorporated_place.isin(inc_city_att)]\n",
    "    att['block_group'] = att['block_group'].apply(lambda x: f\"{int(x):012d}\")\n",
    "    \n",
    "    # check HOLC-grades for each address, and the distance to download speeds at or above 200 Mbps\n",
    "    att = check_redlining(att)\n",
    "    # merge census data, and save the file\n",
    "    att_acs = att.merge(acs[acs_cols], how='left',\n",
    "                        left_on='block_group', right_on='geoid')\n",
    "    att_acs = att_acs[[c for c in att_acs.columns if c != 'geoid']]\n",
    "    att_acs.to_csv(fn_att, index=False, compression='gzip')\n",
    "else:\n",
    "    att_acs = pd.read_csv(fn_att)"
   ]
  },
  {
   "cell_type": "code",
   "execution_count": 10,
   "metadata": {},
   "outputs": [
    {
     "data": {
      "text/plain": [
       "[datetime.datetime(2022, 4, 18, 2, 18, 2),\n",
       " datetime.datetime(2022, 9, 27, 15, 27, 11)]"
      ]
     },
     "execution_count": 10,
     "metadata": {},
     "output_type": "execute_result"
    }
   ],
   "source": [
    "# start and end collection datetime\n",
    "[datetime.fromtimestamp(att_acs.collection_datetime.min()), \n",
    " datetime.fromtimestamp(att_acs.collection_datetime.max())]"
   ]
  },
  {
   "cell_type": "code",
   "execution_count": 11,
   "metadata": {},
   "outputs": [
    {
     "data": {
      "text/plain": [
       "20"
      ]
     },
     "execution_count": 11,
     "metadata": {},
     "output_type": "execute_result"
    }
   ],
   "source": [
    "att_acs['state'].nunique()"
   ]
  },
  {
   "cell_type": "code",
   "execution_count": 12,
   "metadata": {},
   "outputs": [
    {
     "data": {
      "text/plain": [
       "432303"
      ]
     },
     "execution_count": 12,
     "metadata": {},
     "output_type": "execute_result"
    }
   ],
   "source": [
    "len(att_acs)"
   ]
  },
  {
   "cell_type": "code",
   "execution_count": 13,
   "metadata": {},
   "outputs": [],
   "source": [
    "states.extend(att_acs['state'].unique())"
   ]
  },
  {
   "cell_type": "code",
   "execution_count": 14,
   "metadata": {},
   "outputs": [
    {
     "data": {
      "text/plain": [
       "C    0.504526\n",
       "D    0.286795\n",
       "B    0.159317\n",
       "A    0.049362\n",
       "Name: redlining_grade, dtype: float64"
      ]
     },
     "execution_count": 14,
     "metadata": {},
     "output_type": "execute_result"
    }
   ],
   "source": [
    "att_acs.redlining_grade.value_counts(normalize=True)"
   ]
  },
  {
   "cell_type": "markdown",
   "metadata": {},
   "source": [
    "## Centurylink"
   ]
  },
  {
   "cell_type": "code",
   "execution_count": 15,
   "metadata": {},
   "outputs": [
    {
     "name": "stderr",
     "output_type": "stream",
     "text": [
      "<ipython-input-15-3a03e42623cc>:19: DtypeWarning: Columns (19) have mixed types. Specify dtype option on import or set low_memory=False.\n",
      "  cl_acs = pd.read_csv(fn_cl)\n"
     ]
    }
   ],
   "source": [
    "if not os.path.exists(fn_cl) or recalculate:\n",
    "    data_cl = []\n",
    "    files = glob.glob(pattern_cl)\n",
    "    with multiprocess.Pool(n_jobs) as pool:\n",
    "        for record in tqdm(pool.imap_unordered(cl_workflow, files), \n",
    "                           total=len(files)):\n",
    "            data_cl.extend(record)\n",
    "    cl = pd.DataFrame(data_cl)\n",
    "    del data_cl\n",
    "    \n",
    "    cl = cl[cl['incorporated_place'].isin(inc_city_cl)]\n",
    "    cl = cl[cl.speed_down != 940]\n",
    "    \n",
    "    cl = check_redlining(cl)\n",
    "    cl_acs = cl.merge(acs[acs_cols], how='left', \n",
    "                      left_on='block_group', right_on='geoid')\n",
    "    cl_acs.to_csv(fn_cl, index=False, compression='gzip')\n",
    "else:\n",
    "    cl_acs = pd.read_csv(fn_cl)"
   ]
  },
  {
   "cell_type": "code",
   "execution_count": 16,
   "metadata": {},
   "outputs": [
    {
     "data": {
      "text/plain": [
       "[datetime.datetime(2022, 4, 15, 18, 4, 41),\n",
       " datetime.datetime(2022, 4, 17, 17, 34, 25)]"
      ]
     },
     "execution_count": 16,
     "metadata": {},
     "output_type": "execute_result"
    }
   ],
   "source": [
    "# start and end collection datetime\n",
    "[datetime.fromtimestamp(cl_acs.collection_datetime.min()), \n",
    " datetime.fromtimestamp(cl_acs.collection_datetime.max())]"
   ]
  },
  {
   "cell_type": "code",
   "execution_count": 17,
   "metadata": {},
   "outputs": [
    {
     "data": {
      "text/plain": [
       "186611"
      ]
     },
     "execution_count": 17,
     "metadata": {},
     "output_type": "execute_result"
    }
   ],
   "source": [
    "len(cl_acs)"
   ]
  },
  {
   "cell_type": "code",
   "execution_count": 18,
   "metadata": {},
   "outputs": [
    {
     "data": {
      "text/plain": [
       "15"
      ]
     },
     "execution_count": 18,
     "metadata": {},
     "output_type": "execute_result"
    }
   ],
   "source": [
    "cl_acs['state'].nunique()"
   ]
  },
  {
   "cell_type": "code",
   "execution_count": 19,
   "metadata": {},
   "outputs": [],
   "source": [
    "states.extend(cl_acs['state'].unique())"
   ]
  },
  {
   "cell_type": "code",
   "execution_count": 20,
   "metadata": {},
   "outputs": [
    {
     "data": {
      "text/plain": [
       "C    0.361080\n",
       "B    0.358197\n",
       "D    0.178315\n",
       "A    0.102409\n",
       "Name: redlining_grade, dtype: float64"
      ]
     },
     "execution_count": 20,
     "metadata": {},
     "output_type": "execute_result"
    }
   ],
   "source": [
    "cl_acs.redlining_grade.value_counts(normalize=True)"
   ]
  },
  {
   "cell_type": "markdown",
   "metadata": {},
   "source": [
    "## Verizon"
   ]
  },
  {
   "cell_type": "code",
   "execution_count": 21,
   "metadata": {},
   "outputs": [
    {
     "name": "stderr",
     "output_type": "stream",
     "text": [
      "<ipython-input-21-49db80972a30>:21: DtypeWarning: Columns (20) have mixed types. Specify dtype option on import or set low_memory=False.\n",
      "  verizon_acs = pd.read_csv(fn_verizon)\n"
     ]
    }
   ],
   "source": [
    "if not os.path.exists(fn_verizon) or recalculate:\n",
    "    data_verizon = []\n",
    "    files = glob.glob(pattern_verizon)\n",
    "    with multiprocess.Pool(n_jobs) as pool:\n",
    "        for record in tqdm(pool.imap_unordered(verizon_workflow, files), \n",
    "                           total=len(files)):\n",
    "            data_verizon.extend(record)\n",
    "    verizon = pd.DataFrame(data_verizon)\n",
    "    del data_verizon\n",
    "    \n",
    "    verizon = verizon[verizon.incorporated_place.isin(inc_city_verizon)]\n",
    "    \n",
    "    verizon['lon'] = verizon['lon'].astype(float)\n",
    "    verizon['lat'] = verizon['lat'].astype(float)    \n",
    "    verizon = check_redlining(verizon)\n",
    "    \n",
    "    verizon_acs = verizon.merge(acs[acs_cols], how='left',\n",
    "                                left_on='block_group', right_on='geoid')\n",
    "    verizon_acs.to_csv(fn_verizon, index=False, compression='gzip')\n",
    "else:\n",
    "    verizon_acs = pd.read_csv(fn_verizon)"
   ]
  },
  {
   "cell_type": "code",
   "execution_count": 22,
   "metadata": {},
   "outputs": [
    {
     "data": {
      "text/plain": [
       "[datetime.datetime(2022, 4, 19, 17, 4, 55),\n",
       " datetime.datetime(2022, 4, 27, 23, 47, 27)]"
      ]
     },
     "execution_count": 22,
     "metadata": {},
     "output_type": "execute_result"
    }
   ],
   "source": [
    "# start and end collection datetime\n",
    "[datetime.fromtimestamp(verizon_acs.collection_datetime.min()), \n",
    " datetime.fromtimestamp(verizon_acs.collection_datetime.max())]"
   ]
  },
  {
   "cell_type": "code",
   "execution_count": 23,
   "metadata": {},
   "outputs": [
    {
     "data": {
      "text/plain": [
       "9"
      ]
     },
     "execution_count": 23,
     "metadata": {},
     "output_type": "execute_result"
    }
   ],
   "source": [
    "verizon_acs['state'].nunique()"
   ]
  },
  {
   "cell_type": "code",
   "execution_count": 24,
   "metadata": {},
   "outputs": [],
   "source": [
    "states.extend(verizon_acs['state'].unique())"
   ]
  },
  {
   "cell_type": "code",
   "execution_count": 25,
   "metadata": {},
   "outputs": [
    {
     "data": {
      "text/plain": [
       "C    0.418662\n",
       "D    0.354534\n",
       "B    0.202327\n",
       "A    0.023830\n",
       "E    0.000648\n",
       "Name: redlining_grade, dtype: float64"
      ]
     },
     "execution_count": 25,
     "metadata": {},
     "output_type": "execute_result"
    }
   ],
   "source": [
    "verizon_acs.redlining_grade.value_counts(normalize=True)"
   ]
  },
  {
   "cell_type": "markdown",
   "metadata": {},
   "source": [
    "## Earthlink"
   ]
  },
  {
   "cell_type": "code",
   "execution_count": 26,
   "metadata": {},
   "outputs": [],
   "source": [
    "if not os.path.exists(fn_el) or recalculate:\n",
    "    data_el = []\n",
    "    files = glob.glob(pattern_el)\n",
    "    with multiprocess.Pool(n_jobs) as pool:\n",
    "        for record in tqdm(pool.imap_unordered(el_workflow, files), \n",
    "                           total=len(files)):\n",
    "            data_el.extend(record)\n",
    "    el = pd.DataFrame(data_el)\n",
    "    del data_el\n",
    "    \n",
    "    el['block_group'] = el['block_group'].apply(lambda x: f\"{int(x):012d}\")\n",
    "    el = check_redlining(el)    \n",
    "    el_acs = el.merge(acs[acs_cols], how='left', \n",
    "                      left_on='block_group', right_on='geoid')\n",
    "    el_acs = el_acs[el_acs.incorporated_place.isin(inc_city_el)]\n",
    "    el_acs.to_csv(fn_el, index=False, compression='gzip')\n",
    "else:\n",
    "    el_acs = pd.read_csv(fn_el)"
   ]
  },
  {
   "cell_type": "code",
   "execution_count": 27,
   "metadata": {},
   "outputs": [
    {
     "data": {
      "text/plain": [
       "[datetime.datetime(2022, 4, 20, 1, 45, 42),\n",
       " datetime.datetime(2022, 10, 1, 17, 0, 29)]"
      ]
     },
     "execution_count": 27,
     "metadata": {},
     "output_type": "execute_result"
    }
   ],
   "source": [
    "# start and end collection datetime\n",
    "[datetime.fromtimestamp(el_acs.collection_datetime.min()), \n",
    " datetime.fromtimestamp(el_acs.collection_datetime.max())]"
   ]
  },
  {
   "cell_type": "code",
   "execution_count": 28,
   "metadata": {},
   "outputs": [
    {
     "data": {
      "text/plain": [
       "datetime.datetime(2022, 5, 25, 17, 1, 44)"
      ]
     },
     "execution_count": 28,
     "metadata": {},
     "output_type": "execute_result"
    }
   ],
   "source": [
    "datetime.fromtimestamp(el_acs[~el_acs.major_city.isin(['nashville', 'columbus'])].collection_datetime.max())"
   ]
  },
  {
   "cell_type": "code",
   "execution_count": 29,
   "metadata": {},
   "outputs": [
    {
     "data": {
      "text/plain": [
       "35"
      ]
     },
     "execution_count": 29,
     "metadata": {},
     "output_type": "execute_result"
    }
   ],
   "source": [
    "el_acs['state'].nunique()"
   ]
  },
  {
   "cell_type": "code",
   "execution_count": 30,
   "metadata": {},
   "outputs": [
    {
     "data": {
      "text/plain": [
       "46"
      ]
     },
     "execution_count": 30,
     "metadata": {},
     "output_type": "execute_result"
    }
   ],
   "source": [
    "# how many states did we collect data from?\n",
    "states.extend(el_acs['state'].unique())\n",
    "len(set(states))"
   ]
  },
  {
   "cell_type": "code",
   "execution_count": 31,
   "metadata": {},
   "outputs": [
    {
     "data": {
      "text/plain": [
       "AT&T           285950\n",
       "CenturyLink    112455\n",
       "Frontier         8376\n",
       "Name: contract_provider, dtype: int64"
      ]
     },
     "execution_count": 31,
     "metadata": {},
     "output_type": "execute_result"
    }
   ],
   "source": [
    "# Which ISPs is EarthLink leasing from?\n",
    "el_acs[el_acs.speed_down != 0].contract_provider.value_counts(dropna=False)"
   ]
  },
  {
   "cell_type": "code",
   "execution_count": 32,
   "metadata": {},
   "outputs": [
    {
     "data": {
      "text/plain": [
       "Chicago city                   0.103003\n",
       "Houston city                   0.094457\n",
       "Los Angeles city               0.080532\n",
       "Phoenix city                   0.057785\n",
       "Columbus city                  0.048118\n",
       "Detroit city                   0.045808\n",
       "Jacksonville city              0.041055\n",
       "Charlotte city                 0.036138\n",
       "Portland city                  0.034450\n",
       "Seattle city                   0.032917\n",
       "Oklahoma City city             0.032145\n",
       "Kansas City city               0.030604\n",
       "Las Vegas city                 0.030199\n",
       "Denver city                    0.029746\n",
       "New Orleans city               0.028129\n",
       "Milwaukee city                 0.027319\n",
       "Omaha city                     0.027114\n",
       "Indianapolis city (balance)    0.026439\n",
       "Albuquerque city               0.024725\n",
       "Wichita city                   0.021730\n",
       "Name: incorporated_place, dtype: float64"
      ]
     },
     "execution_count": 32,
     "metadata": {},
     "output_type": "execute_result"
    }
   ],
   "source": [
    "el_acs.incorporated_place.value_counts(normalize=True).head(20)"
   ]
  },
  {
   "cell_type": "code",
   "execution_count": 33,
   "metadata": {},
   "outputs": [
    {
     "data": {
      "text/plain": [
       "Fiber Based    169140\n",
       "Fiber          137543\n",
       "Copper         100098\n",
       "Name: technology, dtype: int64"
      ]
     },
     "execution_count": 33,
     "metadata": {},
     "output_type": "execute_result"
    }
   ],
   "source": [
    "el_acs.technology.value_counts()"
   ]
  },
  {
   "cell_type": "code",
   "execution_count": 34,
   "metadata": {},
   "outputs": [
    {
     "data": {
      "text/plain": [
       "C    0.477026\n",
       "D    0.263527\n",
       "B    0.199072\n",
       "A    0.060375\n",
       "Name: redlining_grade, dtype: float64"
      ]
     },
     "execution_count": 34,
     "metadata": {},
     "output_type": "execute_result"
    }
   ],
   "source": [
    "el_acs.redlining_grade.value_counts(normalize=True)"
   ]
  },
  {
   "cell_type": "code",
   "execution_count": null,
   "metadata": {},
   "outputs": [],
   "source": []
  }
 ],
 "metadata": {
  "kernelspec": {
   "display_name": "Python 3",
   "language": "python",
   "name": "python3"
  },
  "language_info": {
   "codemirror_mode": {
    "name": "ipython",
    "version": 3
   },
   "file_extension": ".py",
   "mimetype": "text/x-python",
   "name": "python",
   "nbconvert_exporter": "python",
   "pygments_lexer": "ipython3",
   "version": "3.8.1"
  }
 },
 "nbformat": 4,
 "nbformat_minor": 4
}
